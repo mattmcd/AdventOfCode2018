{
 "cells": [
  {
   "cell_type": "code",
   "execution_count": 1,
   "metadata": {
    "collapsed": true
   },
   "outputs": [],
   "source": [
    "import numpy as np\n",
    "import pandas as pd\n",
    "import networkx as nx\n",
    "import re\n",
    "from collections import defaultdict, deque\n",
    "import matplotlib.pyplot as plt"
   ]
  },
  {
   "cell_type": "code",
   "execution_count": 2,
   "metadata": {
    "collapsed": true
   },
   "outputs": [],
   "source": [
    "%matplotlib inline"
   ]
  },
  {
   "cell_type": "code",
   "execution_count": 3,
   "metadata": {
    "collapsed": true
   },
   "outputs": [],
   "source": [
    "# Helper function to read input from file if too large to paste inline\n",
    "def read_input(fname):\n",
    "    with open(fname, 'r') as f:\n",
    "        data_str = f.read()\n",
    "    return data_str"
   ]
  },
  {
   "cell_type": "markdown",
   "metadata": {},
   "source": [
    "# Day 1: Chronal Calibration \n",
    "\"We've detected some temporal anomalies,\" one of Santa's Elves at the Temporal Anomaly Research and Detection Instrument Station tells you. She sounded pretty worried when she called you down here. \"At 500-year intervals into the past, someone has been changing Santa's history!\"\n",
    "\n",
    "\"The good news is that the changes won't propagate to our time stream for another 25 days, and we have a device\" - she attaches something to your wrist - \"that will let you fix the changes with no such propagation delay. It's configured to send you 500 years further into the past every few days; that was the best we could do on such short notice.\"\n",
    "\n",
    "\"The bad news is that we are detecting roughly fifty anomalies throughout time; the device will indicate fixed anomalies with stars. The other bad news is that we only have one device and you're the best person for the job! Good lu--\" She taps a button on the device and you suddenly feel like you're falling. To save Christmas, you need to get all fifty stars by December 25th.\n",
    "\n",
    "Collect stars by solving puzzles. Two puzzles will be made available on each day in the advent calendar; the second puzzle is unlocked when you complete the first. Each puzzle grants one star. Good luck!\n",
    "\n",
    "After feeling like you've been falling for a few minutes, you look at the device's tiny screen. \"Error: Device must be calibrated before first use. Frequency drift detected. Cannot maintain destination lock.\" Below the message, the device shows a sequence of changes in frequency (your puzzle input). A value like +6 means the current frequency increases by 6; a value like -3 means the current frequency decreases by 3.\n",
    "\n",
    "For example, if the device displays frequency changes of +1, -2, +3, +1, then starting from a frequency of zero, the following changes would occur:\n",
    "\n",
    "    Current frequency  0, change of +1; resulting frequency  1.\n",
    "    Current frequency  1, change of -2; resulting frequency -1.\n",
    "    Current frequency -1, change of +3; resulting frequency  2.\n",
    "    Current frequency  2, change of +1; resulting frequency  3.\n",
    "    In this example, the resulting frequency is 3.\n",
    "\n",
    "Here are other example situations:\n",
    "\n",
    "    +1, +1, +1 results in  3\n",
    "    +1, +1, -2 results in  0\n",
    "    -1, -2, -3 results in -6\n",
    "\n",
    "Starting with a frequency of zero, what is the resulting frequency after all of the changes in frequency have been applied?\n",
    "\n",
    "Your puzzle answer was 402."
   ]
  },
  {
   "cell_type": "code",
   "execution_count": 4,
   "metadata": {
    "collapsed": true
   },
   "outputs": [],
   "source": [
    "day1_input = read_input('day_01.txt')"
   ]
  },
  {
   "cell_type": "code",
   "execution_count": 5,
   "metadata": {
    "collapsed": true
   },
   "outputs": [],
   "source": [
    "day1_freq_changes = map(int, day1_input.split())"
   ]
  },
  {
   "cell_type": "code",
   "execution_count": 6,
   "metadata": {},
   "outputs": [
    {
     "data": {
      "text/plain": [
       "402"
      ]
     },
     "execution_count": 6,
     "metadata": {},
     "output_type": "execute_result"
    }
   ],
   "source": [
    "# Part 1 - total frequency change\n",
    "sum(day1_freq_changes)"
   ]
  },
  {
   "cell_type": "markdown",
   "metadata": {},
   "source": [
    "## Day 1 Part Two \n",
    "You notice that the device repeats the same frequency change list over and over. To calibrate the device, you need to find the first frequency it reaches twice.\n",
    "\n",
    "For example, using the same list of changes above, the device would loop as follows:\n",
    "\n",
    "    Current frequency  0, change of +1; resulting frequency  1.\n",
    "    Current frequency  1, change of -2; resulting frequency -1.\n",
    "    Current frequency -1, change of +3; resulting frequency  2.\n",
    "    Current frequency  2, change of +1; resulting frequency  3.\n",
    "    (At this point, the device continues from the start of the list.)\n",
    "    Current frequency  3, change of +1; resulting frequency  4.\n",
    "    Current frequency  4, change of -2; resulting frequency  2, which has already been seen.\n",
    "In this example, the first frequency reached twice is 2. Note that your device might need to repeat its list of frequency changes many times before a duplicate frequency is found, and that duplicates might be found while in the middle of processing the list.\n",
    "\n",
    "Here are other examples:\n",
    "\n",
    "    +1, -1 first reaches 0 twice.\n",
    "    +3, +3, +4, -2, -4 first reaches 10 twice.\n",
    "    -6, +3, +8, +5, -6 first reaches 5 twice.\n",
    "    +7, +7, -2, -7, -4 first reaches 14 twice.\n",
    "What is the first frequency your device reaches twice?\n",
    "\n",
    "Your puzzle answer was 481."
   ]
  },
  {
   "cell_type": "code",
   "execution_count": 7,
   "metadata": {
    "collapsed": true
   },
   "outputs": [],
   "source": [
    "def first_freq_seen_twice(changes):\n",
    "    # Keep looping through input and tracking what how many times we've seen current frequency\n",
    "    i = 0\n",
    "    loop_count = 0 \n",
    "    N = len(changes)\n",
    "    seen_twice = None\n",
    "    current_freq = 0\n",
    "    freq_seen = defaultdict(int)\n",
    "    freq_seen[0] = 1\n",
    "    while seen_twice is None:\n",
    "        if i % N == 0:\n",
    "            loop_count += 1\n",
    "        this_change = changes[i % N]\n",
    "        current_freq += this_change\n",
    "        freq_seen[current_freq] += 1\n",
    "        if freq_seen[current_freq] > 1:\n",
    "            seen_twice = current_freq\n",
    "        i += 1\n",
    "    return seen_twice, loop_count"
   ]
  },
  {
   "cell_type": "code",
   "execution_count": 8,
   "metadata": {},
   "outputs": [
    {
     "data": {
      "text/plain": [
       "(481, 142)"
      ]
     },
     "execution_count": 8,
     "metadata": {},
     "output_type": "execute_result"
    }
   ],
   "source": [
    "# first frequency seen twice and number of loop iterations required\n",
    "first_freq_seen_twice(day1_freq_changes)"
   ]
  },
  {
   "cell_type": "markdown",
   "metadata": {},
   "source": [
    "Feels like there should be a smarter way to do this e.g. use cumsum input list somehow.\n",
    "We see from the naive solution that it takes 142 loops to see a frequency again.\n",
    "\n",
    "The plot below shows that the frequency changes are usually small with a few large jumps, and from part 1 we know that each loop has a net offset of +402. So we're interested in number of loops required before second or third regions in plot below start to ovelap either with first region or each other.\n",
    "\n",
    "I don't have a solution for this yet, one to ponder."
   ]
  },
  {
   "cell_type": "code",
   "execution_count": 9,
   "metadata": {},
   "outputs": [
    {
     "data": {
      "image/png": "[encoded data removed]",
      "text/plain": [
       "<matplotlib.figure.Figure at 0x7f0cd828ee90>"
      ]
     },
     "metadata": {},
     "output_type": "display_data"
    }
   ],
   "source": [
    "_ = plt.plot(np.cumsum(day1_freq_changes))\n",
    "_ = plt.show()"
   ]
  },
  {
   "cell_type": "markdown",
   "metadata": {},
   "source": [
    "# Day 2: Inventory Management System \n",
    "You stop falling through time, catch your breath, and check the screen on the device. \"Destination reached. Current Year: 1518. Current Location: North Pole Utility Closet 83N10.\" You made it! Now, to find those anomalies.\n",
    "\n",
    "Outside the utility closet, you hear footsteps and a voice. \"...I'm not sure either. But now that so many people have chimneys, maybe he could sneak in that way?\" Another voice responds, \"Actually, we've been working on a new kind of suit that would let him fit through tight spaces like that. But, I heard that a few days ago, they lost the prototype fabric, the design plans, everything! Nobody on the team can even seem to remember important details of the project!\"\n",
    "\n",
    "\"Wouldn't they have had enough fabric to fill several boxes in the warehouse? They'd be stored together, so the box IDs should be similar. Too bad it would take forever to search the warehouse for two similar box IDs...\" They walk too far away to hear any more.\n",
    "\n",
    "Late at night, you sneak to the warehouse - who knows what kinds of paradoxes you could cause if you were discovered - and use your fancy wrist device to quickly scan every box and produce a list of the likely candidates (your puzzle input).\n",
    "\n",
    "To make sure you didn't miss any, you scan the likely candidate boxes again, counting the number that have an ID containing exactly two of any letter and then separately counting those with exactly three of any letter. You can multiply those two counts together to get a rudimentary checksum and compare it to what your device predicts.\n",
    "\n",
    "For example, if you see the following box IDs:\n",
    "\n",
    "    abcdef contains no letters that appear exactly two or three times.\n",
    "    bababc contains two a and three b, so it counts for both.\n",
    "    abbcde contains two b, but no letter appears exactly three times.\n",
    "    abcccd contains three c, but no letter appears exactly two times.\n",
    "    aabcdd contains two a and two d, but it only counts once.\n",
    "    abcdee contains two e.\n",
    "    ababab contains three a and three b, but it only counts once.\n",
    "Of these box IDs, four of them contain a letter which appears exactly twice, and three of them contain a letter which appears exactly three times. Multiplying these together produces a checksum of 4 * 3 = 12.\n",
    "\n",
    "What is the checksum for your list of box IDs?\n",
    "\n",
    "Your puzzle answer was 6225."
   ]
  },
  {
   "cell_type": "code",
   "execution_count": 10,
   "metadata": {
    "collapsed": true
   },
   "outputs": [],
   "source": [
    "box_ids = read_input('day_02.txt').split('\\n')"
   ]
  },
  {
   "cell_type": "code",
   "execution_count": 11,
   "metadata": {},
   "outputs": [
    {
     "data": {
      "text/plain": [
       "250"
      ]
     },
     "execution_count": 11,
     "metadata": {},
     "output_type": "execute_result"
    }
   ],
   "source": [
    "len(box_ids)"
   ]
  },
  {
   "cell_type": "code",
   "execution_count": 12,
   "metadata": {
    "collapsed": true
   },
   "outputs": [],
   "source": [
    "def count_letters(box_id):\n",
    "    res = defaultdict(int)\n",
    "    for letter in box_id:\n",
    "        res[letter] += 1\n",
    "    count_2 = 1 if 2 in res.values() else 0\n",
    "    count_3 = 1 if 3 in res.values() else 0\n",
    "    return count_2, count_3"
   ]
  },
  {
   "cell_type": "code",
   "execution_count": 13,
   "metadata": {},
   "outputs": [
    {
     "data": {
      "text/plain": [
       "6225"
      ]
     },
     "execution_count": 13,
     "metadata": {},
     "output_type": "execute_result"
    }
   ],
   "source": [
    "# checksum = \n",
    "np.prod(np.array([sum(lst) for lst in zip(*[count_letters(box_id) for box_id in box_ids])]))"
   ]
  },
  {
   "cell_type": "markdown",
   "metadata": {},
   "source": [
    "# Part Two\n",
    "Confident that your list of box IDs is complete, you're ready to find the boxes full of prototype fabric.\n",
    "\n",
    "The boxes will have IDs which differ by exactly one character at the same position in both strings. For example, given the following box IDs:\n",
    "\n",
    "    abcde\n",
    "    fghij\n",
    "    klmno\n",
    "    pqrst\n",
    "    fguij\n",
    "    axcye\n",
    "    wvxyz\n",
    "The IDs abcde and axcye are close, but they differ by two characters (the second and fourth). However, the IDs fghij and fguij differ by exactly one character, the third (h and u). Those must be the correct boxes.\n",
    "\n",
    "What letters are common between the two correct box IDs? (In the example above, this is found by removing the differing character from either ID, producing fgij.)\n",
    "\n",
    "Your puzzle answer was revtaubfniyhsgxdoajwkqilp."
   ]
  },
  {
   "cell_type": "code",
   "execution_count": 14,
   "metadata": {
    "collapsed": true
   },
   "outputs": [],
   "source": [
    "box_ids_ints = np.array([[ord(c) for c in box_id] for box_id in box_ids])"
   ]
  },
  {
   "cell_type": "code",
   "execution_count": 15,
   "metadata": {
    "collapsed": true
   },
   "outputs": [],
   "source": [
    "def find_diff_1_boxes(box_ids):\n",
    "    X = np.array([[ord(c) for c in box_id] for box_id in box_ids])\n",
    "    res = []\n",
    "    n_boxes = len(box_ids)\n",
    "    for i in range(n_boxes):\n",
    "        for j in range(i, n_boxes):\n",
    "            char_diff = np.not_equal(X[i, :] - X[j, :], 0)\n",
    "            n_char_diff = char_diff.sum()\n",
    "            if n_char_diff == 1:\n",
    "                res.append((i, j, int(np.nonzero(char_diff)[0])))\n",
    "    return res"
   ]
  },
  {
   "cell_type": "code",
   "execution_count": 16,
   "metadata": {},
   "outputs": [
    {
     "data": {
      "text/plain": [
       "[('revtaubfniyhusgxdoajwkqilp',\n",
       "  'revtaubfniyhpsgxdoajwkqilp',\n",
       "  'revtaubfniyhsgxdoajwkqilp')]"
      ]
     },
     "execution_count": 16,
     "metadata": {},
     "output_type": "execute_result"
    }
   ],
   "source": [
    "[(box_ids[i], box_ids[j], box_ids[i][:ind] + box_ids[i][ind+1:]) for (i, j, ind) in find_diff_1_boxes(box_ids)]"
   ]
  },
  {
   "cell_type": "markdown",
   "metadata": {},
   "source": [
    "# Day 3: No Matter How You Slice It \n",
    "The Elves managed to locate the chimney-squeeze prototype fabric for Santa's suit (thanks to someone who helpfully wrote its box IDs on the wall of the warehouse in the middle of the night). Unfortunately, anomalies are still affecting them - nobody can even agree on how to cut the fabric.\n",
    "\n",
    "The whole piece of fabric they're working on is a very large square - at least 1000 inches on each side.\n",
    "\n",
    "Each Elf has made a claim about which area of fabric would be ideal for Santa's suit. All claims have an ID and consist of a single rectangle with edges parallel to the edges of the fabric. Each claim's rectangle is defined as follows:\n",
    "\n",
    "* The number of inches between the left edge of the fabric and the left edge of the rectangle.\n",
    "* The number of inches between the top edge of the fabric and the top edge of the rectangle.\n",
    "* The width of the rectangle in inches.\n",
    "* The height of the rectangle in inches.\n",
    "\n",
    "A claim like `#123 @ 3,2: 5x4` means that claim ID 123 specifies a rectangle 3 inches from the left edge, 2 inches from the top edge, 5 inches wide, and 4 inches tall. Visually, it claims the square inches of fabric represented by # (and ignores the square inches of fabric represented by .) in the diagram below:\n",
    "\n",
    "    ...........\n",
    "    ...........\n",
    "    ...#####...\n",
    "    ...#####...\n",
    "    ...#####...\n",
    "    ...#####...\n",
    "    ...........\n",
    "    ...........\n",
    "    ...........\n",
    "The problem is that many of the claims overlap, causing two or more claims to cover part of the same areas. For example, consider the following claims:\n",
    "\n",
    "    #1 @ 1,3: 4x4\n",
    "    #2 @ 3,1: 4x4\n",
    "    #3 @ 5,5: 2x2\n",
    "Visually, these claim the following areas:\n",
    "\n",
    "    ........\n",
    "    ...2222.\n",
    "    ...2222.\n",
    "    .11XX22.\n",
    "    .11XX22.\n",
    "    .111133.\n",
    "    .111133.\n",
    "    ........\n",
    "The four square inches marked with X are claimed by both 1 and 2. (Claim 3, while adjacent to the others, does not overlap either of them.)\n",
    "\n",
    "If the Elves all proceed with their own plans, none of them will have enough fabric. How many square inches of fabric are within two or more claims?\n",
    "\n",
    "Your puzzle answer was 116920."
   ]
  },
  {
   "cell_type": "code",
   "execution_count": 17,
   "metadata": {
    "collapsed": true
   },
   "outputs": [],
   "source": [
    "def parse_day_03():\n",
    "    lines = [line.split() for line in read_input('day_03.txt').split('\\n')]\n",
    "    def parse_rec(rec):\n",
    "        id = int(rec[0].lstrip('#'))\n",
    "        x0, y0 = map(int, rec[2].rstrip(':').split(','))\n",
    "        w, h = map(int, rec[3].split('x'))\n",
    "        return {'id': id, 'x0': x0, 'y0': y0, 'w': w, 'h': h}\n",
    "    recs = map(parse_rec, lines)\n",
    "    return recs"
   ]
  },
  {
   "cell_type": "code",
   "execution_count": 18,
   "metadata": {
    "collapsed": true
   },
   "outputs": [],
   "source": [
    "claims = parse_day_03()"
   ]
  },
  {
   "cell_type": "code",
   "execution_count": 19,
   "metadata": {
    "collapsed": true
   },
   "outputs": [],
   "source": [
    "def find_overlap(claims):\n",
    "    X = np.zeros((1000, 1000))\n",
    "    claim_ok = []\n",
    "    # Part 1: label all the squares claimed\n",
    "    for claim in claims:\n",
    "        X[claim['y0']:claim['y0']+claim['h'], claim['x0']:claim['x0']+claim['w']] += 1\n",
    "    n_overlap = (X > 1).sum()\n",
    "    \n",
    "    # Part 2: check whether a claim is the only one for a given region\n",
    "    for claim in claims:\n",
    "        all_ok = (X[claim['y0']:claim['y0']+claim['h'], claim['x0']:claim['x0']+claim['w']] == 1).all()\n",
    "        if all_ok:\n",
    "            claim_ok.append(claim['id'])\n",
    "            \n",
    "    return n_overlap, claim_ok"
   ]
  },
  {
   "cell_type": "code",
   "execution_count": 20,
   "metadata": {},
   "outputs": [
    {
     "data": {
      "text/plain": [
       "(116920, [382])"
      ]
     },
     "execution_count": 20,
     "metadata": {},
     "output_type": "execute_result"
    }
   ],
   "source": [
    "find_overlap(claims)"
   ]
  },
  {
   "cell_type": "markdown",
   "metadata": {},
   "source": [
    "# Part Two \n",
    "Amidst the chaos, you notice that exactly one claim doesn't overlap by even a single square inch of fabric with any other claim. If you can somehow draw attention to it, maybe the Elves will be able to make Santa's suit after all!\n",
    "\n",
    "For example, in the claims above, only claim 3 is intact after all claims are made.\n",
    "\n",
    "What is the ID of the only claim that doesn't overlap?\n",
    "\n",
    "Your puzzle answer was 382."
   ]
  },
  {
   "cell_type": "markdown",
   "metadata": {},
   "source": [
    "# Day 4: Repose Record \n",
    "You've sneaked into another supply closet - this time, it's across from the prototype suit manufacturing lab. You need to sneak inside and fix the issues with the suit, but there's a guard stationed outside the lab, so this is as close as you can safely get.\n",
    "\n",
    "As you search the closet for anything that might help, you discover that you're not the first person to want to sneak in. Covering the walls, someone has spent an hour starting every midnight for the past few months secretly observing this guard post! They've been writing down the ID of the one guard on duty that night - the Elves seem to have decided that one guard was enough for the overnight shift - as well as when they fall asleep or wake up while at their post (your puzzle input).\n",
    "\n",
    "For example, consider the following records, which have already been organized into chronological order:\n",
    "\n",
    "    [1518-11-01 00:00] Guard #10 begins shift\n",
    "    [1518-11-01 00:05] falls asleep\n",
    "    [1518-11-01 00:25] wakes up\n",
    "    [1518-11-01 00:30] falls asleep\n",
    "    [1518-11-01 00:55] wakes up\n",
    "    [1518-11-01 23:58] Guard #99 begins shift\n",
    "    [1518-11-02 00:40] falls asleep\n",
    "    [1518-11-02 00:50] wakes up\n",
    "    [1518-11-03 00:05] Guard #10 begins shift\n",
    "    [1518-11-03 00:24] falls asleep\n",
    "    [1518-11-03 00:29] wakes up\n",
    "    [1518-11-04 00:02] Guard #99 begins shift\n",
    "    [1518-11-04 00:36] falls asleep\n",
    "    [1518-11-04 00:46] wakes up\n",
    "    [1518-11-05 00:03] Guard #99 begins shift\n",
    "    [1518-11-05 00:45] falls asleep\n",
    "    [1518-11-05 00:55] wakes up\n",
    "Timestamps are written using year-month-day hour:minute format. The guard falling asleep or waking up is always the one whose shift most recently started. Because all asleep/awake times are during the midnight hour (00:00 - 00:59), only the minute portion (00 - 59) is relevant for those events.\n",
    "\n",
    "Visually, these records show that the guards are asleep at these times:\n",
    "\n",
    "    Date   ID   Minute\n",
    "                000000000011111111112222222222333333333344444444445555555555\n",
    "                012345678901234567890123456789012345678901234567890123456789\n",
    "    11-01  #10  .....####################.....#########################.....\n",
    "    11-02  #99  ........................................##########..........\n",
    "    11-03  #10  ........................#####...............................\n",
    "    11-04  #99  ....................................##########..............\n",
    "    11-05  #99  .............................................##########.....\n",
    "The columns are Date, which shows the month-day portion of the relevant day; ID, which shows the guard on duty that day; and Minute, which shows the minutes during which the guard was asleep within the midnight hour. (The Minute column's header shows the minute's ten's digit in the first row and the one's digit in the second row.) Awake is shown as ., and asleep is shown as #.\n",
    "\n",
    "Note that guards count as asleep on the minute they fall asleep, and they count as awake on the minute they wake up. For example, because Guard #10 wakes up at 00:25 on 1518-11-01, minute 25 is marked as awake.\n",
    "\n",
    "If you can figure out the guard most likely to be asleep at a specific time, you might be able to trick that guard into working tonight so you can have the best chance of sneaking in. You have two strategies for choosing the best guard/minute combination.\n",
    "\n",
    "__Strategy 1__: Find the guard that has the most minutes asleep. What minute does that guard spend asleep the most?\n",
    "\n",
    "In the example above, Guard #10 spent the most minutes asleep, a total of 50 minutes (20+25+5), while Guard #99 only slept for a total of 30 minutes (10+10+10). Guard #10 was asleep most during minute 24 (on two days, whereas any other minute the guard was asleep was only seen on one day).\n",
    "\n",
    "While this example listed the entries in chronological order, your entries are in the order you found them. You'll need to organize them before they can be analyzed.\n",
    "\n",
    "What is the ID of the guard you chose multiplied by the minute you chose? (In the above example, the answer would be 10 * 24 = 240.)\n",
    "\n",
    "Your puzzle answer was 146622."
   ]
  },
  {
   "cell_type": "code",
   "execution_count": 21,
   "metadata": {
    "collapsed": true
   },
   "outputs": [],
   "source": [
    "events = sorted(read_input('day_04.txt').split('\\n'))"
   ]
  },
  {
   "cell_type": "code",
   "execution_count": 22,
   "metadata": {
    "collapsed": true
   },
   "outputs": [],
   "source": [
    "def parse_sleep_events(events):\n",
    "    res = []\n",
    "    rec = None\n",
    "    for event in events:\n",
    "        if 'Guard' in event:\n",
    "            # Start new record\n",
    "            if rec is not None:\n",
    "                res.append(rec)\n",
    "            rec = {\n",
    "                'guard_id': int(re.findall('#(\\d+)', event)[0]),\n",
    "                'sleep': [],\n",
    "                'wake': []\n",
    "            }\n",
    "        if 'asleep' in event:\n",
    "            rec['sleep'].append(int(re.findall(' 00:(\\d{2})', event)[0]))\n",
    "        if 'wakes' in event:\n",
    "            rec['wake'].append(int(re.findall(' 00:(\\d{2})', event)[0]))\n",
    "    guard_sleeps = defaultdict(list)\n",
    "    for rec in res:\n",
    "        shift = np.zeros(60, dtype=np.int32)\n",
    "        for sleep in rec['sleep']:\n",
    "            shift[sleep] = 1\n",
    "        for wake in rec['wake']:\n",
    "            shift[wake] = -1\n",
    "        shift = np.cumsum(shift)\n",
    "        guard_sleeps[rec['guard_id']].append(shift)\n",
    "    for guard_id in guard_sleeps.keys():\n",
    "        guard_sleeps[guard_id] = np.array(guard_sleeps[guard_id])\n",
    "    return guard_sleeps"
   ]
  },
  {
   "cell_type": "code",
   "execution_count": 23,
   "metadata": {
    "collapsed": true
   },
   "outputs": [],
   "source": [
    "guard_sleeps = parse_sleep_events(events)"
   ]
  },
  {
   "cell_type": "code",
   "execution_count": 24,
   "metadata": {
    "collapsed": true
   },
   "outputs": [],
   "source": [
    "def find_sleepiest(guard_sleeps):\n",
    "    total_sleep = {k: v.sum() for k, v in guard_sleeps.iteritems()}\n",
    "    sleepiest = None\n",
    "    max_sleep = 0\n",
    "    for guard, sleep in total_sleep.iteritems():\n",
    "        if sleep > max_sleep:\n",
    "            sleepiest = guard\n",
    "            max_sleep = sleep\n",
    "    most_often_asleep = np.argmax(np.sum(guard_sleeps[sleepiest], axis=0))\n",
    "    return sleepiest, max_sleep, most_often_asleep, sleepiest*most_often_asleep"
   ]
  },
  {
   "cell_type": "code",
   "execution_count": 25,
   "metadata": {},
   "outputs": [
    {
     "data": {
      "text/plain": [
       "(3491, 529, 42, 146622)"
      ]
     },
     "execution_count": 25,
     "metadata": {},
     "output_type": "execute_result"
    }
   ],
   "source": [
    "find_sleepiest(guard_sleeps)"
   ]
  },
  {
   "cell_type": "markdown",
   "metadata": {},
   "source": [
    "# Part Two \n",
    "Strategy 2: Of all guards, which guard is most frequently asleep on the same minute?\n",
    "\n",
    "In the example above, Guard #99 spent minute 45 asleep more than any other guard or minute - three times in total. (In all other cases, any guard spent any minute asleep at most twice.)\n",
    "\n",
    "What is the ID of the guard you chose multiplied by the minute you chose? (In the above example, the answer would be 99 * 45 = 4455.)\n",
    "\n",
    "Your puzzle answer was 31848."
   ]
  },
  {
   "cell_type": "code",
   "execution_count": 26,
   "metadata": {
    "collapsed": true
   },
   "outputs": [],
   "source": [
    "def find_most_often_asleep(guard_sleeps):\n",
    "    often_asleep = {k: np.sum(v, axis=0) for k, v in guard_sleeps.iteritems()}\n",
    "    most_sleeps = 0\n",
    "    sleep_time = None\n",
    "    sleep_guard = None\n",
    "    for guard, sleep in often_asleep.iteritems():\n",
    "        if np.max(sleep) > most_sleeps:\n",
    "            most_sleeps = np.max(sleep)\n",
    "            sleep_time = np.argmax(sleep)\n",
    "            sleep_guard = guard\n",
    "    return sleep_guard, most_sleeps, sleep_time, sleep_guard * sleep_time"
   ]
  },
  {
   "cell_type": "code",
   "execution_count": 27,
   "metadata": {},
   "outputs": [
    {
     "data": {
      "text/plain": [
       "(1327, 17, 24, 31848)"
      ]
     },
     "execution_count": 27,
     "metadata": {},
     "output_type": "execute_result"
    }
   ],
   "source": [
    "find_most_often_asleep(guard_sleeps)"
   ]
  },
  {
   "cell_type": "markdown",
   "metadata": {},
   "source": [
    "# Day 5: Alchemical Reduction \n",
    "You've managed to sneak in to the prototype suit manufacturing lab. The Elves are making decent progress, but are still struggling with the suit's size reduction capabilities.\n",
    "\n",
    "While the very latest in 1518 alchemical technology might have solved their problem eventually, you can do better. You scan the chemical composition of the suit's material and discover that it is formed by extremely long polymers (one of which is available as your puzzle input).\n",
    "\n",
    "The polymer is formed by smaller units which, when triggered, react with each other such that two adjacent units of the same type and opposite polarity are destroyed. Units' types are represented by letters; units' polarity is represented by capitalization. For instance, r and R are units with the same type but opposite polarity, whereas r and s are entirely different types and do not react.\n",
    "\n",
    "For example:\n",
    "\n",
    "- In aA, a and A react, leaving nothing behind.\n",
    "- In abBA, bB destroys itself, leaving aA. As above, this then destroys itself, leaving nothing.\n",
    "- In abAB, no two adjacent units are of the same type, and so nothing happens.\n",
    "- In aabAAB, even though aa and AA are of the same type, their polarities match, and so nothing happens.\n",
    "\n",
    "Now, consider a larger example, dabAcCaCBAcCcaDA:\n",
    "\n",
    "    dabAcCaCBAcCcaDA  The first 'cC' is removed.\n",
    "    dabAaCBAcCcaDA    This creates 'Aa', which is removed.\n",
    "    dabCBAcCcaDA      Either 'cC' or 'Cc' are removed (the result is the same).\n",
    "    dabCBAcaDA        No further actions can be taken.\n",
    "After all possible reactions, the resulting polymer contains 10 units.\n",
    "\n",
    "How many units remain after fully reacting the polymer you scanned? \n",
    "\n",
    "Your puzzle answer was 11814."
   ]
  },
  {
   "cell_type": "code",
   "execution_count": 28,
   "metadata": {
    "collapsed": true
   },
   "outputs": [],
   "source": [
    "polymer = read_input('day_05.txt')"
   ]
  },
  {
   "cell_type": "code",
   "execution_count": 29,
   "metadata": {
    "collapsed": true
   },
   "outputs": [],
   "source": [
    "def reduce_polymer(polymer, remove_unit=None):\n",
    "    lower_letters = [chr(x) for x in range(ord('a'), ord('z') + 1)]\n",
    "    upper_letters = [chr(x) for x in range(ord('A'), ord('Z') + 1)]\n",
    "    lower_upper = [low + upp for low, upp in zip(lower_letters, upper_letters)]\n",
    "    upper_lower = [upp + low for low, upp in zip(lower_letters, upper_letters)]\n",
    "    if remove_unit is not None:\n",
    "        polymer = polymer.replace(remove_unit.lower(), '').replace(remove_unit.upper(), '')\n",
    "    n_poly = len(polymer)\n",
    "    n_poly_new = n_poly\n",
    "    done = False\n",
    "    while not done:\n",
    "        for lu in lower_upper:\n",
    "            polymer = polymer.replace(lu, '')\n",
    "        for ul in upper_lower:\n",
    "            polymer = polymer.replace(ul, '')\n",
    "        n_poly_new = len(polymer)\n",
    "        done = n_poly_new == n_poly\n",
    "        n_poly = n_poly_new\n",
    "        \n",
    "    return polymer"
   ]
  },
  {
   "cell_type": "code",
   "execution_count": 30,
   "metadata": {},
   "outputs": [
    {
     "data": {
      "text/plain": [
       "11814"
      ]
     },
     "execution_count": 30,
     "metadata": {},
     "output_type": "execute_result"
    }
   ],
   "source": [
    "len(reduce_polymer(polymer))"
   ]
  },
  {
   "cell_type": "markdown",
   "metadata": {},
   "source": [
    "# Part Two \n",
    "Time to improve the polymer.\n",
    "\n",
    "One of the unit types is causing problems; it's preventing the polymer from collapsing as much as it should. Your goal is to figure out which unit type is causing the most problems, remove all instances of it (regardless of polarity), fully react the remaining polymer, and measure its length.\n",
    "\n",
    "For example, again using the polymer dabAcCaCBAcCcaDA from above:\n",
    "\n",
    "- Removing all A/a units produces dbcCCBcCcD. Fully reacting this polymer produces dbCBcD, which has length 6.\n",
    "- Removing all B/b units produces daAcCaCAcCcaDA. Fully reacting this polymer produces daCAcaDA, which has length 8.\n",
    "- Removing all C/c units produces dabAaBAaDA. Fully reacting this polymer produces daDA, which has length 4.\n",
    "- Removing all D/d units produces abAcCaCBAcCcaA. Fully reacting this polymer produces abCBAc, which has length 6.\n",
    "In this example, removing all C/c units was best, producing the answer 4.\n",
    "\n",
    "What is the length of the shortest polymer you can produce by removing all units of exactly one type and fully reacting the result?\n",
    "\n",
    "Your puzzle answer was 4282."
   ]
  },
  {
   "cell_type": "code",
   "execution_count": 31,
   "metadata": {},
   "outputs": [
    {
     "data": {
      "text/plain": [
       "4282"
      ]
     },
     "execution_count": 31,
     "metadata": {},
     "output_type": "execute_result"
    }
   ],
   "source": [
    "min([len(reduce_polymer(polymer, chr(x))) for x in range(ord('a'), ord('z')+1)])"
   ]
  },
  {
   "cell_type": "markdown",
   "metadata": {},
   "source": [
    "# Day 6: Chronal Coordinates \n",
    "The device on your wrist beeps several times, and once again you feel like you're falling.\n",
    "\n",
    "\"Situation critical,\" the device announces. \"Destination indeterminate. Chronal interference detected. Please specify new target coordinates.\"\n",
    "\n",
    "The device then produces a list of coordinates (your puzzle input). Are they places it thinks are safe or dangerous? It recommends you check manual page 729. The Elves did not give you a manual.\n",
    "\n",
    "If they're dangerous, maybe you can minimize the danger by finding the coordinate that gives the largest distance from the other points.\n",
    "\n",
    "Using only the Manhattan distance, determine the area around each coordinate by counting the number of integer X,Y locations that are closest to that coordinate (and aren't tied in distance to any other coordinate).\n",
    "\n",
    "Your goal is to find the size of the largest area that isn't infinite. For example, consider the following list of coordinates:\n",
    "\n",
    "    1, 1\n",
    "    1, 6\n",
    "    8, 3\n",
    "    3, 4\n",
    "    5, 5\n",
    "    8, 9\n",
    "If we name these coordinates A through F, we can draw them on a grid, putting 0,0 at the top left:\n",
    "\n",
    "    ..........\n",
    "    .A........\n",
    "    ..........\n",
    "    ........C.\n",
    "    ...D......\n",
    "    .....E....\n",
    "    .B........\n",
    "    ..........\n",
    "    ..........\n",
    "    ........F.\n",
    "This view is partial - the actual grid extends infinitely in all directions. Using the Manhattan distance, each location's closest coordinate can be determined, shown here in lowercase:\n",
    "\n",
    "    aaaaa.cccc\n",
    "    aAaaa.cccc\n",
    "    aaaddecccc\n",
    "    aadddeccCc\n",
    "    ..dDdeeccc\n",
    "    bb.deEeecc\n",
    "    bBb.eeee..\n",
    "    bbb.eeefff\n",
    "    bbb.eeffff\n",
    "    bbb.ffffFf\n",
    "Locations shown as . are equally far from two or more coordinates, and so they don't count as being closest to any.\n",
    "\n",
    "In this example, the areas of coordinates A, B, C, and F are infinite - while not shown here, their areas extend forever outside the visible grid. However, the areas of coordinates D and E are finite: D is closest to 9 locations, and E is closest to 17 (both including the coordinate's location itself). Therefore, in this example, the size of the largest area is 17.\n",
    "\n",
    "What is the size of the largest area that isn't infinite?\n",
    "\n",
    "Your puzzle answer was 4342."
   ]
  },
  {
   "cell_type": "code",
   "execution_count": 32,
   "metadata": {
    "collapsed": true
   },
   "outputs": [],
   "source": [
    "coords = np.array([[int(x), int(y)] for x, y in  [c.split(',') for c in read_input('day_06.txt').split('\\n') ]])"
   ]
  },
  {
   "cell_type": "code",
   "execution_count": 33,
   "metadata": {},
   "outputs": [
    {
     "data": {
      "text/plain": [
       "array([[156, 193],\n",
       "       [ 81, 315],\n",
       "       [ 50, 197],\n",
       "       [ 84, 234],\n",
       "       [124, 162],\n",
       "       [339, 345],\n",
       "       [259, 146],\n",
       "       [240, 350],\n",
       "       [ 97, 310],\n",
       "       [202, 119]])"
      ]
     },
     "execution_count": 33,
     "metadata": {},
     "output_type": "execute_result"
    }
   ],
   "source": [
    " coords[:10]"
   ]
  },
  {
   "cell_type": "code",
   "execution_count": 34,
   "metadata": {
    "collapsed": true
   },
   "outputs": [],
   "source": [
    "def label_closest(coords):\n",
    "    x_max, y_max = coords.max(axis=0) + 1\n",
    "    region = np.nan*np.zeros((x_max, y_max))\n",
    "    for x in range(x_max):\n",
    "        for y in range(y_max):\n",
    "            dist = np.sum(np.abs(coords - np.array([x, y])), axis=1)\n",
    "            if len(dist[dist == dist.min()]) == 1:\n",
    "                region[x, y] = np.argmin(dist)\n",
    "    return region"
   ]
  },
  {
   "cell_type": "code",
   "execution_count": 35,
   "metadata": {
    "collapsed": true
   },
   "outputs": [],
   "source": [
    "closest = label_closest(coords)"
   ]
  },
  {
   "cell_type": "code",
   "execution_count": 36,
   "metadata": {
    "collapsed": true
   },
   "outputs": [],
   "source": [
    "def find_largest_finite_area(closest):\n",
    "    # Ignore points that go to infinity ie ones on boundary\n",
    "    on_boundary = [int(x) for x in list(\n",
    "        set(closest[0, :].tolist()) | set(closest[-1, :].tolist()) \n",
    "        | set(closest[:, 0].tolist()) | set(closest[:, -1].tolist())) if not np.isnan(x)]\n",
    "    all_indexes = [int(x) for x in np.unique(closest) if not np.isnan(x)]\n",
    "    finite_region_indexes = list(set(all_indexes) - set(on_boundary))\n",
    "    max_area = 0\n",
    "    max_area_index = None\n",
    "    for ind in finite_region_indexes:\n",
    "        area = np.sum(closest == ind)\n",
    "        if area > max_area:\n",
    "            max_area = area\n",
    "            max_area_index = ind\n",
    "    return max_area_index, max_area"
   ]
  },
  {
   "cell_type": "code",
   "execution_count": 37,
   "metadata": {},
   "outputs": [
    {
     "data": {
      "text/plain": [
       "(16, 4342)"
      ]
     },
     "execution_count": 37,
     "metadata": {},
     "output_type": "execute_result"
    }
   ],
   "source": [
    "find_largest_finite_area(closest)"
   ]
  },
  {
   "cell_type": "markdown",
   "metadata": {},
   "source": [
    "# Part Two \n",
    "On the other hand, if the coordinates are safe, maybe the best you can do is try to find a region near as many coordinates as possible.\n",
    "\n",
    "For example, suppose you want the sum of the Manhattan distance to all of the coordinates to be less than 32. For each location, add up the distances to all of the given coordinates; if the total of those distances is less than 32, that location is within the desired region. Using the same coordinates as above, the resulting region looks like this:\n",
    "\n",
    "    ..........\n",
    "    .A........\n",
    "    ..........\n",
    "    ...###..C.\n",
    "    ..#D###...\n",
    "    ..###E#...\n",
    "    .B.###....\n",
    "    ..........\n",
    "    ..........\n",
    "    ........F.\n",
    "In particular, consider the highlighted location 4,3 located at the top middle of the region. Its calculation is as follows, where abs() is the absolute value function:\n",
    "\n",
    "- Distance to coordinate A: `abs(4-1) + abs(3-1) =  5`\n",
    "- Distance to coordinate B: `abs(4-1) + abs(3-6) =  6`\n",
    "- Distance to coordinate C: `abs(4-8) + abs(3-3) =  4`\n",
    "- Distance to coordinate D: `abs(4-3) + abs(3-4) =  2`\n",
    "- Distance to coordinate E: `abs(4-5) + abs(3-5) =  3`\n",
    "- Distance to coordinate F: `abs(4-8) + abs(3-9) = 10`\n",
    "- Total distance: `5 + 6 + 4 + 2 + 3 + 10 = 30`\n",
    "\n",
    "Because the total distance to all coordinates (30) is less than 32, the location is __within__ the region.\n",
    "\n",
    "This region, which also includes coordinates D and E, has a total size of __16__.\n",
    "\n",
    "Your actual region will need to be much larger than this example, though, instead including all locations with a total distance of less than 10000.\n",
    "\n",
    "What is the size of the region containing all locations which have a total distance to all given coordinates of less than 10000?\n",
    "\n",
    "Your puzzle answer was 42966."
   ]
  },
  {
   "cell_type": "code",
   "execution_count": 38,
   "metadata": {
    "collapsed": true
   },
   "outputs": [],
   "source": [
    "def label_total_dist(coords):\n",
    "    x_max, y_max = coords.max(axis=0) + 1\n",
    "    region = np.nan*np.zeros((x_max, y_max))\n",
    "    for x in range(x_max):\n",
    "        for y in range(y_max):\n",
    "            region[x, y] = np.sum(np.abs(coords - np.array([x, y])))\n",
    "    return region"
   ]
  },
  {
   "cell_type": "code",
   "execution_count": 39,
   "metadata": {
    "collapsed": true
   },
   "outputs": [],
   "source": [
    "total_dist = label_total_dist(coords)"
   ]
  },
  {
   "cell_type": "code",
   "execution_count": 40,
   "metadata": {},
   "outputs": [
    {
     "data": {
      "text/plain": [
       "42966"
      ]
     },
     "execution_count": 40,
     "metadata": {},
     "output_type": "execute_result"
    }
   ],
   "source": [
    "np.sum(total_dist < 10000)"
   ]
  },
  {
   "cell_type": "markdown",
   "metadata": {},
   "source": [
    "# Day 7: The Sum of Its Parts \n",
    "You find yourself standing on a snow-covered coastline; apparently, you landed a little off course. The region is too hilly to see the North Pole from here, but you do spot some Elves that seem to be trying to unpack something that washed ashore. It's quite cold out, so you decide to risk creating a paradox by asking them for directions.\n",
    "\n",
    "\"Oh, are you the search party?\" Somehow, you can understand whatever Elves from the year 1018 speak; you assume it's Ancient Nordic Elvish. Could the device on your wrist also be a translator? \"Those clothes don't look very warm; take this.\" They hand you a heavy coat.\n",
    "\n",
    "\"We do need to find our way back to the North Pole, but we have higher priorities at the moment. You see, believe it or not, this box contains something that will solve all of Santa's transportation problems - at least, that's what it looks like from the pictures in the instructions.\" It doesn't seem like they can read whatever language it's in, but you can: \"Sleigh kit. Some assembly required.\"\n",
    "\n",
    "\"'Sleigh'? What a wonderful name! You must help us assemble this 'sleigh' at once!\" They start excitedly pulling more parts out of the box.\n",
    "\n",
    "The instructions specify a series of steps and requirements about which steps must be finished before others can begin (your puzzle input). Each step is designated by a single letter. For example, suppose you have the following instructions:\n",
    "\n",
    "    Step C must be finished before step A can begin.\n",
    "    Step C must be finished before step F can begin.\n",
    "    Step A must be finished before step B can begin.\n",
    "    Step A must be finished before step D can begin.\n",
    "    Step B must be finished before step E can begin.\n",
    "    Step D must be finished before step E can begin.\n",
    "    Step F must be finished before step E can begin.\n",
    "\n",
    "Visually, these requirements look like this:\n",
    "\n",
    "\n",
    "      -->A--->B--\n",
    "     /    \\      \\\n",
    "    C      -->D----->E\n",
    "     \\           /\n",
    "      ---->F-----\n",
    "Your first goal is to determine the order in which the steps should be completed. If more than one step is ready, choose the step which is first alphabetically. In this example, the steps would be completed as follows:\n",
    "\n",
    "- Only C is available, and so it is done first.\n",
    "- Next, both A and F are available. A is first alphabetically, so it is done next.\n",
    "- Then, even though F was available earlier, steps B and D are now also available, and B is the first alphabetically of the three.\n",
    "- After that, only D and F are available. E is not available because only some of its prerequisites are complete. Therefore, D is completed next.\n",
    "- F is the only choice, so it is done next.\n",
    "- Finally, E is completed.\n",
    "\n",
    "So, in this example, the correct order is CABDFE.\n",
    "\n",
    "In what order should the steps in your instructions be completed?\n",
    "\n",
    "Your puzzle answer was `SCLPAMQVUWNHODRTGYKBJEFXZI`."
   ]
  },
  {
   "cell_type": "code",
   "execution_count": 41,
   "metadata": {
    "collapsed": true
   },
   "outputs": [],
   "source": [
    "step_dep = [[c[5], c[-12]] for c in read_input('day_07.txt').split('\\n')]"
   ]
  },
  {
   "cell_type": "code",
   "execution_count": 42,
   "metadata": {
    "collapsed": true
   },
   "outputs": [],
   "source": [
    "def parse_dep(step_dep):\n",
    "    pre_cond, step = zip(*step_dep)\n",
    "    all_steps = list(set(pre_cond) | set(step))\n",
    "    deps = defaultdict(list)\n",
    "    for d in step_dep:\n",
    "        deps[d[1]].append(d[0])\n",
    "    for d in list(set(all_steps) - set(deps.keys())):\n",
    "        deps[d] = []\n",
    "    return deps"
   ]
  },
  {
   "cell_type": "code",
   "execution_count": 43,
   "metadata": {
    "collapsed": true
   },
   "outputs": [],
   "source": [
    "deps = parse_dep(step_dep)"
   ]
  },
  {
   "cell_type": "code",
   "execution_count": 44,
   "metadata": {
    "collapsed": true
   },
   "outputs": [],
   "source": [
    "def complete_steps(deps, n_helpers=0, step_base_time=60, display=False):\n",
    "    steps_taken = ''\n",
    "    steps_left = deps.keys()\n",
    "    workers = {n: [] for n in range(n_helpers+1)}\n",
    "    steps_in_progress = ''\n",
    "    time_taken = 0\n",
    "    while steps_left != []:\n",
    "        # List of all steps with no dependencies\n",
    "        next_steps = sorted([k for k, v in deps.iteritems() if v == [] and k not in steps_taken])\n",
    "        \n",
    "        # Allocate all available workers to the next available steps\n",
    "        for step in next_steps:\n",
    "            for w, v in workers.iteritems():\n",
    "                if step in steps_in_progress:\n",
    "                    break\n",
    "                if v == []:\n",
    "                    workers[w] = (step, step_base_time + ord(step) - ord('A') + 1)\n",
    "                    steps_in_progress += step\n",
    "        \n",
    "        if display:\n",
    "            # Show what workers are doing and time remaining\n",
    "            print(workers)\n",
    "        \n",
    "        # Increment time to next task completion\n",
    "        time_to_next_completed_step = min([v[1] for v in workers.values() if v != []])\n",
    "        time_taken += time_to_next_completed_step\n",
    "        \n",
    "        # Update time remaining\n",
    "        for w, v in workers.iteritems():\n",
    "            if v != []:\n",
    "                workers[w] = (workers[w][0], workers[w][1] - time_to_next_completed_step)\n",
    "        \n",
    "        # Record completed steps\n",
    "        for w, v in workers.iteritems():\n",
    "            if v != [] and v[1] == 0:\n",
    "                steps_taken += v[0]\n",
    "                steps_in_progress = ''.join(list(set(steps_in_progress) - set(v[0])))\n",
    "                workers[w] = []\n",
    "        \n",
    "        # Update dependencies to remove completed steps\n",
    "        deps = {k: list(set(v) - set(steps_taken)) for k, v in deps.iteritems()}\n",
    "        \n",
    "        # Update list of steps still to do\n",
    "        steps_left = list(set(steps_left) - set(steps_taken))\n",
    "    return steps_taken, time_taken"
   ]
  },
  {
   "cell_type": "code",
   "execution_count": 45,
   "metadata": {},
   "outputs": [
    {
     "name": "stdout",
     "output_type": "stream",
     "text": [
      "{0: ('S', 79), 1: [], 2: [], 3: [], 4: []}\n",
      "{0: ('C', 63), 1: [], 2: [], 3: [], 4: []}\n",
      "{0: ('L', 72), 1: ('P', 76), 2: [], 3: [], 4: []}\n",
      "{0: ('V', 82), 1: ('P', 4), 2: ('W', 83), 3: [], 4: []}\n",
      "{0: ('V', 78), 1: ('A', 61), 2: ('W', 79), 3: ('M', 73), 4: ('Q', 77)}\n",
      "{0: ('V', 17), 1: ('Y', 85), 2: ('W', 18), 3: ('M', 12), 4: ('Q', 16)}\n",
      "{0: ('V', 5), 1: ('Y', 73), 2: ('W', 6), 3: [], 4: ('Q', 4)}\n",
      "{0: ('V', 1), 1: ('Y', 69), 2: ('W', 2), 3: [], 4: []}\n",
      "{0: ('U', 81), 1: ('Y', 68), 2: ('W', 1), 3: [], 4: []}\n",
      "{0: ('U', 80), 1: ('Y', 67), 2: ('N', 74), 3: [], 4: []}\n",
      "{0: ('U', 13), 1: [], 2: ('N', 7), 3: [], 4: []}\n",
      "{0: ('U', 6), 1: ('H', 68), 2: [], 3: [], 4: []}\n",
      "{0: [], 1: ('H', 62), 2: [], 3: [], 4: []}\n",
      "{0: ('O', 75), 1: [], 2: [], 3: [], 4: []}\n",
      "{0: ('D', 64), 1: ('T', 80), 2: [], 3: [], 4: []}\n",
      "{0: ('R', 78), 1: ('T', 16), 2: [], 3: [], 4: []}\n",
      "{0: ('R', 62), 1: ('G', 67), 2: [], 3: [], 4: []}\n",
      "{0: [], 1: ('G', 5), 2: [], 3: [], 4: []}\n",
      "{0: ('K', 71), 1: [], 2: [], 3: [], 4: []}\n",
      "{0: ('B', 62), 1: [], 2: [], 3: [], 4: []}\n",
      "{0: ('J', 70), 1: [], 2: [], 3: [], 4: []}\n",
      "{0: ('E', 65), 1: [], 2: [], 3: [], 4: []}\n",
      "{0: ('F', 66), 1: [], 2: [], 3: [], 4: []}\n",
      "{0: ('X', 84), 1: [], 2: [], 3: [], 4: []}\n",
      "{0: ('Z', 86), 1: [], 2: [], 3: [], 4: []}\n",
      "{0: ('I', 69), 1: [], 2: [], 3: [], 4: []}\n"
     ]
    },
    {
     "data": {
      "text/plain": [
       "('SCLPAMQVWYNUHODTRGKBJEFXZI', 1234)"
      ]
     },
     "execution_count": 45,
     "metadata": {},
     "output_type": "execute_result"
    }
   ],
   "source": [
    "complete_steps(parse_dep(step_dep), n_helpers=4, display=True)"
   ]
  },
  {
   "cell_type": "markdown",
   "metadata": {},
   "source": [
    "# Part Two \n",
    "As you're about to begin construction, four of the Elves offer to help. \"The sun will set soon; it'll go faster if we work together.\" Now, you need to account for multiple people working on steps simultaneously. If multiple steps are available, workers should still begin them in alphabetical order.\n",
    "\n",
    "Each step takes 60 seconds plus an amount corresponding to its letter: A=1, B=2, C=3, and so on. So, step A takes 60+1=61 seconds, while step Z takes 60+26=86 seconds. No time is required between steps.\n",
    "\n",
    "To simplify things for the example, however, suppose you only have help from one Elf (a total of two workers) and that each step takes 60 fewer seconds (so that step A takes 1 second and step Z takes 26 seconds). Then, using the same instructions as above, this is how each second would be spent:\n",
    "\n",
    "    Second   Worker 1   Worker 2   Done\n",
    "       0        C          .        \n",
    "       1        C          .        \n",
    "       2        C          .        \n",
    "       3        A          F       C\n",
    "       4        B          F       CA\n",
    "       5        B          F       CA\n",
    "       6        D          F       CAB\n",
    "       7        D          F       CAB\n",
    "       8        D          F       CAB\n",
    "       9        D          .       CABF\n",
    "      10        E          .       CABFD\n",
    "      11        E          .       CABFD\n",
    "      12        E          .       CABFD\n",
    "      13        E          .       CABFD\n",
    "      14        E          .       CABFD\n",
    "      15        .          .       CABFDE\n",
    "      \n",
    "Each row represents one second of time. The Second column identifies how many seconds have passed as of the beginning of that second. Each worker column shows the step that worker is currently doing (or . if they are idle). The Done column shows completed steps.\n",
    "\n",
    "Note that the order of the steps has changed; this is because steps now take time to finish and multiple workers can begin multiple steps simultaneously.\n",
    "\n",
    "In this example, it would take 15 seconds for two workers to complete these steps.\n",
    "\n",
    "With 5 workers and the 60+ second step durations described above, how long will it take to complete all of the steps?\n",
    "\n",
    "Your puzzle answer was `1234`."
   ]
  },
  {
   "cell_type": "markdown",
   "metadata": {},
   "source": [
    "# Day 8: Memory Maneuver \n",
    "The sleigh is much easier to pull than you'd expect for something its weight. Unfortunately, neither you nor the Elves know which way the North Pole is from here.\n",
    "\n",
    "You check your wrist device for anything that might help. It seems to have some kind of navigation system! Activating the navigation system produces more bad news: \"Failed to start navigation system. Could not read software license file.\"\n",
    "\n",
    "The navigation system's license file consists of a list of numbers (your puzzle input). The numbers define a data structure which, when processed, produces some kind of tree that can be used to calculate the license number.\n",
    "\n",
    "The tree is made up of nodes; a single, outermost node forms the tree's root, and it contains all other nodes in the tree (or contains nodes that contain nodes, and so on).\n",
    "\n",
    "Specifically, a node consists of:\n",
    "\n",
    "- A header, which is always exactly two numbers:\n",
    "- - The quantity of child nodes.\n",
    "- - The quantity of metadata entries.\n",
    "- Zero or more child nodes (as specified in the header).\n",
    "- One or more metadata entries (as specified in the header).\n",
    "\n",
    "Each child node is itself a node that has its own header, child nodes, and metadata. For example:\n",
    "\n",
    "    2 3 0 3 10 11 12 1 1 0 1 99 2 1 1 2\n",
    "    A----------------------------------\n",
    "        B----------- C-----------\n",
    "                         D-----\n",
    "In this example, each node of the tree is also marked with an underline starting with a letter for easier identification. In it, there are four nodes:\n",
    "\n",
    "- A, which has 2 child nodes (B, C) and 3 metadata entries (1, 1, 2).\n",
    "- B, which has 0 child nodes and 3 metadata entries (10, 11, 12).\n",
    "- C, which has 1 child node (D) and 1 metadata entry (2).\n",
    "- D, which has 0 child nodes and 1 metadata entry (99).\n",
    "The first check done on the license file is to simply add up all of the metadata entries. In this example, that sum is 1+1+2+10+11+12+2+99=138.\n",
    "\n",
    "What is the sum of all metadata entries?\n",
    "\n",
    "Your puzzle answer was 36307."
   ]
  },
  {
   "cell_type": "code",
   "execution_count": 46,
   "metadata": {
    "collapsed": true
   },
   "outputs": [],
   "source": [
    "license = map(int, read_input('day_08.txt').split())"
   ]
  },
  {
   "cell_type": "code",
   "execution_count": 47,
   "metadata": {},
   "outputs": [
    {
     "data": {
      "text/plain": [
       "[7, 11, 6, 3, 5, 5, 3, 6, 1, 7]"
      ]
     },
     "execution_count": 47,
     "metadata": {},
     "output_type": "execute_result"
    }
   ],
   "source": [
    "license[:10]"
   ]
  },
  {
   "cell_type": "code",
   "execution_count": 48,
   "metadata": {
    "collapsed": true
   },
   "outputs": [],
   "source": [
    "def parse_license(license):\n",
    "    nodes = {}\n",
    "    node = 0\n",
    "    n_node = 0\n",
    "    meta_sum = 0\n",
    "    n_meta = 0\n",
    "    parent = None\n",
    "    mode = 'read_n_child'\n",
    "    for x in license:\n",
    "        if mode == 'read_n_child':\n",
    "            if node not in nodes.keys():\n",
    "                nodes[node] = {\n",
    "                    'n_child': x, 'n_meta': 0, 'meta': [], \n",
    "                    'parent': parent, 'children': [],\n",
    "                    'value': 0 # Part 2\n",
    "                }\n",
    "                mode = 'read_n_meta'\n",
    "            else:\n",
    "                mode = 'read_meta'\n",
    "            continue\n",
    "        if mode == 'read_n_meta':\n",
    "            nodes[node]['n_meta'] = x\n",
    "            if nodes[node]['n_child'] == 0:\n",
    "                mode = 'read_meta'\n",
    "                n_meta = x\n",
    "            else:\n",
    "                # Create new node\n",
    "                parent = n_node\n",
    "                n_node += 1\n",
    "                node = n_node\n",
    "                mode = 'read_n_child'\n",
    "            continue\n",
    "        if mode == 'read_meta':\n",
    "            nodes[node]['meta'].append(x)\n",
    "            meta_sum += x\n",
    "            n_meta -= 1\n",
    "            if n_meta == 0:\n",
    "                # Part 2\n",
    "                if nodes[node]['n_child'] == 0:\n",
    "                    nodes[node]['value'] = sum(nodes[node]['meta'])\n",
    "                else:\n",
    "                    for m in nodes[node]['meta']:\n",
    "                        # print(node, m, nodes[node]['children'])\n",
    "                        if m <= len(nodes[node]['children']):\n",
    "                            child_value = nodes[ nodes[node]['children'][m-1] ]['value']\n",
    "                            # print(node, child_value)\n",
    "                            nodes[node]['value'] += child_value\n",
    "                \n",
    "                if nodes[node]['parent'] is not None:\n",
    "                    nodes[nodes[node]['parent']]['children'].append(node)\n",
    "                    if len(nodes[nodes[node]['parent']]['children']) == nodes[nodes[node]['parent']]['n_child']:\n",
    "                        # Read parent metadata\n",
    "                        n_meta = nodes[nodes[node]['parent']]['n_meta']\n",
    "                        node = nodes[node]['parent']\n",
    "                        mode = 'read_meta'\n",
    "                    else:\n",
    "                        # Create new node\n",
    "                        parent = nodes[node]['parent']\n",
    "                        n_node = n_node + 1\n",
    "                        node = n_node\n",
    "                        mode = 'read_n_child'\n",
    "            continue\n",
    "    return nodes, meta_sum"
   ]
  },
  {
   "cell_type": "code",
   "execution_count": 49,
   "metadata": {},
   "outputs": [
    {
     "data": {
      "text/plain": [
       "({0: {'children': [1, 2],\n",
       "   'meta': [1, 1, 2],\n",
       "   'n_child': 2,\n",
       "   'n_meta': 3,\n",
       "   'parent': None,\n",
       "   'value': 66},\n",
       "  1: {'children': [],\n",
       "   'meta': [10, 11, 12],\n",
       "   'n_child': 0,\n",
       "   'n_meta': 3,\n",
       "   'parent': 0,\n",
       "   'value': 33},\n",
       "  2: {'children': [3],\n",
       "   'meta': [2],\n",
       "   'n_child': 1,\n",
       "   'n_meta': 1,\n",
       "   'parent': 0,\n",
       "   'value': 0},\n",
       "  3: {'children': [],\n",
       "   'meta': [99],\n",
       "   'n_child': 0,\n",
       "   'n_meta': 1,\n",
       "   'parent': 2,\n",
       "   'value': 99}},\n",
       " 138)"
      ]
     },
     "execution_count": 49,
     "metadata": {},
     "output_type": "execute_result"
    }
   ],
   "source": [
    "parse_license(map(int, '2 3 0 3 10 11 12 1 1 0 1 99 2 1 1 2'.split()))\n",
    "# parse_license(map(int, '2 3 0 3 10 11 12 1 1 0 1 99 1 1 1 2'.split()))"
   ]
  },
  {
   "cell_type": "code",
   "execution_count": 50,
   "metadata": {
    "collapsed": true
   },
   "outputs": [],
   "source": [
    "license_nodes, license_meta_sum = parse_license(license)"
   ]
  },
  {
   "cell_type": "code",
   "execution_count": 51,
   "metadata": {},
   "outputs": [
    {
     "data": {
      "text/plain": [
       "36307"
      ]
     },
     "execution_count": 51,
     "metadata": {},
     "output_type": "execute_result"
    }
   ],
   "source": [
    "license_meta_sum"
   ]
  },
  {
   "cell_type": "markdown",
   "metadata": {},
   "source": [
    "# Part Two \n",
    "The second check is slightly more complicated: you need to find the value of the root node (A in the example above).\n",
    "\n",
    "The value of a node depends on whether it has child nodes.\n",
    "\n",
    "If a node has no child nodes, its value is the sum of its metadata entries. So, the value of node B is 10+11+12=33, and the value of node D is 99.\n",
    "\n",
    "However, if a node does have child nodes, the metadata entries become indexes which refer to those child nodes. A metadata entry of 1 refers to the first child node, 2 to the second, 3 to the third, and so on. The value of this node is the sum of the values of the child nodes referenced by the metadata entries. If a referenced child node does not exist, that reference is skipped. A child node can be referenced multiple time and counts each time it is referenced. A metadata entry of 0 does not refer to any child node.\n",
    "\n",
    "For example, again using the above nodes:\n",
    "\n",
    "- Node C has one metadata entry, 2. Because node C has only one child node, 2 references a child node which does not exist, and so the value of node C is 0.\n",
    "- Node A has three metadata entries: 1, 1, and 2. The 1 references node A's first child node, B, and the 2 references node A's second child node, C. Because node B has a value of 33 and node C has a value of 0, the value of node A is 33+33+0=66.\n",
    "\n",
    "So, in this example, the value of the root node is 66.\n",
    "\n",
    "What is the value of the root node?\n",
    "\n",
    "Your puzzle answer was 25154."
   ]
  },
  {
   "cell_type": "code",
   "execution_count": 52,
   "metadata": {},
   "outputs": [
    {
     "data": {
      "text/plain": [
       "25154"
      ]
     },
     "execution_count": 52,
     "metadata": {},
     "output_type": "execute_result"
    }
   ],
   "source": [
    "license_nodes[0]['value']"
   ]
  },
  {
   "cell_type": "markdown",
   "metadata": {},
   "source": [
    "# Day 9: Marble Mania \n",
    "You talk to the Elves while you wait for your navigation system to initialize. To pass the time, they introduce you to their favorite marble game.\n",
    "\n",
    "The Elves play this game by taking turns arranging the marbles in a circle according to very particular rules. The marbles are numbered starting with 0 and increasing by 1 until every marble has a number.\n",
    "\n",
    "First, the marble numbered 0 is placed in the circle. At this point, while it contains only a single marble, it is still a circle: the marble is both clockwise from itself and counter-clockwise from itself. This marble is designated the current marble.\n",
    "\n",
    "Then, each Elf takes a turn placing the lowest-numbered remaining marble into the circle between the marbles that are 1 and 2 marbles clockwise of the current marble. (When the circle is large enough, this means that there is one marble between the marble that was just placed and the current marble.) The marble that was just placed then becomes the current marble.\n",
    "\n",
    "However, if the marble that is about to be placed has a number which is a multiple of 23, something entirely different happens. First, the current player keeps the marble they would have placed, adding it to their score. In addition, the marble 7 marbles counter-clockwise from the current marble is removed from the circle and also added to the current player's score. The marble located immediately clockwise of the marble that was removed becomes the new current marble.\n",
    "\n",
    "For example, suppose there are 9 players. After the marble with value 0 is placed in the middle, each player (shown in square brackets) takes a turn. The result of each of those turns would produce circles of marbles like this, where clockwise is to the right and the resulting current marble is in parentheses:\n",
    "\n",
    "    [-] (0)\n",
    "    [1]  0 (1)\n",
    "    [2]  0 (2) 1 \n",
    "    [3]  0  2  1 (3)\n",
    "    [4]  0 (4) 2  1  3 \n",
    "    [5]  0  4  2 (5) 1  3 \n",
    "    [6]  0  4  2  5  1 (6) 3 \n",
    "    [7]  0  4  2  5  1  6  3 (7)\n",
    "    [8]  0 (8) 4  2  5  1  6  3  7 \n",
    "    [9]  0  8  4 (9) 2  5  1  6  3  7 \n",
    "    [1]  0  8  4  9  2(10) 5  1  6  3  7 \n",
    "    [2]  0  8  4  9  2 10  5(11) 1  6  3  7 \n",
    "    [3]  0  8  4  9  2 10  5 11  1(12) 6  3  7 \n",
    "    [4]  0  8  4  9  2 10  5 11  1 12  6(13) 3  7 \n",
    "    [5]  0  8  4  9  2 10  5 11  1 12  6 13  3(14) 7 \n",
    "    [6]  0  8  4  9  2 10  5 11  1 12  6 13  3 14  7(15)\n",
    "    [7]  0(16) 8  4  9  2 10  5 11  1 12  6 13  3 14  7 15 \n",
    "    [8]  0 16  8(17) 4  9  2 10  5 11  1 12  6 13  3 14  7 15 \n",
    "    [9]  0 16  8 17  4(18) 9  2 10  5 11  1 12  6 13  3 14  7 15 \n",
    "    [1]  0 16  8 17  4 18  9(19) 2 10  5 11  1 12  6 13  3 14  7 15 \n",
    "    [2]  0 16  8 17  4 18  9 19  2(20)10  5 11  1 12  6 13  3 14  7 15 \n",
    "    [3]  0 16  8 17  4 18  9 19  2 20 10(21) 5 11  1 12  6 13  3 14  7 15 \n",
    "    [4]  0 16  8 17  4 18  9 19  2 20 10 21  5(22)11  1 12  6 13  3 14  7 15 \n",
    "    [5]  0 16  8 17  4 18(19) 2 20 10 21  5 22 11  1 12  6 13  3 14  7 15 \n",
    "    [6]  0 16  8 17  4 18 19  2(24)20 10 21  5 22 11  1 12  6 13  3 14  7 15 \n",
    "    [7]  0 16  8 17  4 18 19  2 24 20(25)10 21  5 22 11  1 12  6 13  3 14  7 15\n",
    "The goal is to be the player with the highest score after the last marble is used up. Assuming the example above ends after the marble numbered 25, the winning score is 23+9=32 (because player 5 kept marble 23 and removed marble 9, while no other player got any points in this very short example game).\n",
    "\n",
    "Here are a few more examples:\n",
    "\n",
    "- 10 players; last marble is worth 1618 points: high score is 8317\n",
    "- 13 players; last marble is worth 7999 points: high score is 146373\n",
    "- 17 players; last marble is worth 1104 points: high score is 2764\n",
    "- 21 players; last marble is worth 6111 points: high score is 54718\n",
    "- 30 players; last marble is worth 5807 points: high score is 37305\n",
    "\n",
    "What is the winning Elf's score?\n",
    "\n",
    "Your puzzle answer was 390093."
   ]
  },
  {
   "cell_type": "code",
   "execution_count": 53,
   "metadata": {
    "collapsed": true
   },
   "outputs": [],
   "source": [
    "n_players, n_marbles = [int(el) for i, el in enumerate(read_input('day_09.txt').split()) if i in [0, 6]]"
   ]
  },
  {
   "cell_type": "code",
   "execution_count": 54,
   "metadata": {
    "collapsed": true
   },
   "outputs": [],
   "source": [
    "def play_marbles(n_players, n_marbles, display=False):\n",
    "    players = defaultdict(int)\n",
    "    current_player = 1\n",
    "    current_pos = 0\n",
    "    marbles = deque()\n",
    "    marbles.append(0)\n",
    "    for m in range(1, n_marbles + 1):\n",
    "        if display:\n",
    "            print(marbles)\n",
    "        if m % 23 != 0:\n",
    "#             next_pos = (current_pos + 1) % len(marbles)\n",
    "#             marbles = marbles[:next_pos + 1] + [m] + marbles[next_pos + 1:]\n",
    "#             current_pos = next_pos + 1\n",
    "            \n",
    "            marbles.rotate(-1)\n",
    "            marbles.append(m)\n",
    "        else:\n",
    "#             players[current_player] += m\n",
    "#             pos_to_remove = (current_pos - 7) % len(marbles)\n",
    "#             players[current_player] += marbles[pos_to_remove]\n",
    "#             marbles = marbles[:pos_to_remove] + marbles[pos_to_remove + 1:]\n",
    "#             current_pos = pos_to_remove\n",
    "\n",
    "            marbles.rotate(7)\n",
    "            players[current_player] += m + marbles.pop()\n",
    "            marbles.rotate(-1)\n",
    "            \n",
    "        current_player = (current_player + 1) % n_players\n",
    "    return max(players.values())"
   ]
  },
  {
   "cell_type": "code",
   "execution_count": 55,
   "metadata": {},
   "outputs": [
    {
     "name": "stdout",
     "output_type": "stream",
     "text": [
      "deque([0])\n",
      "deque([0, 1])\n",
      "deque([1, 0, 2])\n",
      "deque([0, 2, 1, 3])\n",
      "deque([2, 1, 3, 0, 4])\n",
      "deque([1, 3, 0, 4, 2, 5])\n",
      "deque([3, 0, 4, 2, 5, 1, 6])\n",
      "deque([0, 4, 2, 5, 1, 6, 3, 7])\n",
      "deque([4, 2, 5, 1, 6, 3, 7, 0, 8])\n",
      "deque([2, 5, 1, 6, 3, 7, 0, 8, 4, 9])\n",
      "deque([5, 1, 6, 3, 7, 0, 8, 4, 9, 2, 10])\n",
      "deque([1, 6, 3, 7, 0, 8, 4, 9, 2, 10, 5, 11])\n",
      "deque([6, 3, 7, 0, 8, 4, 9, 2, 10, 5, 11, 1, 12])\n",
      "deque([3, 7, 0, 8, 4, 9, 2, 10, 5, 11, 1, 12, 6, 13])\n",
      "deque([7, 0, 8, 4, 9, 2, 10, 5, 11, 1, 12, 6, 13, 3, 14])\n",
      "deque([0, 8, 4, 9, 2, 10, 5, 11, 1, 12, 6, 13, 3, 14, 7, 15])\n",
      "deque([8, 4, 9, 2, 10, 5, 11, 1, 12, 6, 13, 3, 14, 7, 15, 0, 16])\n",
      "deque([4, 9, 2, 10, 5, 11, 1, 12, 6, 13, 3, 14, 7, 15, 0, 16, 8, 17])\n",
      "deque([9, 2, 10, 5, 11, 1, 12, 6, 13, 3, 14, 7, 15, 0, 16, 8, 17, 4, 18])\n",
      "deque([2, 10, 5, 11, 1, 12, 6, 13, 3, 14, 7, 15, 0, 16, 8, 17, 4, 18, 9, 19])\n",
      "deque([10, 5, 11, 1, 12, 6, 13, 3, 14, 7, 15, 0, 16, 8, 17, 4, 18, 9, 19, 2, 20])\n",
      "deque([5, 11, 1, 12, 6, 13, 3, 14, 7, 15, 0, 16, 8, 17, 4, 18, 9, 19, 2, 20, 10, 21])\n",
      "deque([11, 1, 12, 6, 13, 3, 14, 7, 15, 0, 16, 8, 17, 4, 18, 9, 19, 2, 20, 10, 21, 5, 22])\n",
      "deque([2, 20, 10, 21, 5, 22, 11, 1, 12, 6, 13, 3, 14, 7, 15, 0, 16, 8, 17, 4, 18, 19])\n",
      "deque([20, 10, 21, 5, 22, 11, 1, 12, 6, 13, 3, 14, 7, 15, 0, 16, 8, 17, 4, 18, 19, 2, 24])\n"
     ]
    },
    {
     "data": {
      "text/plain": [
       "32"
      ]
     },
     "execution_count": 55,
     "metadata": {},
     "output_type": "execute_result"
    }
   ],
   "source": [
    "play_marbles(9, 25, display=True)"
   ]
  },
  {
   "cell_type": "code",
   "execution_count": 56,
   "metadata": {},
   "outputs": [
    {
     "data": {
      "text/plain": [
       "8317"
      ]
     },
     "execution_count": 56,
     "metadata": {},
     "output_type": "execute_result"
    }
   ],
   "source": [
    "play_marbles(10, 1618)"
   ]
  },
  {
   "cell_type": "code",
   "execution_count": 57,
   "metadata": {},
   "outputs": [
    {
     "data": {
      "text/plain": [
       "390093"
      ]
     },
     "execution_count": 57,
     "metadata": {},
     "output_type": "execute_result"
    }
   ],
   "source": [
    "play_marbles(n_players, n_marbles)"
   ]
  },
  {
   "cell_type": "markdown",
   "metadata": {},
   "source": [
    "# Part Two \n",
    "Amused by the speed of your answer, the Elves are curious:\n",
    "\n",
    "What would the new winning Elf's score be if the number of the last marble were 100 times larger?\n",
    "\n",
    "Your puzzle answer was 3150377341."
   ]
  },
  {
   "cell_type": "markdown",
   "metadata": {},
   "source": [
    "## Confession:\n",
    "My original solution using Python lists was obviously going to be far to slow for this (took about 20s for Part 1).  After thinking for a bit I caved in and checked the Reddit solutions and found out about deque solution which is equivalent but uses a better data structure.  So today I learned something :)"
   ]
  },
  {
   "cell_type": "code",
   "execution_count": 58,
   "metadata": {},
   "outputs": [
    {
     "data": {
      "text/plain": [
       "3150377341"
      ]
     },
     "execution_count": 58,
     "metadata": {},
     "output_type": "execute_result"
    }
   ],
   "source": [
    "play_marbles(n_players, n_marbles * 100)"
   ]
  },
  {
   "cell_type": "markdown",
   "metadata": {},
   "source": [
    "# Day 10: The Stars Align \n",
    "It's no use; your navigation system simply isn't capable of providing walking directions in the arctic circle, and certainly not in 1018.\n",
    "\n",
    "The Elves suggest an alternative. In times like these, North Pole rescue operations will arrange points of light in the sky to guide missing Elves back to base. Unfortunately, the message is easy to miss: the points move slowly enough that it takes hours to align them, but have so much momentum that they only stay aligned for a second. If you blink at the wrong time, it might be hours before another message appears.\n",
    "\n",
    "You can see these points of light floating in the distance, and record their position in the sky and their velocity, the relative change in position per second (your puzzle input). The coordinates are all given from your perspective; given enough time, those positions and velocities will move the points into a cohesive message!\n",
    "\n",
    "Rather than wait, you decide to fast-forward the process and calculate what the points will eventually spell.\n",
    "\n",
    "For example, suppose you note the following points:\n",
    "\n",
    "    position=< 9,  1> velocity=< 0,  2>\n",
    "    position=< 7,  0> velocity=<-1,  0>\n",
    "    position=< 3, -2> velocity=<-1,  1>\n",
    "    position=< 6, 10> velocity=<-2, -1>\n",
    "    position=< 2, -4> velocity=< 2,  2>\n",
    "    position=<-6, 10> velocity=< 2, -2>\n",
    "    position=< 1,  8> velocity=< 1, -1>\n",
    "    position=< 1,  7> velocity=< 1,  0>\n",
    "    position=<-3, 11> velocity=< 1, -2>\n",
    "    position=< 7,  6> velocity=<-1, -1>\n",
    "    position=<-2,  3> velocity=< 1,  0>\n",
    "    position=<-4,  3> velocity=< 2,  0>\n",
    "    position=<10, -3> velocity=<-1,  1>\n",
    "    position=< 5, 11> velocity=< 1, -2>\n",
    "    position=< 4,  7> velocity=< 0, -1>\n",
    "    position=< 8, -2> velocity=< 0,  1>\n",
    "    position=<15,  0> velocity=<-2,  0>\n",
    "    position=< 1,  6> velocity=< 1,  0>\n",
    "    position=< 8,  9> velocity=< 0, -1>\n",
    "    position=< 3,  3> velocity=<-1,  1>\n",
    "    position=< 0,  5> velocity=< 0, -1>\n",
    "    position=<-2,  2> velocity=< 2,  0>\n",
    "    position=< 5, -2> velocity=< 1,  2>\n",
    "    position=< 1,  4> velocity=< 2,  1>\n",
    "    position=<-2,  7> velocity=< 2, -2>\n",
    "    position=< 3,  6> velocity=<-1, -1>\n",
    "    position=< 5,  0> velocity=< 1,  0>\n",
    "    position=<-6,  0> velocity=< 2,  0>\n",
    "    position=< 5,  9> velocity=< 1, -2>\n",
    "    position=<14,  7> velocity=<-2,  0>\n",
    "    position=<-3,  6> velocity=< 2, -1>\n",
    "\n",
    "Each line represents one point. Positions are given as <X, Y> pairs: X represents how far left (negative) or right (positive) the point appears, while Y represents how far up (negative) or down (positive) the point appears.\n",
    "\n",
    "At 0 seconds, each point has the position given. Each second, each point's velocity is added to its position. So, a point with velocity <1, -2> is moving to the right, but is moving upward twice as quickly. If this point's initial position were <3, 9>, after 3 seconds, its position would become <6, 3>.\n",
    "\n",
    "Over time, the points listed above would move like this:\n",
    "\n",
    "Initially:\n",
    "\n",
    "    ........#.............\n",
    "    ................#.....\n",
    "    .........#.#..#.......\n",
    "    ......................\n",
    "    #..........#.#.......#\n",
    "    ...............#......\n",
    "    ....#.................\n",
    "    ..#.#....#............\n",
    "    .......#..............\n",
    "    ......#...............\n",
    "    ...#...#.#...#........\n",
    "    ....#..#..#.........#.\n",
    "    .......#..............\n",
    "    ...........#..#.......\n",
    "    #...........#.........\n",
    "    ...#.......#..........\n",
    "\n",
    "After 1 second:\n",
    "\n",
    "    ......................\n",
    "    ......................\n",
    "    ..........#....#......\n",
    "    ........#.....#.......\n",
    "    ..#.........#......#..\n",
    "    ......................\n",
    "    ......#...............\n",
    "    ....##.........#......\n",
    "    ......#.#.............\n",
    "    .....##.##..#.........\n",
    "    ........#.#...........\n",
    "    ........#...#.....#...\n",
    "    ..#...........#.......\n",
    "    ....#.....#.#.........\n",
    "    ......................\n",
    "    ......................\n",
    "\n",
    "After 2 seconds:\n",
    "\n",
    "    ......................\n",
    "    ......................\n",
    "    ......................\n",
    "    ..............#.......\n",
    "    ....#..#...####..#....\n",
    "    ......................\n",
    "    ........#....#........\n",
    "    ......#.#.............\n",
    "    .......#...#..........\n",
    "    .......#..#..#.#......\n",
    "    ....#....#.#..........\n",
    "    .....#...#...##.#.....\n",
    "    ........#.............\n",
    "    ......................\n",
    "    ......................\n",
    "    ......................\n",
    "\n",
    "After 3 seconds:\n",
    "\n",
    "    ......................\n",
    "    ......................\n",
    "    ......................\n",
    "    ......................\n",
    "    ......#...#..###......\n",
    "    ......#...#...#.......\n",
    "    ......#...#...#.......\n",
    "    ......#####...#.......\n",
    "    ......#...#...#.......\n",
    "    ......#...#...#.......\n",
    "    ......#...#...#.......\n",
    "    ......#...#..###......\n",
    "    ......................\n",
    "    ......................\n",
    "    ......................\n",
    "    ......................\n",
    "\n",
    "After 4 seconds:\n",
    "\n",
    "    ......................\n",
    "    ......................\n",
    "    ......................\n",
    "    ............#.........\n",
    "    ........##...#.#......\n",
    "    ......#.....#..#......\n",
    "    .....#..##.##.#.......\n",
    "    .......##.#....#......\n",
    "    ...........#....#.....\n",
    "    ..............#.......\n",
    "    ....#......#...#......\n",
    "    .....#.....##.........\n",
    "    ...............#......\n",
    "    ...............#......\n",
    "    ......................\n",
    "    ......................\n",
    "    \n",
    "After 3 seconds, the message appeared briefly: HI. Of course, your message will be much longer and will take many more seconds to appear.\n",
    "\n",
    "What message will eventually appear in the sky?\n",
    "\n",
    "Your puzzle answer was LXJFKAXA."
   ]
  },
  {
   "cell_type": "code",
   "execution_count": 59,
   "metadata": {
    "collapsed": true
   },
   "outputs": [],
   "source": [
    "stars = np.array(map(lambda s: map(int, \n",
    "                          s.lstrip(\n",
    "                              'position=<'\n",
    "                          ).replace(\n",
    "                              '> velocity=<', ','\n",
    "                          ).rstrip(\n",
    "                              '>'\n",
    "                          ).split(\n",
    "                              ','\n",
    "                          )), \n",
    "            read_input('day_10.txt').split('\\n')))"
   ]
  },
  {
   "cell_type": "code",
   "execution_count": 60,
   "metadata": {
    "collapsed": true
   },
   "outputs": [],
   "source": [
    "def align_stars(stars, t):\n",
    "    pos = stars[:, :2] + stars[:,2:]*t\n",
    "    pos = pos - np.min(pos, axis=0)\n",
    "    cols, rows = np.max(pos, axis=0)\n",
    "    res = None\n",
    "    if cols < 2000 and rows < 2000:\n",
    "        res = np.zeros((rows+1, cols+1))\n",
    "        for p in pos.tolist():\n",
    "            res[p[1], p[0]] = 1\n",
    "    return res"
   ]
  },
  {
   "cell_type": "code",
   "execution_count": 61,
   "metadata": {},
   "outputs": [
    {
     "data": {
      "text/plain": [
       "-10316.21"
      ]
     },
     "execution_count": 61,
     "metadata": {},
     "output_type": "execute_result"
    }
   ],
   "source": [
    "np.mean(stars[:, :2] / stars[:, 2:])"
   ]
  },
  {
   "cell_type": "code",
   "execution_count": 62,
   "metadata": {},
   "outputs": [
    {
     "data": {
      "image/png": "[encoded data removed]",
      "text/plain": [
       "<matplotlib.figure.Figure at 0x7f0cd042c750>"
      ]
     },
     "metadata": {},
     "output_type": "display_data"
    }
   ],
   "source": [
    "# Trial and error around min distsance\n",
    "_ = plt.spy(align_stars(stars, 10312))"
   ]
  },
  {
   "cell_type": "markdown",
   "metadata": {},
   "source": [
    "# Part Two\n",
    "Good thing you didn't have to wait, because that would have taken a long time - much longer than the 3 seconds in the example above.\n",
    "\n",
    "Impressed by your sub-hour communication capabilities, the Elves are curious: exactly how many seconds would they have needed to wait for that message to appear?\n",
    "\n",
    "Your puzzle answer was 10312."
   ]
  },
  {
   "cell_type": "markdown",
   "metadata": {},
   "source": [
    "# Day 11: Chronal Charge \n",
    "You watch the Elves and their sleigh fade into the distance as they head toward the North Pole.\n",
    "\n",
    "Actually, you're the one fading. The falling sensation returns.\n",
    "\n",
    "The low fuel warning light is illuminated on your wrist-mounted device. Tapping it once causes it to project a hologram of the situation: a 300x300 grid of fuel cells and their current power levels, some negative. You're not sure what negative power means in the context of time travel, but it can't be good.\n",
    "\n",
    "Each fuel cell has a coordinate ranging from 1 to 300 in both the X (horizontal) and Y (vertical) direction. In X,Y notation, the top-left cell is 1,1, and the top-right cell is 300,1.\n",
    "\n",
    "The interface lets you select any 3x3 square of fuel cells. To increase your chances of getting to your destination, you decide to choose the 3x3 square with the largest total power.\n",
    "\n",
    "The power level in a given fuel cell can be found through the following process:\n",
    "\n",
    "- Find the fuel cell's rack ID, which is its X coordinate plus 10.\n",
    "- Begin with a power level of the rack ID times the Y coordinate.\n",
    "- Increase the power level by the value of the grid serial number (your puzzle input).\n",
    "- Set the power level to itself multiplied by the rack ID.\n",
    "- Keep only the hundreds digit of the power level (so 12345 becomes 3; numbers with no hundreds digit become 0).\n",
    "- Subtract 5 from the power level.\n",
    "\n",
    "For example, to find the power level of the fuel cell at 3,5 in a grid with serial number 8:\n",
    "\n",
    "- The rack ID is 3 + 10 = 13.\n",
    "- The power level starts at 13 * 5 = 65.\n",
    "- Adding the serial number produces 65 + 8 = 73.\n",
    "- Multiplying by the rack ID produces 73 * 13 = 949.\n",
    "- The hundreds digit of 949 is 9.\n",
    "- Subtracting 5 produces 9 - 5 = 4.\n",
    "\n",
    "So, the power level of this fuel cell is 4.\n",
    "\n",
    "Here are some more example power levels:\n",
    "\n",
    "- Fuel cell at  122,79, grid serial number 57: power level -5.\n",
    "- Fuel cell at 217,196, grid serial number 39: power level  0.\n",
    "- Fuel cell at 101,153, grid serial number 71: power level  4.\n",
    "\n",
    "Your goal is to find the 3x3 square which has the largest total power. The square must be entirely within the 300x300 grid. Identify this square using the X,Y coordinate of its top-left fuel cell. For example:\n",
    "\n",
    "For grid serial number 18, the largest total 3x3 square has a top-left corner of 33,45 (with a total power of 29); these fuel cells appear in the middle of this 5x5 region:\n",
    "\n",
    "    -2  -4   4   4   4\n",
    "    -4   4   4   4  -5\n",
    "     4   3   3   4  -4\n",
    "     1   1   2   4  -3\n",
    "    -1   0   2  -5  -2\n",
    "    \n",
    "For grid serial number 42, the largest 3x3 square's top-left is 21,61 (with a total power of 30); they are in the middle of this region:\n",
    "\n",
    "    -3   4   2   2   2\n",
    "    -4   4   3   3   4\n",
    "    -5   3   3   4  -4\n",
    "     4   3   3   4  -3\n",
    "     3   3   3  -5  -1\n",
    "     \n",
    "What is the X,Y coordinate of the top-left fuel cell of the 3x3 square with the largest total power?\n",
    "\n",
    "Your puzzle input is 4151.\n",
    "\n",
    "Your puzzle answer was 20,46."
   ]
  },
  {
   "cell_type": "code",
   "execution_count": 63,
   "metadata": {
    "collapsed": true
   },
   "outputs": [],
   "source": [
    "def grid_power(serial):\n",
    "    X, Y = np.meshgrid(np.arange(300, dtype=np.int)+1, np.arange(300, dtype=np.int)+1)\n",
    "    P = (np.floor((((((X + 10) * Y) + serial) * (X + 10)) % 1000) / 100) - 5).astype(np.int)\n",
    "    return P"
   ]
  },
  {
   "cell_type": "code",
   "execution_count": 64,
   "metadata": {
    "collapsed": true
   },
   "outputs": [],
   "source": [
    "def find_max_grid_power(power, size=3):\n",
    "    p_max = 0\n",
    "    x_m = 0\n",
    "    y_m = 0\n",
    "    y_max, x_max = power.shape\n",
    "    for x in range(x_max - size) :\n",
    "        for y in range(y_max - size) :\n",
    "            p = np.sum(power[y:y+size, x:x+size])\n",
    "            if p > p_max:\n",
    "                p_max = p\n",
    "                x_m = x\n",
    "                y_m = y\n",
    "    return p_max, x_m+1, y_m+1, size"
   ]
  },
  {
   "cell_type": "code",
   "execution_count": 65,
   "metadata": {},
   "outputs": [
    {
     "data": {
      "text/plain": [
       "(30, 20, 46, 3)"
      ]
     },
     "execution_count": 65,
     "metadata": {},
     "output_type": "execute_result"
    }
   ],
   "source": [
    "find_max_grid_power(grid_power(4151))"
   ]
  },
  {
   "cell_type": "markdown",
   "metadata": {},
   "source": [
    "# Part Two\n",
    "You discover a dial on the side of the device; it seems to let you select a square of any size, not just 3x3. Sizes from 1x1 to 300x300 are supported.\n",
    "\n",
    "Realizing this, you now must find the square of any size with the largest total power. Identify this square by including its size as a third parameter after the top-left coordinate: a 9x9 square with a top-left corner of 3,5 is identified as 3,5,9.\n",
    "\n",
    "For example:\n",
    "\n",
    "- For grid serial number 18, the largest total square (with a total power of 113) is 16x16 and has a top-left corner of 90,269, so its identifier is 90,269,16.\n",
    "- For grid serial number 42, the largest total square (with a total power of 119) is 12x12 and has a top-left corner of 232,251, so its identifier is 232,251,12.\n",
    "\n",
    "What is the X,Y,size identifier of the square with the largest total power?\n",
    "\n",
    "Your puzzle input is still 4151.\n",
    "\n",
    "Your puzzle answer was 231,65,14."
   ]
  },
  {
   "cell_type": "code",
   "execution_count": 66,
   "metadata": {},
   "outputs": [
    {
     "data": {
      "text/plain": [
       "(119, 232, 251, 12)"
      ]
     },
     "execution_count": 66,
     "metadata": {},
     "output_type": "execute_result"
    }
   ],
   "source": [
    "find_max_grid_power(grid_power(42), 12)"
   ]
  },
  {
   "cell_type": "code",
   "execution_count": 67,
   "metadata": {
    "collapsed": true
   },
   "outputs": [],
   "source": [
    "def find_max_grid_power_and_size(serial):\n",
    "    power = grid_power(serial)\n",
    "    p_max = 0\n",
    "    x_m = 0\n",
    "    y_m = 0\n",
    "    s_m = 0\n",
    "    for size in range(1, 301):\n",
    "        p, x, y, s = find_max_grid_power(power, size)\n",
    "        if p > p_max:\n",
    "            p_max = p\n",
    "            x_m = x\n",
    "            y_m = y\n",
    "            s_m = s\n",
    "    return p_max, x_m, y_m, s_m"
   ]
  },
  {
   "cell_type": "code",
   "execution_count": 68,
   "metadata": {},
   "outputs": [
    {
     "data": {
      "text/plain": [
       "(158, 231, 65, 14)"
      ]
     },
     "execution_count": 68,
     "metadata": {},
     "output_type": "execute_result"
    }
   ],
   "source": [
    "find_max_grid_power_and_size(4151)"
   ]
  },
  {
   "cell_type": "markdown",
   "metadata": {},
   "source": [
    "# Day 12: Subterranean Sustainability \n",
    "The year 518 is significantly more underground than your history books implied. Either that, or you've arrived in a vast cavern network under the North Pole.\n",
    "\n",
    "After exploring a little, you discover a long tunnel that contains a row of small pots as far as you can see to your left and right. A few of them contain plants - someone is trying to grow things in these geothermally-heated caves.\n",
    "\n",
    "The pots are numbered, with 0 in front of you. To the left, the pots are numbered -1, -2, -3, and so on; to the right, 1, 2, 3.... Your puzzle input contains a list of pots from 0 to the right and whether they do (#) or do not (.) currently contain a plant, the initial state. (No other pots currently contain plants.) For example, an initial state of `#..##....` indicates that pots 0, 3, and 4 currently contain plants.\n",
    "\n",
    "Your puzzle input also contains some notes you find on a nearby table: someone has been trying to figure out how these plants spread to nearby pots. Based on the notes, for each generation of plants, a given pot has or does not have a plant based on whether that pot (and the two pots on either side of it) had a plant in the last generation. These are written as `LLCRR =>` N, where L are pots to the left, C is the current pot being considered, R are the pots to the right, and N is whether the current pot will have a plant in the next generation. For example:\n",
    "\n",
    "A note like `..#.. => .` means that a pot that contains a plant but with no plants within two pots of it will not have a plant in it during the next generation.\n",
    "A note like `##.## => .` means that an empty pot with two plants on each side of it will remain empty in the next generation.\n",
    "A note like `.##.# => #` means that a pot has a plant in a given generation if, in the previous generation, there were plants in that pot, the one immediately to the left, and the one two pots to the right, but not in the ones immediately to the right and two to the left.\n",
    "It's not clear what these plants are for, but you're sure it's important, so you'd like to make sure the current configuration of plants is sustainable by determining what will happen after 20 generations.\n",
    "\n",
    "For example, given the following input:\n",
    "\n",
    "    initial state: #..#.#..##......###...###\n",
    "\n",
    "    ...## => #\n",
    "    ..#.. => #\n",
    "    .#... => #\n",
    "    .#.#. => #\n",
    "    .#.## => #\n",
    "    .##.. => #\n",
    "    .#### => #\n",
    "    #.#.# => #\n",
    "    #.### => #\n",
    "    ##.#. => #\n",
    "    ##.## => #\n",
    "    ###.. => #\n",
    "    ###.# => #\n",
    "    ####. => #\n",
    "\n",
    "For brevity, in this example, only the combinations which do produce a plant are listed. (Your input includes all possible combinations.) Then, the next 20 generations will look like this:\n",
    "\n",
    "                     1         2         3     \n",
    "           0         0         0         0     \n",
    "     0: ...#..#.#..##......###...###...........\n",
    "     1: ...#...#....#.....#..#..#..#...........\n",
    "     2: ...##..##...##....#..#..#..##..........\n",
    "     3: ..#.#...#..#.#....#..#..#...#..........\n",
    "     4: ...#.#..#...#.#...#..#..##..##.........\n",
    "     5: ....#...##...#.#..#..#...#...#.........\n",
    "     6: ....##.#.#....#...#..##..##..##........\n",
    "     7: ...#..###.#...##..#...#...#...#........\n",
    "     8: ...#....##.#.#.#..##..##..##..##.......\n",
    "     9: ...##..#..#####....#...#...#...#.......\n",
    "    10: ..#.#..#...#.##....##..##..##..##......\n",
    "    11: ...#...##...#.#...#.#...#...#...#......\n",
    "    12: ...##.#.#....#.#...#.#..##..##..##.....\n",
    "    13: ..#..###.#....#.#...#....#...#...#.....\n",
    "    14: ..#....##.#....#.#..##...##..##..##....\n",
    "    15: ..##..#..#.#....#....#..#.#...#...#....\n",
    "    16: .#.#..#...#.#...##...#...#.#..##..##...\n",
    "    17: ..#...##...#.#.#.#...##...#....#...#...\n",
    "    18: ..##.#.#....#####.#.#.#...##...##..##..\n",
    "    19: .#..###.#..#.#.#######.#.#.#..#.#...#..\n",
    "    20: .#....##....#####...#######....#.#..##.\n",
    "\n",
    "The generation is shown along the left, where 0 is the initial state. The pot numbers are shown along the top, where 0 labels the center pot, negative-numbered pots extend to the left, and positive pots extend toward the right. Remember, the initial state begins at pot 0, which is not the leftmost pot used in this example.\n",
    "\n",
    "After one generation, only seven plants remain. The one in pot 0 matched the rule looking for `..#..`, the one in pot 4 matched the rule looking for `.#.#.`, pot 9 matched `.##..`, and so on.\n",
    "\n",
    "In this example, after 20 generations, the pots shown as # contain plants, the furthest left of which is pot -2, and the furthest right of which is pot 34. Adding up all the numbers of plant-containing pots after the 20th generation produces 325.\n",
    "\n",
    "After 20 generations, what is the sum of the numbers of all pots which contain a plant?\n",
    "\n",
    "Your puzzle answer was 1430."
   ]
  },
  {
   "cell_type": "code",
   "execution_count": 69,
   "metadata": {
    "collapsed": true
   },
   "outputs": [],
   "source": [
    "pots_input = read_input('day_12.txt')"
   ]
  },
  {
   "cell_type": "code",
   "execution_count": 70,
   "metadata": {
    "collapsed": true
   },
   "outputs": [],
   "source": [
    "def parse_pots_rule(pots_input):\n",
    "    lines = pots_input.split('\\n')\n",
    "    initial_state = lines[0].lstrip('initial state: ')\n",
    "    update_rules = defaultdict(lambda: '.')\n",
    "    for rule in lines[2:]:\n",
    "        r, t = rule.split(' => ')\n",
    "        update_rules[r] = t\n",
    "    return initial_state, update_rules"
   ]
  },
  {
   "cell_type": "code",
   "execution_count": 71,
   "metadata": {
    "collapsed": true
   },
   "outputs": [],
   "source": [
    "test_pots_input = \"\"\"initial state: #..#.#..##......###...###\n",
    "\n",
    "...## => #\n",
    "..#.. => #\n",
    ".#... => #\n",
    ".#.#. => #\n",
    ".#.## => #\n",
    ".##.. => #\n",
    ".#### => #\n",
    "#.#.# => #\n",
    "#.### => #\n",
    "##.#. => #\n",
    "##.## => #\n",
    "###.. => #\n",
    "###.# => #\n",
    "####. => #\"\"\""
   ]
  },
  {
   "cell_type": "code",
   "execution_count": 72,
   "metadata": {
    "collapsed": true
   },
   "outputs": [],
   "source": [
    "pots_initial_test, pots_rule_test = parse_pots_rule(test_pots_input)"
   ]
  },
  {
   "cell_type": "code",
   "execution_count": 73,
   "metadata": {
    "collapsed": true
   },
   "outputs": [],
   "source": [
    "def update_pots(state, rule):\n",
    "    new_state = list('.' * len(state))\n",
    "    for pos in range(2, len(state)-2):\n",
    "        \n",
    "        new_state[pos] = rule[state[pos-2:pos+3]]\n",
    "    return ''.join(new_state)"
   ]
  },
  {
   "cell_type": "code",
   "execution_count": 74,
   "metadata": {
    "collapsed": true
   },
   "outputs": [],
   "source": [
    "def iterate_pots_update(initial_state, rule, n_gen, display=False, display_count=False):\n",
    "    # Pad initial state \n",
    "    state = ('.' * n_gen) + initial_state + ('.' * n_gen)\n",
    "    pot_numbers = (\n",
    "        range(-n_gen, 0) + range(len(initial_state) + 1) \n",
    "        + range(len(initial_state)+1, len(initial_state)+1+n_gen)\n",
    "    )\n",
    "    # print(pot_numbers)\n",
    "    for i in range(n_gen):\n",
    "        pot_sum = sum(map(lambda (p, s): p if s == '#' else 0, zip(pot_numbers, state)))\n",
    "        pot_count = sum(map(lambda s: 1 if s == '#' else 0, state))\n",
    "        \n",
    "        if display:\n",
    "            print(state)\n",
    "        if display_count and (n_gen - i) < 10:\n",
    "            # Display last 10 generations\n",
    "            print(i, pot_count, pot_sum)\n",
    "        state = update_pots(state, rule)\n",
    "    \n",
    "    pot_sum = sum(map(lambda (p, s): p if s == '#' else 0, zip(pot_numbers, state)))\n",
    "    \n",
    "    return pot_sum"
   ]
  },
  {
   "cell_type": "code",
   "execution_count": 75,
   "metadata": {},
   "outputs": [
    {
     "name": "stdout",
     "output_type": "stream",
     "text": [
      "....................#..#.#..##......###...###....................\n",
      "....................#...#....#.....#..#..#..#....................\n",
      "....................##..##...##....#..#..#..##...................\n",
      "...................#.#...#..#.#....#..#..#...#...................\n",
      "....................#.#..#...#.#...#..#..##..##..................\n",
      ".....................#...##...#.#..#..#...#...#..................\n",
      ".....................##.#.#....#...#..##..##..##.................\n",
      "....................#..###.#...##..#...#...#...#.................\n",
      "....................#....##.#.#.#..##..##..##..##................\n",
      "....................##..#..#####....#...#...#...#................\n",
      "...................#.#..#...#.##....##..##..##..##...............\n",
      "....................#...##...#.#...#.#...#...#...#...............\n",
      "....................##.#.#....#.#...#.#..##..##..##..............\n",
      "...................#..###.#....#.#...#....#...#...#..............\n",
      "...................#....##.#....#.#..##...##..##..##.............\n",
      "...................##..#..#.#....#....#..#.#...#...#.............\n",
      "..................#.#..#...#.#...##...#...#.#..##..##............\n",
      "...................#...##...#.#.#.#...##...#....#...#............\n",
      "...................##.#.#....#####.#.#.#...##...##..##...........\n",
      "..................#..###.#..#.#.#######.#.#.#..#.#...#...........\n"
     ]
    },
    {
     "data": {
      "text/plain": [
       "325"
      ]
     },
     "execution_count": 75,
     "metadata": {},
     "output_type": "execute_result"
    }
   ],
   "source": [
    "iterate_pots_update(pots_initial_test, pots_rule_test, 20, display=True)"
   ]
  },
  {
   "cell_type": "code",
   "execution_count": 76,
   "metadata": {
    "collapsed": true
   },
   "outputs": [],
   "source": [
    "pots_initial, pots_rule = parse_pots_rule(pots_input)"
   ]
  },
  {
   "cell_type": "code",
   "execution_count": 77,
   "metadata": {},
   "outputs": [
    {
     "data": {
      "text/plain": [
       "1430"
      ]
     },
     "execution_count": 77,
     "metadata": {},
     "output_type": "execute_result"
    }
   ],
   "source": [
    "iterate_pots_update(pots_initial, pots_rule, 20)"
   ]
  },
  {
   "cell_type": "markdown",
   "metadata": {},
   "source": [
    "# Part Two\n",
    "You realize that 20 generations aren't enough. After all, these plants will need to last another 1500 years to even reach your timeline, not to mention your future.\n",
    "\n",
    "After fifty billion (50000000000) generations, what is the sum of the numbers of all pots which contain a plant?\n",
    "\n",
    "Your puzzle answer was 1150000000457."
   ]
  },
  {
   "cell_type": "code",
   "execution_count": 78,
   "metadata": {},
   "outputs": [
    {
     "name": "stdout",
     "output_type": "stream",
     "text": [
      "(111, 23, 3010)\n",
      "(112, 23, 3033)\n",
      "(113, 23, 3056)\n",
      "(114, 23, 3079)\n",
      "(115, 23, 3102)\n",
      "(116, 23, 3125)\n",
      "(117, 23, 3148)\n",
      "(118, 23, 3171)\n",
      "(119, 23, 3194)\n"
     ]
    },
    {
     "data": {
      "text/plain": [
       "3217"
      ]
     },
     "execution_count": 78,
     "metadata": {},
     "output_type": "execute_result"
    }
   ],
   "source": [
    "# See if things settle down after a while\n",
    "iterate_pots_update(pots_initial, pots_rule, 120, display_count=True)"
   ]
  },
  {
   "cell_type": "markdown",
   "metadata": {},
   "source": [
    "Looks like by generation 120 the population stops changing and pot sum keeps increasing by 23 each generation."
   ]
  },
  {
   "cell_type": "code",
   "execution_count": 79,
   "metadata": {},
   "outputs": [
    {
     "data": {
      "text/plain": [
       "1150000000457"
      ]
     },
     "execution_count": 79,
     "metadata": {},
     "output_type": "execute_result"
    }
   ],
   "source": [
    "# Final pot count after 50,000,000,000 generations\n",
    "3217 + (23 * (50000000000 - 120))"
   ]
  },
  {
   "cell_type": "markdown",
   "metadata": {},
   "source": [
    "# Day 13: Mine Cart Madness \n",
    "A crop of this size requires significant logistics to transport produce, soil, fertilizer, and so on. The Elves are very busy pushing things around in carts on some kind of rudimentary system of tracks they've come up with.\n",
    "\n",
    "Seeing as how cart-and-track systems don't appear in recorded history for another 1000 years, the Elves seem to be making this up as they go along. They haven't even figured out how to avoid collisions yet.\n",
    "\n",
    "You map out the tracks (your puzzle input) and see where you can help.\n",
    "\n",
    "Tracks consist of straight paths (| and -), curves (/ and \\\\), and intersections (+). Curves connect exactly two perpendicular pieces of track; for example, this is a closed loop:\n",
    "\n",
    "    /----\\\n",
    "    |    |\n",
    "    |    |\n",
    "    \\----/\n",
    "\n",
    "Intersections occur when two perpendicular paths cross. At an intersection, a cart is capable of turning left, turning right, or continuing straight. Here are two loops connected by two intersections:\n",
    "\n",
    "    /-----\\\n",
    "    |     |\n",
    "    |  /--+--\\\n",
    "    |  |  |  |\n",
    "    \\--+--/  |\n",
    "       |     |\n",
    "       \\-----/\n",
    "   \n",
    "Several carts are also on the tracks. Carts always face either up (^), down (v), left (<), or right (>). (On your initial map, the track under each cart is a straight path matching the direction the cart is facing.)\n",
    "\n",
    "Each time a cart has the option to turn (by arriving at any intersection), it turns left the first time, goes straight the second time, turns right the third time, and then repeats those directions starting again with left the fourth time, straight the fifth time, and so on. This process is independent of the particular intersection at which the cart has arrived - that is, the cart has no per-intersection memory.\n",
    "\n",
    "Carts all move at the same speed; they take turns moving a single step at a time. They do this based on their current location: carts on the top row move first (acting from left to right), then carts on the second row move (again from left to right), then carts on the third row, and so on. Once each cart has moved one step, the process repeats; each of these loops is called a tick.\n",
    "\n",
    "For example, suppose there are two carts on a straight track:\n",
    "\n",
    "    |  |  |  |  |\n",
    "    v  |  |  |  |\n",
    "    |  v  v  |  |\n",
    "    |  |  |  v  X\n",
    "    |  |  ^  ^  |\n",
    "    ^  ^  |  |  |\n",
    "    |  |  |  |  |\n",
    "\n",
    "First, the top cart moves. It is facing down (v), so it moves down one square. Second, the bottom cart moves. It is facing up (^), so it moves up one square. Because all carts have moved, the first tick ends. Then, the process repeats, starting with the first cart. The first cart moves down, then the second cart moves up - right into the first cart, colliding with it! (The location of the crash is marked with an X.) This ends the second and last tick.\n",
    "\n",
    "Here is a longer example:\n",
    "\n",
    "    /->-\\        \n",
    "    |   |  /----\\\n",
    "    | /-+--+-\\  |\n",
    "    | | |  | v  |\n",
    "    \\-+-/  \\-+--/\n",
    "      \\------/   \n",
    "\n",
    "    /-->\\        \n",
    "    |   |  /----\\\n",
    "    | /-+--+-\\  |\n",
    "    | | |  | |  |\n",
    "    \\-+-/  \\->--/\n",
    "      \\------/   \n",
    "\n",
    "    /---v        \n",
    "    |   |  /----\\\n",
    "    | /-+--+-\\  |\n",
    "    | | |  | |  |\n",
    "    \\-+-/  \\-+>-/\n",
    "      \\------/   \n",
    "\n",
    "    /---\\        \n",
    "    |   v  /----\\\n",
    "    | /-+--+-\\  |\n",
    "    | | |  | |  |\n",
    "    \\-+-/  \\-+->/\n",
    "      \\------/   \n",
    "\n",
    "    /---\\        \n",
    "    |   |  /----\\\n",
    "    | /->--+-\\  |\n",
    "    | | |  | |  |\n",
    "    \\-+-/  \\-+--^\n",
    "      \\------/   \n",
    "\n",
    "    /---\\        \n",
    "    |   |  /----\\\n",
    "    | /-+>-+-\\  |\n",
    "    | | |  | |  ^\n",
    "    \\-+-/  \\-+--/\n",
    "      \\------/   \n",
    "\n",
    "    /---\\        \n",
    "    |   |  /----\\\n",
    "    | /-+->+-\\  ^\n",
    "    | | |  | |  |\n",
    "    \\-+-/  \\-+--/\n",
    "      \\------/   \n",
    "\n",
    "    /---\\        \n",
    "    |   |  /----<\n",
    "    | /-+-->-\\  |\n",
    "    | | |  | |  |\n",
    "    \\-+-/  \\-+--/\n",
    "      \\------/   \n",
    "\n",
    "    /---\\        \n",
    "    |   |  /---<\\\n",
    "    | /-+--+>\\  |\n",
    "    | | |  | |  |\n",
    "    \\-+-/  \\-+--/\n",
    "      \\------/   \n",
    "\n",
    "    /---\\        \n",
    "    |   |  /--<-\\\n",
    "    | /-+--+-v  |\n",
    "    | | |  | |  |\n",
    "    \\-+-/  \\-+--/\n",
    "      \\------/   \n",
    "\n",
    "    /---\\        \n",
    "    |   |  /-<--\\\n",
    "    | /-+--+-\\  |\n",
    "    | | |  | v  |\n",
    "    \\-+-/  \\-+--/\n",
    "      \\------/   \n",
    "\n",
    "    /---\\        \n",
    "    |   |  /<---\\\n",
    "    | /-+--+-\\  |\n",
    "    | | |  | |  |\n",
    "    \\-+-/  \\-<--/\n",
    "      \\------/   \n",
    "\n",
    "    /---\\        \n",
    "    |   |  v----\\\n",
    "    | /-+--+-\\  |\n",
    "    | | |  | |  |\n",
    "    \\-+-/  \\<+--/\n",
    "      \\------/   \n",
    "\n",
    "    /---\\        \n",
    "    |   |  /----\\\n",
    "    | /-+--v-\\  |\n",
    "    | | |  | |  |\n",
    "    \\-+-/  ^-+--/\n",
    "      \\------/   \n",
    "\n",
    "    /---\\        \n",
    "    |   |  /----\\\n",
    "    | /-+--+-\\  |\n",
    "    | | |  X |  |\n",
    "    \\-+-/  \\-+--/\n",
    "      \\------/   \n",
    "  \n",
    "After following their respective paths for a while, the carts eventually crash. To help prevent crashes, you'd like to know the location of the first crash. Locations are given in X,Y coordinates, where the furthest left column is X=0 and the furthest top row is Y=0:\n",
    "\n",
    "               111\n",
    "     0123456789012\n",
    "    0/---\\        \n",
    "    1|   |  /----\\\n",
    "    2| /-+--+-\\  |\n",
    "    3| | |  X |  |\n",
    "    4\\-+-/  \\-+--/\n",
    "    5  \\------/   \n",
    "    \n",
    "In this example, the location of the first crash is 7,3."
   ]
  },
  {
   "cell_type": "code",
   "execution_count": 81,
   "metadata": {},
   "outputs": [],
   "source": [
    "tracks_input = read_input('day_13.txt')"
   ]
  },
  {
   "cell_type": "code",
   "execution_count": 82,
   "metadata": {
    "collapsed": true
   },
   "outputs": [],
   "source": [
    "tracks_test_input = r\"\"\"/->-\\        \n",
    "|   |  /----\\\n",
    "| /-+--+-\\  |\n",
    "| | |  | v  |\n",
    "\\-+-/  \\-+--/\n",
    "  \\------/   \"\"\""
   ]
  },
  {
   "cell_type": "code",
   "execution_count": 83,
   "metadata": {
    "collapsed": true
   },
   "outputs": [],
   "source": [
    "def parse_tracks(tracks):\n",
    "    mine = np.array(map(list, tracks.split('\\n')))\n",
    "    return mine"
   ]
  },
  {
   "cell_type": "code",
   "execution_count": 84,
   "metadata": {},
   "outputs": [
    {
     "name": "stdout",
     "output_type": "stream",
     "text": [
      "[['/' '-' '>' '-' '\\\\' ' ' ' ' ' ' ' ' ' ' ' ' ' ' ' ']\n",
      " ['|' ' ' ' ' ' ' '|' ' ' ' ' '/' '-' '-' '-' '-' '\\\\']\n",
      " ['|' ' ' '/' '-' '+' '-' '-' '+' '-' '\\\\' ' ' ' ' '|']\n",
      " ['|' ' ' '|' ' ' '|' ' ' ' ' '|' ' ' 'v' ' ' ' ' '|']\n",
      " ['\\\\' '-' '+' '-' '/' ' ' ' ' '\\\\' '-' '+' '-' '-' '/']\n",
      " [' ' ' ' '\\\\' '-' '-' '-' '-' '-' '-' '/' ' ' ' ' ' ']]\n"
     ]
    }
   ],
   "source": [
    "print(parse_tracks(tracks_test_input))"
   ]
  },
  {
   "cell_type": "code",
   "execution_count": 85,
   "metadata": {
    "collapsed": true
   },
   "outputs": [],
   "source": [
    "def update_tracks(mine):\n",
    "    new_mine = mine.copy()\n",
    "    rows, cols = mine.shape\n",
    "    cart_syms = '<>^v'\n",
    "    for i in range(rows):\n",
    "        for j in range(cols):\n",
    "            c = mine[i, j]\n",
    "            if c in cart_syms:\n",
    "                # Move cart\n",
    "                if c == '>':\n",
    "                    new_mine[i, j] = '-'\n",
    "                    c_next = new_mine[i, j+1]\n",
    "                    new_mine[i, j+1] = (\n",
    "                        'X' if c_next in cart_syms else (\n",
    "                            ''\n",
    "                        )\n",
    "                    )"
   ]
  },
  {
   "cell_type": "markdown",
   "metadata": {},
   "source": [
    "# Day 14: Chocolate Charts \n",
    "You finally have a chance to look at all of the produce moving around. Chocolate, cinnamon, mint, chili peppers, nutmeg, vanilla... the Elves must be growing these plants to make hot chocolate! As you realize this, you hear a conversation in the distance. When you go to investigate, you discover two Elves in what appears to be a makeshift underground kitchen/laboratory.\n",
    "\n",
    "The Elves are trying to come up with the ultimate hot chocolate recipe; they're even maintaining a scoreboard which tracks the quality score (0-9) of each recipe.\n",
    "\n",
    "Only two recipes are on the board: the first recipe got a score of 3, the second, 7. Each of the two Elves has a current recipe: the first Elf starts with the first recipe, and the second Elf starts with the second recipe.\n",
    "\n",
    "To create new recipes, the two Elves combine their current recipes. This creates new recipes from the digits of the sum of the current recipes' scores. With the current recipes' scores of 3 and 7, their sum is 10, and so two new recipes would be created: the first with score 1 and the second with score 0. If the current recipes' scores were 2 and 3, the sum, 5, would only create one recipe (with a score of 5) with its single digit.\n",
    "\n",
    "The new recipes are added to the end of the scoreboard in the order they are created. So, after the first round, the scoreboard is `3, 7, 1, 0`.\n",
    "\n",
    "After all new recipes are added to the scoreboard, each Elf picks a new current recipe. To do this, the Elf steps forward through the scoreboard a number of recipes equal to 1 plus the score of their current recipe. So, after the first round, the first Elf moves forward 1 + 3 = 4 times, while the second Elf moves forward 1 + 7 = 8 times. If they run out of recipes, they loop back around to the beginning. After the first round, both Elves happen to loop around until they land on the same recipe that they had in the beginning; in general, they will move to different recipes.\n",
    "\n",
    "Drawing the first Elf as parentheses and the second Elf as square brackets, they continue this process:\n",
    "\n",
    "    (3)[7]\n",
    "    (3)[7] 1  0 \n",
    "     3  7  1 [0](1) 0 \n",
    "     3  7  1  0 [1] 0 (1)\n",
    "    (3) 7  1  0  1  0 [1] 2 \n",
    "     3  7  1  0 (1) 0  1  2 [4]\n",
    "     3  7  1 [0] 1  0 (1) 2  4  5 \n",
    "     3  7  1  0 [1] 0  1  2 (4) 5  1 \n",
    "     3 (7) 1  0  1  0 [1] 2  4  5  1  5 \n",
    "     3  7  1  0  1  0  1  2 [4](5) 1  5  8 \n",
    "     3 (7) 1  0  1  0  1  2  4  5  1  5  8 [9]\n",
    "     3  7  1  0  1  0  1 [2] 4 (5) 1  5  8  9  1  6 \n",
    "     3  7  1  0  1  0  1  2  4  5 [1] 5  8  9  1 (6) 7 \n",
    "     3  7  1  0 (1) 0  1  2  4  5  1  5 [8] 9  1  6  7  7 \n",
    "     3  7 [1] 0  1  0 (1) 2  4  5  1  5  8  9  1  6  7  7  9 \n",
    "     3  7  1  0 [1] 0  1  2 (4) *5  1  5  8  9  1  6  7  7  9*  2 \n",
    "\n",
    "The Elves think their skill will improve after making a few recipes (your puzzle input). However, that could take ages; you can speed this up considerably by identifying the scores of the ten recipes after that. For example:\n",
    "\n",
    "- If the Elves think their skill will improve after making 9 recipes, the scores of the ten recipes after the first nine on the scoreboard would be 5158916779 (highlighted in the last line of the diagram).\n",
    "- After 5 recipes, the scores of the next ten would be 0124515891.\n",
    "- After 18 recipes, the scores of the next ten would be 9251071085.\n",
    "- After 2018 recipes, the scores of the next ten would be 5941429882.\n",
    "\n",
    "What are the scores of the ten recipes immediately after the number of recipes in your puzzle input?\n",
    "\n",
    "Your puzzle input is 260321.\n",
    "\n",
    "Your puzzle answer was 9276422810."
   ]
  },
  {
   "cell_type": "code",
   "execution_count": 86,
   "metadata": {
    "collapsed": true
   },
   "outputs": [],
   "source": [
    "def make_recipes(n_recipes=0, find_recipe=None, initial='37'):\n",
    "    recipes = initial\n",
    "    pos_1 = 0\n",
    "    pos_2 = 1\n",
    "    new_recipes = []\n",
    "    if not find_recipe:\n",
    "        loop_cond = (lambda r: len(r) < n_recipes + 10)\n",
    "    else:\n",
    "        loop_cond = (lambda r: not(find_recipe in r[-len(find_recipe)-1:]))\n",
    "    \n",
    "    while loop_cond(recipes):\n",
    "        # print(pos_1, pos_2)\n",
    "        new_recipe = (str(int(recipes[pos_1]) + int(recipes[pos_2])))\n",
    "        recipes += new_recipe\n",
    "        pos_1 = (pos_1 + (int(recipes[pos_1]) + 1)) % len(recipes)\n",
    "        pos_2 = (pos_2 + (int(recipes[pos_2]) + 1)) % len(recipes)\n",
    "\n",
    "    if find_recipe:\n",
    "        return len(re.sub(find_recipe + '.*', '', recipes))\n",
    "    else:\n",
    "        return recipes[(n_recipes):(n_recipes+10)]"
   ]
  },
  {
   "cell_type": "code",
   "execution_count": 87,
   "metadata": {},
   "outputs": [
    {
     "data": {
      "text/plain": [
       "'5158916779'"
      ]
     },
     "execution_count": 87,
     "metadata": {},
     "output_type": "execute_result"
    }
   ],
   "source": [
    "make_recipes(9)"
   ]
  },
  {
   "cell_type": "code",
   "execution_count": 88,
   "metadata": {},
   "outputs": [
    {
     "data": {
      "text/plain": [
       "'9276422810'"
      ]
     },
     "execution_count": 88,
     "metadata": {},
     "output_type": "execute_result"
    }
   ],
   "source": [
    "make_recipes(260321)"
   ]
  },
  {
   "cell_type": "markdown",
   "metadata": {},
   "source": [
    "# Part Two\n",
    "As it turns out, you got the Elves' plan backwards. They actually want to know how many recipes appear on the scoreboard to the left of the first recipes whose scores are the digits from your puzzle input.\n",
    "\n",
    "- 51589 first appears after 9 recipes.\n",
    "- 01245 first appears after 5 recipes.\n",
    "- 92510 first appears after 18 recipes.\n",
    "- 59414 first appears after 2018 recipes.\n",
    "\n",
    "How many recipes appear on the scoreboard to the left of the score sequence in your puzzle input?\n",
    "\n",
    "Your puzzle input is still 260321.\n",
    "\n",
    "Your puzzle answer was 20319117."
   ]
  },
  {
   "cell_type": "code",
   "execution_count": 89,
   "metadata": {},
   "outputs": [
    {
     "data": {
      "text/plain": [
       "2018"
      ]
     },
     "execution_count": 89,
     "metadata": {},
     "output_type": "execute_result"
    }
   ],
   "source": [
    "make_recipes(None, '59414')"
   ]
  },
  {
   "cell_type": "code",
   "execution_count": 90,
   "metadata": {},
   "outputs": [
    {
     "data": {
      "text/plain": [
       "20319117"
      ]
     },
     "execution_count": 90,
     "metadata": {},
     "output_type": "execute_result"
    }
   ],
   "source": [
    "make_recipes(None, '260321')"
   ]
  },
  {
   "cell_type": "markdown",
   "metadata": {},
   "source": [
    "# Day 15: Beverage Bandits\n",
    "Having perfected their hot chocolate, the Elves have a new problem: the Goblins that live in these caves will do anything to steal it. Looks like they're here for a fight.\n",
    "\n",
    "You scan the area, generating a map of the walls (#), open cavern (.), and starting position of every Goblin (G) and Elf (E) (your puzzle input).\n",
    "\n",
    "Combat proceeds in rounds; in each round, each unit that is still alive takes a turn, resolving all of its actions before the next unit's turn begins. On each unit's turn, it tries to move into range of an enemy (if it isn't already) and then attack (if it is in range).\n",
    "\n",
    "All units are very disciplined and always follow very strict combat rules. Units never move or attack diagonally, as doing so would be dishonorable. When multiple choices are equally valid, ties are broken in reading order: top-to-bottom, then left-to-right. For instance, the order in which units take their turns within a round is the reading order of their starting positions in that round, regardless of the type of unit or whether other units have moved after the round started. For example:\n",
    "\n",
    "                     would take their\n",
    "    These units:   turns in this order:\n",
    "      #######           #######\n",
    "      #.G.E.#           #.1.2.#\n",
    "      #E.G.E#           #3.4.5#\n",
    "      #.G.E.#           #.6.7.#\n",
    "      #######           #######\n",
    "\n",
    "Each unit begins its turn by identifying all possible targets (enemy units). If no targets remain, combat ends.\n",
    "\n",
    "Then, the unit identifies all of the open squares (.) that are in range of each target; these are the squares which are adjacent (immediately up, down, left, or right) to any target and which aren't already occupied by a wall or another unit. Alternatively, the unit might already be in range of a target. If the unit is not already in range of a target, and there are no open squares which are in range of a target, the unit ends its turn.\n",
    "\n",
    "If the unit is already in range of a target, it does not move, but continues its turn with an attack. Otherwise, since it is not in range of a target, it moves.\n",
    "\n",
    "To move, the unit first considers the squares that are in range and determines which of those squares it could reach in the fewest steps. A step is a single movement to any adjacent (immediately up, down, left, or right) open (.) square. Units cannot move into walls or other units. The unit does this while considering the current positions of units and does not do any prediction about where units will be later. If the unit cannot reach (find an open path to) any of the squares that are in range, it ends its turn. If multiple squares are in range and tied for being reachable in the fewest steps, the square which is first in reading order is chosen. For example:\n",
    "\n",
    "    Targets:      In range:     Reachable:    Nearest:      Chosen:\n",
    "    #######       #######       #######       #######       #######\n",
    "    #E..G.#       #E.?G?#       #E.@G.#       #E.!G.#       #E.+G.#\n",
    "    #...#.#  -->  #.?.#?#  -->  #.@.#.#  -->  #.!.#.#  -->  #...#.#\n",
    "    #.G.#G#       #?G?#G#       #@G@#G#       #!G.#G#       #.G.#G#\n",
    "    #######       #######       #######       #######       #######\n",
    "\n",
    "In the above scenario, the Elf has three targets (the three Goblins):\n",
    "\n",
    "Each of the Goblins has open, adjacent squares which are in range (marked with a ? on the map).\n",
    "Of those squares, four are reachable (marked @); the other two (on the right) would require moving through a wall or unit to reach.\n",
    "Three of these reachable squares are nearest, requiring the fewest steps (only 2) to reach (marked !).\n",
    "Of those, the square which is first in reading order is chosen (+).\n",
    "The unit then takes a single step toward the chosen square along the shortest path to that square. If multiple steps would put the unit equally closer to its destination, the unit chooses the step which is first in reading order. (This requires knowing when there is more than one shortest path so that you can consider the first step of each such path.) For example:\n",
    "\n",
    "    In range:     Nearest:      Chosen:       Distance:     Step:\n",
    "    #######       #######       #######       #######       #######\n",
    "    #.E...#       #.E...#       #.E...#       #4E212#       #..E..#\n",
    "    #...?.#  -->  #...!.#  -->  #...+.#  -->  #32101#  -->  #.....#\n",
    "    #..?G?#       #..!G.#       #...G.#       #432G2#       #...G.#\n",
    "    #######       #######       #######       #######       #######\n",
    "\n",
    "The Elf sees three squares in range of a target (?), two of which are nearest (!), and so the first in reading order is chosen (+). Under \"Distance\", each open square is marked with its distance from the destination square; the two squares to which the Elf could move on this turn (down and to the right) are both equally good moves and would leave the Elf 2 steps from being in range of the Goblin. Because the step which is first in reading order is chosen, the Elf moves right one square.\n",
    "\n",
    "Here's a larger example of movement:\n",
    "\n",
    "    Initially:\n",
    "    #########\n",
    "    #G..G..G#\n",
    "    #.......#\n",
    "    #.......#\n",
    "    #G..E..G#\n",
    "    #.......#\n",
    "    #.......#\n",
    "    #G..G..G#\n",
    "    #########\n",
    "\n",
    "    After 1 round:\n",
    "    #########\n",
    "    #.G...G.#\n",
    "    #...G...#\n",
    "    #...E..G#\n",
    "    #.G.....#\n",
    "    #.......#\n",
    "    #G..G..G#\n",
    "    #.......#\n",
    "    #########\n",
    "\n",
    "    After 2 rounds:\n",
    "    #########\n",
    "    #..G.G..#\n",
    "    #...G...#\n",
    "    #.G.E.G.#\n",
    "    #.......#\n",
    "    #G..G..G#\n",
    "    #.......#\n",
    "    #.......#\n",
    "    #########\n",
    "\n",
    "    After 3 rounds:\n",
    "    #########\n",
    "    #.......#\n",
    "    #..GGG..#\n",
    "    #..GEG..#\n",
    "    #G..G...#\n",
    "    #......G#\n",
    "    #.......#\n",
    "    #.......#\n",
    "    #########\n",
    "\n",
    "Once the Goblins and Elf reach the positions above, they all are either in range of a target or cannot find any square in range of a target, and so none of the units can move until a unit dies.\n",
    "\n",
    "After moving (or if the unit began its turn in range of a target), the unit attacks.\n",
    "\n",
    "To attack, the unit first determines all of the targets that are in range of it by being immediately adjacent to it. If there are no such targets, the unit ends its turn. Otherwise, the adjacent target with the fewest hit points is selected; in a tie, the adjacent target with the fewest hit points which is first in reading order is selected.\n",
    "\n",
    "The unit deals damage equal to its attack power to the selected target, reducing its hit points by that amount. If this reduces its hit points to 0 or fewer, the selected target dies: its square becomes . and it takes no further turns.\n",
    "\n",
    "Each unit, either Goblin or Elf, has 3 attack power and starts with 200 hit points.\n",
    "\n",
    "For example, suppose the only Elf is about to attack:\n",
    "\n",
    "           HP:            HP:\n",
    "    G....  9       G....  9  \n",
    "    ..G..  4       ..G..  4  \n",
    "    ..EG.  2  -->  ..E..     \n",
    "    ..G..  2       ..G..  2  \n",
    "    ...G.  1       ...G.  1  \n",
    "\n",
    "The \"HP\" column shows the hit points of the Goblin to the left in the corresponding row. The Elf is in range of three targets: the Goblin above it (with 4 hit points), the Goblin to its right (with 2 hit points), and the Goblin below it (also with 2 hit points). Because three targets are in range, the ones with the lowest hit points are selected: the two Goblins with 2 hit points each (one to the right of the Elf and one below the Elf). Of those, the Goblin first in reading order (the one to the right of the Elf) is selected. The selected Goblin's hit points (2) are reduced by the Elf's attack power (3), reducing its hit points to -1, killing it.\n",
    "\n",
    "After attacking, the unit's turn ends. Regardless of how the unit's turn ends, the next unit in the round takes its turn. If all units have taken turns in this round, the round ends, and a new round begins.\n",
    "\n",
    "The Elves look quite outnumbered. You need to determine the outcome of the battle: the number of full rounds that were completed (not counting the round in which combat ends) multiplied by the sum of the hit points of all remaining units at the moment combat ends. (Combat only ends when a unit finds no targets during its turn.)\n",
    "\n",
    "Below is an entire sample combat. Next to each map, each row's units' hit points are listed from left to right.\n",
    "\n",
    "    Initially:\n",
    "    #######   \n",
    "    #.G...#   G(200)\n",
    "    #...EG#   E(200), G(200)\n",
    "    #.#.#G#   G(200)\n",
    "    #..G#E#   G(200), E(200)\n",
    "    #.....#   \n",
    "    #######   \n",
    "\n",
    "    After 1 round:\n",
    "    #######   \n",
    "    #..G..#   G(200)\n",
    "    #...EG#   E(197), G(197)\n",
    "    #.#G#G#   G(200), G(197)\n",
    "    #...#E#   E(197)\n",
    "    #.....#   \n",
    "    #######   \n",
    "\n",
    "    After 2 rounds:\n",
    "    #######   \n",
    "    #...G.#   G(200)\n",
    "    #..GEG#   G(200), E(188), G(194)\n",
    "    #.#.#G#   G(194)\n",
    "    #...#E#   E(194)\n",
    "    #.....#   \n",
    "    #######   \n",
    "\n",
    "    Combat ensues; eventually, the top Elf dies:\n",
    "\n",
    "    After 23 rounds:\n",
    "    #######   \n",
    "    #...G.#   G(200)\n",
    "    #..G.G#   G(200), G(131)\n",
    "    #.#.#G#   G(131)\n",
    "    #...#E#   E(131)\n",
    "    #.....#   \n",
    "    #######   \n",
    "\n",
    "    After 24 rounds:\n",
    "    #######   \n",
    "    #..G..#   G(200)\n",
    "    #...G.#   G(131)\n",
    "    #.#G#G#   G(200), G(128)\n",
    "    #...#E#   E(128)\n",
    "    #.....#   \n",
    "    #######   \n",
    "\n",
    "    After 25 rounds:\n",
    "    #######   \n",
    "    #.G...#   G(200)\n",
    "    #..G..#   G(131)\n",
    "    #.#.#G#   G(125)\n",
    "    #..G#E#   G(200), E(125)\n",
    "    #.....#   \n",
    "    #######   \n",
    "\n",
    "    After 26 rounds:\n",
    "    #######   \n",
    "    #G....#   G(200)\n",
    "    #.G...#   G(131)\n",
    "    #.#.#G#   G(122)\n",
    "    #...#E#   E(122)\n",
    "    #..G..#   G(200)\n",
    "    #######   \n",
    "\n",
    "    After 27 rounds:\n",
    "    #######   \n",
    "    #G....#   G(200)\n",
    "    #.G...#   G(131)\n",
    "    #.#.#G#   G(119)\n",
    "    #...#E#   E(119)\n",
    "    #...G.#   G(200)\n",
    "    #######   \n",
    "\n",
    "    After 28 rounds:\n",
    "    #######   \n",
    "    #G....#   G(200)\n",
    "    #.G...#   G(131)\n",
    "    #.#.#G#   G(116)\n",
    "    #...#E#   E(113)\n",
    "    #....G#   G(200)\n",
    "    #######   \n",
    "\n",
    "    More combat ensues; eventually, the bottom Elf dies:\n",
    "\n",
    "    After 47 rounds:\n",
    "    #######   \n",
    "    #G....#   G(200)\n",
    "    #.G...#   G(131)\n",
    "    #.#.#G#   G(59)\n",
    "    #...#.#   \n",
    "    #....G#   G(200)\n",
    "    #######   \n",
    "\n",
    "Before the 48th round can finish, the top-left Goblin finds that there are no targets remaining, and so combat ends. So, the number of full rounds that were completed is 47, and the sum of the hit points of all remaining units is 200+131+59+200 = 590. From these, the outcome of the battle is 47 * 590 = 27730.\n",
    "\n",
    "Here are a few example summarized combats:\n",
    "\n",
    "    #######       #######\n",
    "    #G..#E#       #...#E#   E(200)\n",
    "    #E#E.E#       #E#...#   E(197)\n",
    "    #G.##.#  -->  #.E##.#   E(185)\n",
    "    #...#E#       #E..#E#   E(200), E(200)\n",
    "    #...E.#       #.....#\n",
    "    #######       #######\n",
    "\n",
    "    Combat ends after 37 full rounds\n",
    "    Elves win with 982 total hit points left\n",
    "    Outcome: 37 * 982 = 36334\n",
    "    #######       #######   \n",
    "    #E..EG#       #.E.E.#   E(164), E(197)\n",
    "    #.#G.E#       #.#E..#   E(200)\n",
    "    #E.##E#  -->  #E.##.#   E(98)\n",
    "    #G..#.#       #.E.#.#   E(200)\n",
    "    #..E#.#       #...#.#   \n",
    "    #######       #######   \n",
    "\n",
    "    Combat ends after 46 full rounds\n",
    "    Elves win with 859 total hit points left\n",
    "    Outcome: 46 * 859 = 39514\n",
    "    #######       #######   \n",
    "    #E.G#.#       #G.G#.#   G(200), G(98)\n",
    "    #.#G..#       #.#G..#   G(200)\n",
    "    #G.#.G#  -->  #..#..#   \n",
    "    #G..#.#       #...#G#   G(95)\n",
    "    #...E.#       #...G.#   G(200)\n",
    "    #######       #######   \n",
    "\n",
    "    Combat ends after 35 full rounds\n",
    "    Goblins win with 793 total hit points left\n",
    "    Outcome: 35 * 793 = 27755\n",
    "    #######       #######   \n",
    "    #.E...#       #.....#   \n",
    "    #.#..G#       #.#G..#   G(200)\n",
    "    #.###.#  -->  #.###.#   \n",
    "    #E#G#G#       #.#.#.#   \n",
    "    #...#G#       #G.G#G#   G(98), G(38), G(200)\n",
    "    #######       #######   \n",
    "\n",
    "    Combat ends after 54 full rounds\n",
    "    Goblins win with 536 total hit points left\n",
    "    Outcome: 54 * 536 = 28944\n",
    "    #########       #########   \n",
    "    #G......#       #.G.....#   G(137)\n",
    "    #.E.#...#       #G.G#...#   G(200), G(200)\n",
    "    #..##..G#       #.G##...#   G(200)\n",
    "    #...##..#  -->  #...##..#   \n",
    "    #...#...#       #.G.#...#   G(200)\n",
    "    #.G...G.#       #.......#   \n",
    "    #.....G.#       #.......#   \n",
    "    #########       #########   \n",
    "\n",
    "Combat ends after 20 full rounds\n",
    "Goblins win with 937 total hit points left\n",
    "Outcome: 20 * 937 = 18740\n",
    "What is the outcome of the combat described in your puzzle input?"
   ]
  },
  {
   "cell_type": "markdown",
   "metadata": {},
   "source": [
    "# Day 16: Chronal Classification \n",
    "As you see the Elves defend their hot chocolate successfully, you go back to falling through time. This is going to become a problem.\n",
    "\n",
    "If you're ever going to return to your own time, you need to understand how this device on your wrist works. You have a little while before you reach your next destination, and with a bit of trial and error, you manage to pull up a programming manual on the device's tiny screen.\n",
    "\n",
    "According to the manual, the device has four registers (numbered 0 through 3) that can be manipulated by instructions containing one of 16 opcodes. The registers start with the value 0.\n",
    "\n",
    "Every instruction consists of four values: an opcode, two inputs (named A and B), and an output (named C), in that order. The opcode specifies the behavior of the instruction and how the inputs are interpreted. The output, C, is always treated as a register.\n",
    "\n",
    "In the opcode descriptions below, if something says \"value A\", it means to take the number given as A literally. (This is also called an \"immediate\" value.) If something says \"register A\", it means to use the number given as A to read from (or write to) the register with that number. So, if the opcode addi adds register A and value B, storing the result in register C, and the instruction addi 0 7 3 is encountered, it would add 7 to the value contained by register 0 and store the sum in register 3, never modifying registers 0, 1, or 2 in the process.\n",
    "\n",
    "Many opcodes are similar except for how they interpret their arguments. The opcodes fall into seven general categories:\n",
    "\n",
    "Addition:\n",
    "\n",
    "- addr (add register) stores into register C the result of adding register A and register B.\n",
    "- addi (add immediate) stores into register C the result of adding register A and value B.\n",
    "\n",
    "Multiplication:\n",
    "\n",
    "- mulr (multiply register) stores into register C the result of multiplying register A and register B.\n",
    "- muli (multiply immediate) stores into register C the result of multiplying register A and value B.\n",
    "\n",
    "Bitwise AND:\n",
    "\n",
    "- banr (bitwise AND register) stores into register C the result of the bitwise AND of register A and register B.\n",
    "- bani (bitwise AND immediate) stores into register C the result of the bitwise AND of register A and value B.\n",
    "\n",
    "Bitwise OR:\n",
    "\n",
    "- borr (bitwise OR register) stores into register C the result of the bitwise OR of register A and register B.\n",
    "- bori (bitwise OR immediate) stores into register C the result of the bitwise OR of register A and value B.\n",
    "\n",
    "Assignment:\n",
    "\n",
    "- setr (set register) copies the contents of register A into register C. (Input B is ignored.)\n",
    "- seti (set immediate) stores value A into register C. (Input B is ignored.)\n",
    "\n",
    "Greater-than testing:\n",
    "\n",
    "- gtir (greater-than immediate/register) sets register C to 1 if value A is greater than register B. Otherwise, register C is set to 0.\n",
    "- gtri (greater-than register/immediate) sets register C to 1 if register A is greater than value B. Otherwise, register C is set to 0.\n",
    "- gtrr (greater-than register/register) sets register C to 1 if register A is greater than register B. Otherwise, register C is set to 0.\n",
    "\n",
    "Equality testing:\n",
    "\n",
    "- eqir (equal immediate/register) sets register C to 1 if value A is equal to register B. Otherwise, register C is set to 0.\n",
    "- eqri (equal register/immediate) sets register C to 1 if register A is equal to value B. Otherwise, register C is set to 0.\n",
    "- eqrr (equal register/register) sets register C to 1 if register A is equal to register B. Otherwise, register C is set to 0.\n",
    "\n",
    "Unfortunately, while the manual gives the name of each opcode, it doesn't seem to indicate the number. However, you can monitor the CPU to see the contents of the registers before and after instructions are executed to try to work them out. Each opcode has a number from 0 through 15, but the manual doesn't say which is which. For example, suppose you capture the following sample:\n",
    "\n",
    "    Before: [3, 2, 1, 1]\n",
    "    9 2 1 2\n",
    "    After:  [3, 2, 2, 1]\n",
    "\n",
    "This sample shows the effect of the instruction 9 2 1 2 on the registers. Before the instruction is executed, register 0 has value 3, register 1 has value 2, and registers 2 and 3 have value 1. After the instruction is executed, register 2's value becomes 2.\n",
    "\n",
    "The instruction itself, 9 2 1 2, means that opcode 9 was executed with A=2, B=1, and C=2. Opcode 9 could be any of the 16 opcodes listed above, but only three of them behave in a way that would cause the result shown in the sample:\n",
    "\n",
    "- Opcode 9 could be mulr: register 2 (which has a value of 1) times register 1 (which has a value of 2) produces 2, which matches the value stored in the output register, register 2.\n",
    "- Opcode 9 could be addi: register 2 (which has a value of 1) plus value 1 produces 2, which matches the value stored in the output register, register 2.\n",
    "- Opcode 9 could be seti: value 2 matches the value stored in the output register, register 2; the number given for B is irrelevant.\n",
    "\n",
    "None of the other opcodes produce the result captured in the sample. Because of this, the sample above behaves like three opcodes.\n",
    "\n",
    "You collect many of these samples (the first section of your puzzle input). The manual also includes a small test program (the second section of your puzzle input) - you can ignore it for now.\n",
    "\n",
    "Ignoring the opcode numbers, how many samples in your puzzle input behave like three or more opcodes?"
   ]
  },
  {
   "cell_type": "markdown",
   "metadata": {},
   "source": [
    "# Day 17: Reservoir Research \n",
    "You arrive in the year 18. If it weren't for the coat you got in 1018, you would be very cold: the North Pole base hasn't even been constructed.\n",
    "\n",
    "Rather, it hasn't been constructed yet. The Elves are making a little progress, but there's not a lot of liquid water in this climate, so they're getting very dehydrated. Maybe there's more underground?\n",
    "\n",
    "You scan a two-dimensional vertical slice of the ground nearby and discover that it is mostly sand with veins of clay. The scan only provides data with a granularity of square meters, but it should be good enough to determine how much water is trapped there. In the scan, x represents the distance to the right, and y represents the distance down. There is also a spring of water near the surface at x=500, y=0. The scan identifies which square meters are clay (your puzzle input).\n",
    "\n",
    "For example, suppose your scan shows the following veins of clay:\n",
    "\n",
    "    x=495, y=2..7\n",
    "    y=7, x=495..501\n",
    "    x=501, y=3..7\n",
    "    x=498, y=2..4\n",
    "    x=506, y=1..2\n",
    "    x=498, y=10..13\n",
    "    x=504, y=10..13\n",
    "    y=13, x=498..504\n",
    "    \n",
    "Rendering clay as #, sand as ., and the water spring as +, and with x increasing to the right and y increasing downward, this becomes:\n",
    "\n",
    "       44444455555555\n",
    "       99999900000000\n",
    "       45678901234567\n",
    "     0 ......+.......\n",
    "     1 ............#.\n",
    "     2 .#..#.......#.\n",
    "     3 .#..#..#......\n",
    "     4 .#..#..#......\n",
    "     5 .#.....#......\n",
    "     6 .#.....#......\n",
    "     7 .#######......\n",
    "     8 ..............\n",
    "     9 ..............\n",
    "    10 ....#.....#...\n",
    "    11 ....#.....#...\n",
    "    12 ....#.....#...\n",
    "    13 ....#######...\n",
    "\n",
    "The spring of water will produce water forever. Water can move through sand, but is blocked by clay. Water always moves down when possible, and spreads to the left and right otherwise, filling space that has clay on both sides and falling out otherwise.\n",
    "\n",
    "For example, if five squares of water are created, they will flow downward until they reach the clay and settle there. Water that has come to rest is shown here as ~, while sand through which water has passed (but which is now dry again) is shown as |:\n",
    "\n",
    "    ......+.......\n",
    "    ......|.....#.\n",
    "    .#..#.|.....#.\n",
    "    .#..#.|#......\n",
    "    .#..#.|#......\n",
    "    .#....|#......\n",
    "    .#~~~~~#......\n",
    "    .#######......\n",
    "    ..............\n",
    "    ..............\n",
    "    ....#.....#...\n",
    "    ....#.....#...\n",
    "    ....#.....#...\n",
    "    ....#######...\n",
    "\n",
    "Two squares of water can't occupy the same location. If another five squares of water are created, they will settle on the first five, filling the clay reservoir a little more:\n",
    "\n",
    "    ......+.......\n",
    "    ......|.....#.\n",
    "    .#..#.|.....#.\n",
    "    .#..#.|#......\n",
    "    .#..#.|#......\n",
    "    .#~~~~~#......\n",
    "    .#~~~~~#......\n",
    "    .#######......\n",
    "    ..............\n",
    "    ..............\n",
    "    ....#.....#...\n",
    "    ....#.....#...\n",
    "    ....#.....#...\n",
    "    ....#######...\n",
    "\n",
    "Water pressure does not apply in this scenario. If another four squares of water are created, they will stay on the right side of the barrier, and no water will reach the left side:\n",
    "\n",
    "    ......+.......\n",
    "    ......|.....#.\n",
    "    .#..#.|.....#.\n",
    "    .#..#~~#......\n",
    "    .#..#~~#......\n",
    "    .#~~~~~#......\n",
    "    .#~~~~~#......\n",
    "    .#######......\n",
    "    ..............\n",
    "    ..............\n",
    "    ....#.....#...\n",
    "    ....#.....#...\n",
    "    ....#.....#...\n",
    "    ....#######...\n",
    "\n",
    "At this point, the top reservoir overflows. While water can reach the tiles above the surface of the water, it cannot settle there, and so the next five squares of water settle like this:\n",
    "\n",
    "    ......+.......\n",
    "    ......|.....#.\n",
    "    .#..#||||...#.\n",
    "    .#..#~~#|.....\n",
    "    .#..#~~#|.....\n",
    "    .#~~~~~#|.....\n",
    "    .#~~~~~#|.....\n",
    "    .#######|.....\n",
    "    ........|.....\n",
    "    ........|.....\n",
    "    ....#...|.#...\n",
    "    ....#...|.#...\n",
    "    ....#~~~~~#...\n",
    "    ....#######...\n",
    "\n",
    "Note especially the leftmost |: the new squares of water can reach this tile, but cannot stop there. Instead, eventually, they all fall to the right and settle in the reservoir below.\n",
    "\n",
    "After 10 more squares of water, the bottom reservoir is also full:\n",
    "\n",
    "    ......+.......\n",
    "    ......|.....#.\n",
    "    .#..#||||...#.\n",
    "    .#..#~~#|.....\n",
    "    .#..#~~#|.....\n",
    "    .#~~~~~#|.....\n",
    "    .#~~~~~#|.....\n",
    "    .#######|.....\n",
    "    ........|.....\n",
    "    ........|.....\n",
    "    ....#~~~~~#...\n",
    "    ....#~~~~~#...\n",
    "    ....#~~~~~#...\n",
    "    ....#######...\n",
    "\n",
    "Finally, while there is nowhere left for the water to settle, it can reach a few more tiles before overflowing beyond the bottom of the scanned data:\n",
    "\n",
    "    ......+.......    (line not counted: above minimum y value)\n",
    "    ......|.....#.\n",
    "    .#..#||||...#.\n",
    "    .#..#~~#|.....\n",
    "    .#..#~~#|.....\n",
    "    .#~~~~~#|.....\n",
    "    .#~~~~~#|.....\n",
    "    .#######|.....\n",
    "    ........|.....\n",
    "    ...|||||||||..\n",
    "    ...|#~~~~~#|..\n",
    "    ...|#~~~~~#|..\n",
    "    ...|#~~~~~#|..\n",
    "    ...|#######|..\n",
    "    ...|.......|..    (line not counted: below maximum y value)\n",
    "    ...|.......|..    (line not counted: below maximum y value)\n",
    "    ...|.......|..    (line not counted: below maximum y value)\n",
    "\n",
    "How many tiles can be reached by the water? To prevent counting forever, ignore tiles with a y coordinate smaller than the smallest y coordinate in your scan data or larger than the largest one. Any x coordinate is valid. In this example, the lowest y coordinate given is 1, and the highest is 13, causing the water spring (in row 0) and the water falling off the bottom of the render (in rows 14 through infinity) to be ignored.\n",
    "\n",
    "So, in the example above, counting both water at rest (~) and other sand tiles the water can hypothetically reach (|), the total number of tiles the water can reach is 57.\n",
    "\n",
    "How many tiles can the water reach within the range of y values in your scan?"
   ]
  },
  {
   "cell_type": "markdown",
   "metadata": {},
   "source": [
    "# Day 18: Settlers of The North Pole \n",
    "On the outskirts of the North Pole base construction project, many Elves are collecting lumber.\n",
    "\n",
    "The lumber collection area is 50 acres by 50 acres; each acre can be either open ground (.), trees (|), or a lumberyard (#). You take a scan of the area (your puzzle input).\n",
    "\n",
    "Strange magic is at work here: each minute, the landscape looks entirely different. In exactly one minute, an open acre can fill with trees, a wooded acre can be converted to a lumberyard, or a lumberyard can be cleared to open ground (the lumber having been sent to other projects).\n",
    "\n",
    "The change to each acre is based entirely on the contents of that acre as well as the number of open, wooded, or lumberyard acres adjacent to it at the start of each minute. Here, \"adjacent\" means any of the eight acres surrounding that acre. (Acres on the edges of the lumber collection area might have fewer than eight adjacent acres; the missing acres aren't counted.)\n",
    "\n",
    "In particular:\n",
    "\n",
    "- An open acre will become filled with trees if three or more adjacent acres contained trees. Otherwise, nothing happens.\n",
    "- An acre filled with trees will become a lumberyard if three or more adjacent acres were lumberyards. Otherwise, nothing happens.\n",
    "- An acre containing a lumberyard will remain a lumberyard if it was adjacent to at least one other lumberyard and at least one acre containing trees. Otherwise, it becomes open.\n",
    "\n",
    "These changes happen across all acres simultaneously, each of them using the state of all acres at the beginning of the minute and changing to their new form by the end of that same minute. Changes that happen during the minute don't affect each other.\n",
    "\n",
    "For example, suppose the lumber collection area is instead only 10 by 10 acres with this initial configuration:\n",
    "\n",
    "    Initial state:\n",
    "    .#.#...|#.\n",
    "    .....#|##|\n",
    "    .|..|...#.\n",
    "    ..|#.....#\n",
    "    #.#|||#|#|\n",
    "    ...#.||...\n",
    "    .|....|...\n",
    "    ||...#|.#|\n",
    "    |.||||..|.\n",
    "    ...#.|..|.\n",
    "\n",
    "    After 1 minute:\n",
    "    .......##.\n",
    "    ......|###\n",
    "    .|..|...#.\n",
    "    ..|#||...#\n",
    "    ..##||.|#|\n",
    "    ...#||||..\n",
    "    ||...|||..\n",
    "    |||||.||.|\n",
    "    ||||||||||\n",
    "    ....||..|.\n",
    "\n",
    "    After 2 minutes:\n",
    "    .......#..\n",
    "    ......|#..\n",
    "    .|.|||....\n",
    "    ..##|||..#\n",
    "    ..###|||#|\n",
    "    ...#|||||.\n",
    "    |||||||||.\n",
    "    ||||||||||\n",
    "    ||||||||||\n",
    "    .|||||||||\n",
    "\n",
    "    After 3 minutes:\n",
    "    .......#..\n",
    "    ....|||#..\n",
    "    .|.||||...\n",
    "    ..###|||.#\n",
    "    ...##|||#|\n",
    "    .||##|||||\n",
    "    ||||||||||\n",
    "    ||||||||||\n",
    "    ||||||||||\n",
    "    ||||||||||\n",
    "\n",
    "    After 4 minutes:\n",
    "    .....|.#..\n",
    "    ...||||#..\n",
    "    .|.#||||..\n",
    "    ..###||||#\n",
    "    ...###||#|\n",
    "    |||##|||||\n",
    "    ||||||||||\n",
    "    ||||||||||\n",
    "    ||||||||||\n",
    "    ||||||||||\n",
    "\n",
    "    After 5 minutes:\n",
    "    ....|||#..\n",
    "    ...||||#..\n",
    "    .|.##||||.\n",
    "    ..####|||#\n",
    "    .|.###||#|\n",
    "    |||###||||\n",
    "    ||||||||||\n",
    "    ||||||||||\n",
    "    ||||||||||\n",
    "    ||||||||||\n",
    "\n",
    "    After 6 minutes:\n",
    "    ...||||#..\n",
    "    ...||||#..\n",
    "    .|.###|||.\n",
    "    ..#.##|||#\n",
    "    |||#.##|#|\n",
    "    |||###||||\n",
    "    ||||#|||||\n",
    "    ||||||||||\n",
    "    ||||||||||\n",
    "    ||||||||||\n",
    "\n",
    "    After 7 minutes:\n",
    "    ...||||#..\n",
    "    ..||#|##..\n",
    "    .|.####||.\n",
    "    ||#..##||#\n",
    "    ||##.##|#|\n",
    "    |||####|||\n",
    "    |||###||||\n",
    "    ||||||||||\n",
    "    ||||||||||\n",
    "    ||||||||||\n",
    "\n",
    "    After 8 minutes:\n",
    "    ..||||##..\n",
    "    ..|#####..\n",
    "    |||#####|.\n",
    "    ||#...##|#\n",
    "    ||##..###|\n",
    "    ||##.###||\n",
    "    |||####|||\n",
    "    ||||#|||||\n",
    "    ||||||||||\n",
    "    ||||||||||\n",
    "\n",
    "    After 9 minutes:\n",
    "    ..||###...\n",
    "    .||#####..\n",
    "    ||##...##.\n",
    "    ||#....###\n",
    "    |##....##|\n",
    "    ||##..###|\n",
    "    ||######||\n",
    "    |||###||||\n",
    "    ||||||||||\n",
    "    ||||||||||\n",
    "\n",
    "    After 10 minutes:\n",
    "    .||##.....\n",
    "    ||###.....\n",
    "    ||##......\n",
    "    |##.....##\n",
    "    |##.....##\n",
    "    |##....##|\n",
    "    ||##.####|\n",
    "    ||#####|||\n",
    "    ||||#|||||\n",
    "    ||||||||||\n",
    "\n",
    "After 10 minutes, there are 37 wooded acres and 31 lumberyards. Multiplying the number of wooded acres by the number of lumberyards gives the total resource value after ten minutes: 37 * 31 = 1147.\n",
    "\n",
    "What will the total resource value of the lumber collection area be after 10 minutes?"
   ]
  },
  {
   "cell_type": "markdown",
   "metadata": {},
   "source": [
    "# Day 19: Go With The Flow \n",
    "With the Elves well on their way constructing the North Pole base, you turn your attention back to understanding the inner workings of programming the device.\n",
    "\n",
    "You can't help but notice that the device's opcodes don't contain any flow control like jump instructions. The device's manual goes on to explain:\n",
    "\n",
    "\"In programs where flow control is required, the instruction pointer can be bound to a register so that it can be manipulated directly. This way, setr/seti can function as absolute jumps, addr/addi can function as relative jumps, and other opcodes can cause truly fascinating effects.\"\n",
    "\n",
    "This mechanism is achieved through a declaration like #ip 1, which would modify register 1 so that accesses to it let the program indirectly access the instruction pointer itself. To compensate for this kind of binding, there are now six registers (numbered 0 through 5); the five not bound to the instruction pointer behave as normal. Otherwise, the same rules apply as the last time you worked with this device.\n",
    "\n",
    "When the instruction pointer is bound to a register, its value is written to that register just before each instruction is executed, and the value of that register is written back to the instruction pointer immediately after each instruction finishes execution. Afterward, move to the next instruction by adding one to the instruction pointer, even if the value in the instruction pointer was just updated by an instruction. (Because of this, instructions must effectively set the instruction pointer to the instruction before the one they want executed next.)\n",
    "\n",
    "The instruction pointer is 0 during the first instruction, 1 during the second, and so on. If the instruction pointer ever causes the device to attempt to load an instruction outside the instructions defined in the program, the program instead immediately halts. The instruction pointer starts at 0.\n",
    "\n",
    "It turns out that this new information is already proving useful: the CPU in the device is not very powerful, and a background process is occupying most of its time. You dump the background process' declarations and instructions to a file (your puzzle input), making sure to use the names of the opcodes rather than the numbers.\n",
    "\n",
    "For example, suppose you have the following program:\n",
    "\n",
    "    #ip 0\n",
    "    seti 5 0 1\n",
    "    seti 6 0 2\n",
    "    addi 0 1 0\n",
    "    addr 1 2 3\n",
    "    setr 1 0 0\n",
    "    seti 8 0 4\n",
    "    seti 9 0 5\n",
    "    \n",
    "When executed, the following instructions are executed. Each line contains the value of the instruction pointer at the time the instruction started, the values of the six registers before executing the instructions (in square brackets), the instruction itself, and the values of the six registers after executing the instruction (also in square brackets).\n",
    "\n",
    "    ip=0 [0, 0, 0, 0, 0, 0] seti 5 0 1 [0, 5, 0, 0, 0, 0]\n",
    "    ip=1 [1, 5, 0, 0, 0, 0] seti 6 0 2 [1, 5, 6, 0, 0, 0]\n",
    "    ip=2 [2, 5, 6, 0, 0, 0] addi 0 1 0 [3, 5, 6, 0, 0, 0]\n",
    "    ip=4 [4, 5, 6, 0, 0, 0] setr 1 0 0 [5, 5, 6, 0, 0, 0]\n",
    "    ip=6 [6, 5, 6, 0, 0, 0] seti 9 0 5 [6, 5, 6, 0, 0, 9]\n",
    "\n",
    "In detail, when running this program, the following events occur:\n",
    "\n",
    "- The first line (#ip 0) indicates that the instruction pointer should be bound to register 0 in this program. This is not an instruction, and so the value of the instruction pointer does not change during the processing of this line.\n",
    "- The instruction pointer contains 0, and so the first instruction is executed (seti 5 0 1). It updates register 0 to the current instruction pointer value (0), sets register 1 to 5, sets the instruction pointer to the value of register 0 (which has no effect, as the instruction did not modify register 0), and then adds one to the instruction pointer.\n",
    "- The instruction pointer contains 1, and so the second instruction, seti 6 0 2, is executed. This is very similar to the instruction before it: 6 is stored in register 2, and the instruction pointer is left with the value 2.\n",
    "- The instruction pointer is 2, which points at the instruction addi 0 1 0. This is like a relative jump: the value of the instruction pointer, 2, is loaded into register 0. Then, addi finds the result of adding the value in register 0 and the value 1, storing the result, 3, back in register 0. Register 0 is then copied back to the instruction pointer, which will cause it to end up 1 larger than it would have otherwise and skip the next instruction (addr 1 2 3) entirely. Finally, 1 is added to the instruction pointer.\n",
    "- The instruction pointer is 4, so the instruction setr 1 0 0 is run. This is like an absolute jump: it copies the value contained in register 1, 5, into register 0, which causes it to end up in the instruction pointer. The instruction pointer is then incremented, leaving it at 6.\n",
    "- The instruction pointer is 6, so the instruction seti 9 0 5 stores 9 into register 5. The instruction pointer is incremented, causing it to point outside the program, and so the program ends.\n",
    "\n",
    "What value is left in register 0 when the background process halts?"
   ]
  },
  {
   "cell_type": "markdown",
   "metadata": {},
   "source": [
    "# Day 20: A Regular Map \n",
    "While you were learning about instruction pointers, the Elves made considerable progress. When you look up, you discover that the North Pole base construction project has completely surrounded you.\n",
    "\n",
    "The area you are in is made up entirely of rooms and doors. The rooms are arranged in a grid, and rooms only connect to adjacent rooms when a door is present between them.\n",
    "\n",
    "For example, drawing rooms as ., walls as #, doors as | or -, your current position as X, and where north is up, the area you're in might look like this:\n",
    "\n",
    "    #####\n",
    "    #.|.#\n",
    "    #-###\n",
    "    #.|X#\n",
    "    #####\n",
    "You get the attention of a passing construction Elf and ask for a map. \"I don't have time to draw out a map of this place - it's huge. Instead, I can give you directions to every room in the facility!\" He writes down some directions on a piece of parchment and runs off. In the example above, the instructions might have been ^WNE$, a regular expression or \"regex\" (your puzzle input).\n",
    "\n",
    "The regex matches routes (like WNE for \"west, north, east\") that will take you from your current room through various doors in the facility. In aggregate, the routes will take you through every door in the facility at least once; mapping out all of these routes will let you build a proper map and find your way around.\n",
    "\n",
    "^ and $ are at the beginning and end of your regex; these just mean that the regex doesn't match anything outside the routes it describes. (Specifically, ^ matches the start of the route, and $ matches the end of it.) These characters will not appear elsewhere in the regex.\n",
    "\n",
    "The rest of the regex matches various sequences of the characters N (north), S (south), E (east), and W (west). In the example above, ^WNE$ matches only one route, WNE, which means you can move west, then north, then east from your current position. Sequences of letters like this always match that exact route in the same order.\n",
    "\n",
    "Sometimes, the route can branch. A branch is given by a list of options separated by pipes (|) and wrapped in parentheses. So, ^N(E|W)N$ contains a branch: after going north, you must choose to go either east or west before finishing your route by going north again. By tracing out the possible routes after branching, you can determine where the doors are and, therefore, where the rooms are in the facility.\n",
    "\n",
    "For example, consider this regex: ^ENWWW(NEEE|SSE(EE|N))$\n",
    "\n",
    "This regex begins with ENWWW, which means that from your current position, all routes must begin by moving east, north, and then west three times, in that order. After this, there is a branch. Before you consider the branch, this is what you know about the map so far, with doors you aren't sure about marked with a ?:\n",
    "\n",
    "    #?#?#?#?#\n",
    "    ?.|.|.|.?\n",
    "    #?#?#?#-#\n",
    "        ?X|.?\n",
    "        #?#?#\n",
    "\n",
    "After this point, there is (NEEE|SSE(EE|N)). This gives you exactly two options: NEEE and SSE(EE|N). By following NEEE, the map now looks like this:\n",
    "\n",
    "    #?#?#?#?#\n",
    "    ?.|.|.|.?\n",
    "    #-#?#?#?#\n",
    "    ?.|.|.|.?\n",
    "    #?#?#?#-#\n",
    "        ?X|.?\n",
    "        #?#?#\n",
    "\n",
    "Now, only SSE(EE|N) remains. Because it is in the same parenthesized group as NEEE, it starts from the same room NEEE started in. It states that starting from that point, there exist doors which will allow you to move south twice, then east; this ends up at another branch. After that, you can either move east twice or north once. This information fills in the rest of the doors:\n",
    "\n",
    "    #?#?#?#?#\n",
    "    ?.|.|.|.?\n",
    "    #-#?#?#?#\n",
    "    ?.|.|.|.?\n",
    "    #-#?#?#-#\n",
    "    ?.?.?X|.?\n",
    "    #-#-#?#?#\n",
    "    ?.|.|.|.?\n",
    "    #?#?#?#?#\n",
    "\n",
    "Once you've followed all possible routes, you know the remaining unknown parts are all walls, producing a finished map of the facility:\n",
    "\n",
    "    #########\n",
    "    #.|.|.|.#\n",
    "    #-#######\n",
    "    #.|.|.|.#\n",
    "    #-#####-#\n",
    "    #.#.#X|.#\n",
    "    #-#-#####\n",
    "    #.|.|.|.#\n",
    "    #########\n",
    "\n",
    "Sometimes, a list of options can have an empty option, like (NEWS|WNSE|). This means that routes at this point could effectively skip the options in parentheses and move on immediately. For example, consider this regex and the corresponding map:\n",
    "\n",
    "    ^ENNWSWW(NEWS|)SSSEEN(WNSE|)EE(SWEN|)NNN$\n",
    "\n",
    "    ###########\n",
    "    #.|.#.|.#.#\n",
    "    #-###-#-#-#\n",
    "    #.|.|.#.#.#\n",
    "    #-#####-#-#\n",
    "    #.#.#X|.#.#\n",
    "    #-#-#####-#\n",
    "    #.#.|.|.|.#\n",
    "    #-###-###-#\n",
    "    #.|.|.#.|.#\n",
    "    ###########\n",
    "    \n",
    "This regex has one main route which, at three locations, can optionally include additional detours and be valid: (NEWS|), (WNSE|), and (SWEN|). Regardless of which option is taken, the route continues from the position it is left at after taking those steps. So, for example, this regex matches all of the following routes (and more that aren't listed here):\n",
    "\n",
    "- ENNWSWWSSSEENEENNN\n",
    "- ENNWSWWNEWSSSSEENEENNN\n",
    "- ENNWSWWNEWSSSSEENEESWENNNN\n",
    "- ENNWSWWSSSEENWNSEEENNN\n",
    "By following the various routes the regex matches, a full map of all of the doors and rooms in the facility can be assembled.\n",
    "\n",
    "To get a sense for the size of this facility, you'd like to determine which room is furthest from you: specifically, you would like to find the room for which the shortest path to that room would require passing through the most doors.\n",
    "\n",
    "- In the first example (^WNE$), this would be the north-east corner 3 doors away.\n",
    "- In the second example (^ENWWW(NEEE|SSE(EE|N))$), this would be the south-east corner 10 doors away.\n",
    "- In the third example (^ENNWSWW(NEWS|)SSSEEN(WNSE|)EE(SWEN|)NNN$), this would be the north-east corner 18 doors away.\n",
    "Here are a few more examples:\n",
    "\n",
    "Regex: ^ESSWWN(E|NNENN(EESS(WNSE|)SSS|WWWSSSSE(SW|NNNE)))$\n",
    "\n",
    "    Furthest room requires passing 23 doors\n",
    "\n",
    "    #############\n",
    "    #.|.|.|.|.|.#\n",
    "    #-#####-###-#\n",
    "    #.#.|.#.#.#.#\n",
    "    #-#-###-#-#-#\n",
    "    #.#.#.|.#.|.#\n",
    "    #-#-#-#####-#\n",
    "    #.#.#.#X|.#.#\n",
    "    #-#-#-###-#-#\n",
    "    #.|.#.|.#.#.#\n",
    "    ###-#-###-#-#\n",
    "    #.|.#.|.|.#.#\n",
    "    #############\n",
    "\n",
    "\n",
    "Regex: ^WSSEESWWWNW(S|NENNEEEENN(ESSSSW(NWSW|SSEN)|WSWWN(E|WWS(E|SS))))$\n",
    "\n",
    "    Furthest room requires passing 31 doors\n",
    "\n",
    "    ###############\n",
    "    #.|.|.|.#.|.|.#\n",
    "    #-###-###-#-#-#\n",
    "    #.|.#.|.|.#.#.#\n",
    "    #-#########-#-#\n",
    "    #.#.|.|.|.|.#.#\n",
    "    #-#-#########-#\n",
    "    #.#.#.|X#.|.#.#\n",
    "    ###-#-###-#-#-#\n",
    "    #.|.#.#.|.#.|.#\n",
    "    #-###-#####-###\n",
    "    #.|.#.|.|.#.#.#\n",
    "    #-#-#####-#-#-#\n",
    "    #.#.|.|.|.#.|.#\n",
    "    ###############\n",
    "\n",
    "What is the largest number of doors you would be required to pass through to reach a room? That is, find the room for which the shortest path from your starting location to that room would require passing through the most doors; what is the fewest doors you can pass through to reach it?"
   ]
  },
  {
   "cell_type": "markdown",
   "metadata": {},
   "source": [
    "# Day 21: Chronal Conversion \n",
    "You should have been watching where you were going, because as you wander the new North Pole base, you trip and fall into a very deep hole!\n",
    "\n",
    "Just kidding. You're falling through time again.\n",
    "\n",
    "If you keep up your current pace, you should have resolved all of the temporal anomalies by the next time the device activates. Since you have very little interest in browsing history in 500-year increments for the rest of your life, you need to find a way to get back to your present time.\n",
    "\n",
    "After a little research, you discover two important facts about the behavior of the device:\n",
    "\n",
    "First, you discover that the device is hard-wired to always send you back in time in 500-year increments. Changing this is probably not feasible.\n",
    "\n",
    "Second, you discover the activation system (your puzzle input) for the time travel module. Currently, it appears to run forever without halting.\n",
    "\n",
    "If you can cause the activation system to halt at a specific moment, maybe you can make the device send you so far back in time that you cause an integer underflow in time itself and wrap around back to your current time!\n",
    "\n",
    "The device executes the program as specified in manual section one and manual section two.\n",
    "\n",
    "Your goal is to figure out how the program works and cause it to halt. You can only control register 0; every other register begins at 0 as usual.\n",
    "\n",
    "Because time travel is a dangerous activity, the activation system begins with a few instructions which verify that bitwise AND (via bani) does a numeric operation and not an operation as if the inputs were interpreted as strings. If the test fails, it enters an infinite loop re-running the test instead of allowing the program to execute normally. If the test passes, the program continues, and assumes that all other bitwise operations (banr, bori, and borr) also interpret their inputs as numbers. (Clearly, the Elves who wrote this system were worried that someone might introduce a bug while trying to emulate this system with a scripting language.)\n",
    "\n",
    "What is the lowest non-negative integer value for register 0 that causes the program to halt after executing the fewest instructions? (Executing the same instruction multiple times counts as multiple instructions executed.)"
   ]
  },
  {
   "cell_type": "code",
   "execution_count": null,
   "metadata": {
    "collapsed": true
   },
   "outputs": [],
   "source": []
  }
 ],
 "metadata": {
  "kernelspec": {
   "display_name": "Python 2",
   "language": "python",
   "name": "python2"
  },
  "language_info": {
   "codemirror_mode": {
    "name": "ipython",
    "version": 2
   },
   "file_extension": ".py",
   "mimetype": "text/x-python",
   "name": "python",
   "nbconvert_exporter": "python",
   "pygments_lexer": "ipython2",
   "version": "2.7.14"
  }
 },
 "nbformat": 4,
 "nbformat_minor": 2
}

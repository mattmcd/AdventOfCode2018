{
 "cells": [
  {
   "cell_type": "code",
   "execution_count": 1,
   "metadata": {},
   "outputs": [],
   "source": [
    "import numpy as np\n",
    "import networkx as nx\n",
    "import re\n",
    "from collections import defaultdict\n",
    "import matplotlib.pyplot as plt\n",
    "%matplotlib inline"
   ]
  },
  {
   "cell_type": "code",
   "execution_count": 2,
   "metadata": {},
   "outputs": [],
   "source": [
    "# Helper function to read input from file if too large to paste inline\n",
    "def read_input(fname):\n",
    "    with open(fname, 'r') as f:\n",
    "        data_str = f.read()\n",
    "    return data_str"
   ]
  },
  {
   "cell_type": "markdown",
   "metadata": {},
   "source": [
    "# Day 1: Chronal Calibration \n",
    "\"We've detected some temporal anomalies,\" one of Santa's Elves at the Temporal Anomaly Research and Detection Instrument Station tells you. She sounded pretty worried when she called you down here. \"At 500-year intervals into the past, someone has been changing Santa's history!\"\n",
    "\n",
    "\"The good news is that the changes won't propagate to our time stream for another 25 days, and we have a device\" - she attaches something to your wrist - \"that will let you fix the changes with no such propagation delay. It's configured to send you 500 years further into the past every few days; that was the best we could do on such short notice.\"\n",
    "\n",
    "\"The bad news is that we are detecting roughly fifty anomalies throughout time; the device will indicate fixed anomalies with stars. The other bad news is that we only have one device and you're the best person for the job! Good lu--\" She taps a button on the device and you suddenly feel like you're falling. To save Christmas, you need to get all fifty stars by December 25th.\n",
    "\n",
    "Collect stars by solving puzzles. Two puzzles will be made available on each day in the advent calendar; the second puzzle is unlocked when you complete the first. Each puzzle grants one star. Good luck!\n",
    "\n",
    "After feeling like you've been falling for a few minutes, you look at the device's tiny screen. \"Error: Device must be calibrated before first use. Frequency drift detected. Cannot maintain destination lock.\" Below the message, the device shows a sequence of changes in frequency (your puzzle input). A value like +6 means the current frequency increases by 6; a value like -3 means the current frequency decreases by 3.\n",
    "\n",
    "For example, if the device displays frequency changes of +1, -2, +3, +1, then starting from a frequency of zero, the following changes would occur:\n",
    "\n",
    "    Current frequency  0, change of +1; resulting frequency  1.\n",
    "    Current frequency  1, change of -2; resulting frequency -1.\n",
    "    Current frequency -1, change of +3; resulting frequency  2.\n",
    "    Current frequency  2, change of +1; resulting frequency  3.\n",
    "    In this example, the resulting frequency is 3.\n",
    "\n",
    "Here are other example situations:\n",
    "\n",
    "    +1, +1, +1 results in  3\n",
    "    +1, +1, -2 results in  0\n",
    "    -1, -2, -3 results in -6\n",
    "\n",
    "Starting with a frequency of zero, what is the resulting frequency after all of the changes in frequency have been applied?\n",
    "\n",
    "Your puzzle answer was 402."
   ]
  },
  {
   "cell_type": "code",
   "execution_count": 5,
   "metadata": {},
   "outputs": [],
   "source": [
    "day1_input = read_input('day_01.txt')"
   ]
  },
  {
   "cell_type": "code",
   "execution_count": 12,
   "metadata": {},
   "outputs": [],
   "source": [
    "day1_freq_changes = map(int, day1_input.split())"
   ]
  },
  {
   "cell_type": "code",
   "execution_count": 13,
   "metadata": {},
   "outputs": [
    {
     "data": {
      "text/plain": [
       "402"
      ]
     },
     "execution_count": 13,
     "metadata": {},
     "output_type": "execute_result"
    }
   ],
   "source": [
    "# Part 1 - total frequency change\n",
    "sum(day1_freq_changes)"
   ]
  },
  {
   "cell_type": "markdown",
   "metadata": {},
   "source": [
    "## Day 1 Part Two \n",
    "You notice that the device repeats the same frequency change list over and over. To calibrate the device, you need to find the first frequency it reaches twice.\n",
    "\n",
    "For example, using the same list of changes above, the device would loop as follows:\n",
    "\n",
    "    Current frequency  0, change of +1; resulting frequency  1.\n",
    "    Current frequency  1, change of -2; resulting frequency -1.\n",
    "    Current frequency -1, change of +3; resulting frequency  2.\n",
    "    Current frequency  2, change of +1; resulting frequency  3.\n",
    "    (At this point, the device continues from the start of the list.)\n",
    "    Current frequency  3, change of +1; resulting frequency  4.\n",
    "    Current frequency  4, change of -2; resulting frequency  2, which has already been seen.\n",
    "In this example, the first frequency reached twice is 2. Note that your device might need to repeat its list of frequency changes many times before a duplicate frequency is found, and that duplicates might be found while in the middle of processing the list.\n",
    "\n",
    "Here are other examples:\n",
    "\n",
    "    +1, -1 first reaches 0 twice.\n",
    "    +3, +3, +4, -2, -4 first reaches 10 twice.\n",
    "    -6, +3, +8, +5, -6 first reaches 5 twice.\n",
    "    +7, +7, -2, -7, -4 first reaches 14 twice.\n",
    "What is the first frequency your device reaches twice?\n",
    "\n",
    "Your puzzle answer was 481."
   ]
  },
  {
   "cell_type": "code",
   "execution_count": 33,
   "metadata": {},
   "outputs": [],
   "source": [
    "def first_freq_seen_twice(changes):\n",
    "    # Keep looping through input and tracking what how many times we've seen current frequency\n",
    "    i = 0\n",
    "    loop_count = 0 \n",
    "    N = len(changes)\n",
    "    seen_twice = None\n",
    "    current_freq = 0\n",
    "    freq_seen = defaultdict(int)\n",
    "    freq_seen[0] = 1\n",
    "    while seen_twice is None:\n",
    "        if i % N == 0:\n",
    "            loop_count += 1\n",
    "        this_change = changes[i % N]\n",
    "        current_freq += this_change\n",
    "        freq_seen[current_freq] += 1\n",
    "        if freq_seen[current_freq] > 1:\n",
    "            seen_twice = current_freq\n",
    "        i += 1\n",
    "    return seen_twice, loop_count"
   ]
  },
  {
   "cell_type": "code",
   "execution_count": 36,
   "metadata": {},
   "outputs": [
    {
     "data": {
      "text/plain": [
       "(481, 142)"
      ]
     },
     "execution_count": 36,
     "metadata": {},
     "output_type": "execute_result"
    }
   ],
   "source": [
    "# first frequency seen twice and number of loop iterations required\n",
    "first_freq_seen_twice(day1_freq_changes)"
   ]
  },
  {
   "cell_type": "markdown",
   "metadata": {},
   "source": [
    "Feels like there should be a smarter way to do this e.g. use cumsum input list somehow.\n",
    "We see from the naive solution that it takes 142 loops to see a frequency again.\n",
    "\n",
    "The plot below shows that the frequency changes are usually small with a few large jumps, and from part 1 we know that each loop has a net offset of +402. So we're interested in number of loops required before second or third regions in plot below start to ovelap either with first region or each other.\n",
    "\n",
    "I don't have a solution for this yet, one to ponder."
   ]
  },
  {
   "cell_type": "code",
   "execution_count": 35,
   "metadata": {},
   "outputs": [
    {
     "data": {
      "image/png": "[encoded data removed]",
      "text/plain": [
       "<Figure size 432x288 with 1 Axes>"
      ]
     },
     "metadata": {},
     "output_type": "display_data"
    }
   ],
   "source": [
    "_ = plt.plot(np.cumsum(day1_freq_changes))\n",
    "_ = plt.show()"
   ]
  },
  {
   "cell_type": "markdown",
   "metadata": {},
   "source": [
    "# Day 2: Inventory Management System \n",
    "You stop falling through time, catch your breath, and check the screen on the device. \"Destination reached. Current Year: 1518. Current Location: North Pole Utility Closet 83N10.\" You made it! Now, to find those anomalies.\n",
    "\n",
    "Outside the utility closet, you hear footsteps and a voice. \"...I'm not sure either. But now that so many people have chimneys, maybe he could sneak in that way?\" Another voice responds, \"Actually, we've been working on a new kind of suit that would let him fit through tight spaces like that. But, I heard that a few days ago, they lost the prototype fabric, the design plans, everything! Nobody on the team can even seem to remember important details of the project!\"\n",
    "\n",
    "\"Wouldn't they have had enough fabric to fill several boxes in the warehouse? They'd be stored together, so the box IDs should be similar. Too bad it would take forever to search the warehouse for two similar box IDs...\" They walk too far away to hear any more.\n",
    "\n",
    "Late at night, you sneak to the warehouse - who knows what kinds of paradoxes you could cause if you were discovered - and use your fancy wrist device to quickly scan every box and produce a list of the likely candidates (your puzzle input).\n",
    "\n",
    "To make sure you didn't miss any, you scan the likely candidate boxes again, counting the number that have an ID containing exactly two of any letter and then separately counting those with exactly three of any letter. You can multiply those two counts together to get a rudimentary checksum and compare it to what your device predicts.\n",
    "\n",
    "For example, if you see the following box IDs:\n",
    "\n",
    "    abcdef contains no letters that appear exactly two or three times.\n",
    "    bababc contains two a and three b, so it counts for both.\n",
    "    abbcde contains two b, but no letter appears exactly three times.\n",
    "    abcccd contains three c, but no letter appears exactly two times.\n",
    "    aabcdd contains two a and two d, but it only counts once.\n",
    "    abcdee contains two e.\n",
    "    ababab contains three a and three b, but it only counts once.\n",
    "Of these box IDs, four of them contain a letter which appears exactly twice, and three of them contain a letter which appears exactly three times. Multiplying these together produces a checksum of 4 * 3 = 12.\n",
    "\n",
    "What is the checksum for your list of box IDs?\n",
    "\n",
    "Your puzzle answer was 6225."
   ]
  },
  {
   "cell_type": "code",
   "execution_count": 3,
   "metadata": {},
   "outputs": [],
   "source": [
    "box_ids = read_input('day_02.txt').split('\\n')"
   ]
  },
  {
   "cell_type": "code",
   "execution_count": 4,
   "metadata": {},
   "outputs": [
    {
     "data": {
      "text/plain": [
       "250"
      ]
     },
     "execution_count": 4,
     "metadata": {},
     "output_type": "execute_result"
    }
   ],
   "source": [
    "len(box_ids)"
   ]
  },
  {
   "cell_type": "code",
   "execution_count": 8,
   "metadata": {},
   "outputs": [],
   "source": [
    "def count_letters(box_id):\n",
    "    res = defaultdict(int)\n",
    "    for letter in box_id:\n",
    "        res[letter] += 1\n",
    "    count_2 = 1 if 2 in res.values() else 0\n",
    "    count_3 = 1 if 3 in res.values() else 0\n",
    "    return count_2, count_3"
   ]
  },
  {
   "cell_type": "code",
   "execution_count": 18,
   "metadata": {},
   "outputs": [
    {
     "data": {
      "text/plain": [
       "6225"
      ]
     },
     "execution_count": 18,
     "metadata": {},
     "output_type": "execute_result"
    }
   ],
   "source": [
    "# checksum = \n",
    "np.prod(np.array([sum(lst) for lst in zip(*[count_letters(box_id) for box_id in box_ids])]))"
   ]
  },
  {
   "cell_type": "markdown",
   "metadata": {},
   "source": [
    "# Part Two\n",
    "Confident that your list of box IDs is complete, you're ready to find the boxes full of prototype fabric.\n",
    "\n",
    "The boxes will have IDs which differ by exactly one character at the same position in both strings. For example, given the following box IDs:\n",
    "\n",
    "    abcde\n",
    "    fghij\n",
    "    klmno\n",
    "    pqrst\n",
    "    fguij\n",
    "    axcye\n",
    "    wvxyz\n",
    "The IDs abcde and axcye are close, but they differ by two characters (the second and fourth). However, the IDs fghij and fguij differ by exactly one character, the third (h and u). Those must be the correct boxes.\n",
    "\n",
    "What letters are common between the two correct box IDs? (In the example above, this is found by removing the differing character from either ID, producing fgij.)\n",
    "\n",
    "Your puzzle answer was revtaubfniyhsgxdoajwkqilp."
   ]
  },
  {
   "cell_type": "code",
   "execution_count": 22,
   "metadata": {},
   "outputs": [],
   "source": [
    "box_ids_ints = np.array([[ord(c) for c in box_id] for box_id in box_ids])"
   ]
  },
  {
   "cell_type": "code",
   "execution_count": 39,
   "metadata": {},
   "outputs": [],
   "source": [
    "def find_diff_1_boxes(box_ids):\n",
    "    X = np.array([[ord(c) for c in box_id] for box_id in box_ids])\n",
    "    res = []\n",
    "    n_boxes = len(box_ids)\n",
    "    for i in range(n_boxes):\n",
    "        for j in range(i, n_boxes):\n",
    "            char_diff = np.not_equal(X[i, :] - X[j, :], 0)\n",
    "            n_char_diff = char_diff.sum()\n",
    "            if n_char_diff == 1:\n",
    "                res.append((i, j, int(np.nonzero(char_diff)[0])))\n",
    "    return res"
   ]
  },
  {
   "cell_type": "code",
   "execution_count": 42,
   "metadata": {},
   "outputs": [
    {
     "data": {
      "text/plain": [
       "[('revtaubfniyhusgxdoajwkqilp',\n",
       "  'revtaubfniyhpsgxdoajwkqilp',\n",
       "  'revtaubfniyhsgxdoajwkqilp')]"
      ]
     },
     "execution_count": 42,
     "metadata": {},
     "output_type": "execute_result"
    }
   ],
   "source": [
    "[(box_ids[i], box_ids[j], box_ids[i][:ind] + box_ids[i][ind+1:]) for (i, j, ind) in find_diff_1_boxes(box_ids)]"
   ]
  },
  {
   "cell_type": "code",
   "execution_count": null,
   "metadata": {},
   "outputs": [],
   "source": []
  }
 ],
 "metadata": {
  "kernelspec": {
   "display_name": "conda_tensorflow_p27",
   "language": "python",
   "name": "conda_tensorflow_p27"
  },
  "language_info": {
   "codemirror_mode": {
    "name": "ipython",
    "version": 2
   },
   "file_extension": ".py",
   "mimetype": "text/x-python",
   "name": "python",
   "nbconvert_exporter": "python",
   "pygments_lexer": "ipython2",
   "version": "2.7.15"
  }
 },
 "nbformat": 4,
 "nbformat_minor": 2
}

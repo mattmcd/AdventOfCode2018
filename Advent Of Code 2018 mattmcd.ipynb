{
 "cells": [
  {
   "cell_type": "code",
   "execution_count": 1,
   "metadata": {},
   "outputs": [],
   "source": [
    "import numpy as np\n",
    "import pandas as pd\n",
    "import networkx as nx\n",
    "import re\n",
    "from collections import defaultdict\n",
    "import matplotlib.pyplot as plt\n",
    "%matplotlib inline"
   ]
  },
  {
   "cell_type": "code",
   "execution_count": 2,
   "metadata": {},
   "outputs": [],
   "source": [
    "# Helper function to read input from file if too large to paste inline\n",
    "def read_input(fname):\n",
    "    with open(fname, 'r') as f:\n",
    "        data_str = f.read()\n",
    "    return data_str"
   ]
  },
  {
   "cell_type": "markdown",
   "metadata": {},
   "source": [
    "# Day 1: Chronal Calibration \n",
    "\"We've detected some temporal anomalies,\" one of Santa's Elves at the Temporal Anomaly Research and Detection Instrument Station tells you. She sounded pretty worried when she called you down here. \"At 500-year intervals into the past, someone has been changing Santa's history!\"\n",
    "\n",
    "\"The good news is that the changes won't propagate to our time stream for another 25 days, and we have a device\" - she attaches something to your wrist - \"that will let you fix the changes with no such propagation delay. It's configured to send you 500 years further into the past every few days; that was the best we could do on such short notice.\"\n",
    "\n",
    "\"The bad news is that we are detecting roughly fifty anomalies throughout time; the device will indicate fixed anomalies with stars. The other bad news is that we only have one device and you're the best person for the job! Good lu--\" She taps a button on the device and you suddenly feel like you're falling. To save Christmas, you need to get all fifty stars by December 25th.\n",
    "\n",
    "Collect stars by solving puzzles. Two puzzles will be made available on each day in the advent calendar; the second puzzle is unlocked when you complete the first. Each puzzle grants one star. Good luck!\n",
    "\n",
    "After feeling like you've been falling for a few minutes, you look at the device's tiny screen. \"Error: Device must be calibrated before first use. Frequency drift detected. Cannot maintain destination lock.\" Below the message, the device shows a sequence of changes in frequency (your puzzle input). A value like +6 means the current frequency increases by 6; a value like -3 means the current frequency decreases by 3.\n",
    "\n",
    "For example, if the device displays frequency changes of +1, -2, +3, +1, then starting from a frequency of zero, the following changes would occur:\n",
    "\n",
    "    Current frequency  0, change of +1; resulting frequency  1.\n",
    "    Current frequency  1, change of -2; resulting frequency -1.\n",
    "    Current frequency -1, change of +3; resulting frequency  2.\n",
    "    Current frequency  2, change of +1; resulting frequency  3.\n",
    "    In this example, the resulting frequency is 3.\n",
    "\n",
    "Here are other example situations:\n",
    "\n",
    "    +1, +1, +1 results in  3\n",
    "    +1, +1, -2 results in  0\n",
    "    -1, -2, -3 results in -6\n",
    "\n",
    "Starting with a frequency of zero, what is the resulting frequency after all of the changes in frequency have been applied?\n",
    "\n",
    "Your puzzle answer was 402."
   ]
  },
  {
   "cell_type": "code",
   "execution_count": 3,
   "metadata": {},
   "outputs": [],
   "source": [
    "day1_input = read_input('day_01.txt')"
   ]
  },
  {
   "cell_type": "code",
   "execution_count": 4,
   "metadata": {},
   "outputs": [],
   "source": [
    "day1_freq_changes = map(int, day1_input.split())"
   ]
  },
  {
   "cell_type": "code",
   "execution_count": 5,
   "metadata": {},
   "outputs": [
    {
     "data": {
      "text/plain": [
       "402"
      ]
     },
     "execution_count": 5,
     "metadata": {},
     "output_type": "execute_result"
    }
   ],
   "source": [
    "# Part 1 - total frequency change\n",
    "sum(day1_freq_changes)"
   ]
  },
  {
   "cell_type": "markdown",
   "metadata": {},
   "source": [
    "## Day 1 Part Two \n",
    "You notice that the device repeats the same frequency change list over and over. To calibrate the device, you need to find the first frequency it reaches twice.\n",
    "\n",
    "For example, using the same list of changes above, the device would loop as follows:\n",
    "\n",
    "    Current frequency  0, change of +1; resulting frequency  1.\n",
    "    Current frequency  1, change of -2; resulting frequency -1.\n",
    "    Current frequency -1, change of +3; resulting frequency  2.\n",
    "    Current frequency  2, change of +1; resulting frequency  3.\n",
    "    (At this point, the device continues from the start of the list.)\n",
    "    Current frequency  3, change of +1; resulting frequency  4.\n",
    "    Current frequency  4, change of -2; resulting frequency  2, which has already been seen.\n",
    "In this example, the first frequency reached twice is 2. Note that your device might need to repeat its list of frequency changes many times before a duplicate frequency is found, and that duplicates might be found while in the middle of processing the list.\n",
    "\n",
    "Here are other examples:\n",
    "\n",
    "    +1, -1 first reaches 0 twice.\n",
    "    +3, +3, +4, -2, -4 first reaches 10 twice.\n",
    "    -6, +3, +8, +5, -6 first reaches 5 twice.\n",
    "    +7, +7, -2, -7, -4 first reaches 14 twice.\n",
    "What is the first frequency your device reaches twice?\n",
    "\n",
    "Your puzzle answer was 481."
   ]
  },
  {
   "cell_type": "code",
   "execution_count": 6,
   "metadata": {},
   "outputs": [],
   "source": [
    "def first_freq_seen_twice(changes):\n",
    "    # Keep looping through input and tracking what how many times we've seen current frequency\n",
    "    i = 0\n",
    "    loop_count = 0 \n",
    "    N = len(changes)\n",
    "    seen_twice = None\n",
    "    current_freq = 0\n",
    "    freq_seen = defaultdict(int)\n",
    "    freq_seen[0] = 1\n",
    "    while seen_twice is None:\n",
    "        if i % N == 0:\n",
    "            loop_count += 1\n",
    "        this_change = changes[i % N]\n",
    "        current_freq += this_change\n",
    "        freq_seen[current_freq] += 1\n",
    "        if freq_seen[current_freq] > 1:\n",
    "            seen_twice = current_freq\n",
    "        i += 1\n",
    "    return seen_twice, loop_count"
   ]
  },
  {
   "cell_type": "code",
   "execution_count": 7,
   "metadata": {},
   "outputs": [
    {
     "data": {
      "text/plain": [
       "(481, 142)"
      ]
     },
     "execution_count": 7,
     "metadata": {},
     "output_type": "execute_result"
    }
   ],
   "source": [
    "# first frequency seen twice and number of loop iterations required\n",
    "first_freq_seen_twice(day1_freq_changes)"
   ]
  },
  {
   "cell_type": "markdown",
   "metadata": {},
   "source": [
    "Feels like there should be a smarter way to do this e.g. use cumsum input list somehow.\n",
    "We see from the naive solution that it takes 142 loops to see a frequency again.\n",
    "\n",
    "The plot below shows that the frequency changes are usually small with a few large jumps, and from part 1 we know that each loop has a net offset of +402. So we're interested in number of loops required before second or third regions in plot below start to ovelap either with first region or each other.\n",
    "\n",
    "I don't have a solution for this yet, one to ponder."
   ]
  },
  {
   "cell_type": "code",
   "execution_count": 8,
   "metadata": {},
   "outputs": [
    {
     "data": {
      "image/png": "[encoded data removed]",
      "text/plain": [
       "<Figure size 432x288 with 1 Axes>"
      ]
     },
     "metadata": {},
     "output_type": "display_data"
    }
   ],
   "source": [
    "_ = plt.plot(np.cumsum(day1_freq_changes))\n",
    "_ = plt.show()"
   ]
  },
  {
   "cell_type": "markdown",
   "metadata": {},
   "source": [
    "# Day 2: Inventory Management System \n",
    "You stop falling through time, catch your breath, and check the screen on the device. \"Destination reached. Current Year: 1518. Current Location: North Pole Utility Closet 83N10.\" You made it! Now, to find those anomalies.\n",
    "\n",
    "Outside the utility closet, you hear footsteps and a voice. \"...I'm not sure either. But now that so many people have chimneys, maybe he could sneak in that way?\" Another voice responds, \"Actually, we've been working on a new kind of suit that would let him fit through tight spaces like that. But, I heard that a few days ago, they lost the prototype fabric, the design plans, everything! Nobody on the team can even seem to remember important details of the project!\"\n",
    "\n",
    "\"Wouldn't they have had enough fabric to fill several boxes in the warehouse? They'd be stored together, so the box IDs should be similar. Too bad it would take forever to search the warehouse for two similar box IDs...\" They walk too far away to hear any more.\n",
    "\n",
    "Late at night, you sneak to the warehouse - who knows what kinds of paradoxes you could cause if you were discovered - and use your fancy wrist device to quickly scan every box and produce a list of the likely candidates (your puzzle input).\n",
    "\n",
    "To make sure you didn't miss any, you scan the likely candidate boxes again, counting the number that have an ID containing exactly two of any letter and then separately counting those with exactly three of any letter. You can multiply those two counts together to get a rudimentary checksum and compare it to what your device predicts.\n",
    "\n",
    "For example, if you see the following box IDs:\n",
    "\n",
    "    abcdef contains no letters that appear exactly two or three times.\n",
    "    bababc contains two a and three b, so it counts for both.\n",
    "    abbcde contains two b, but no letter appears exactly three times.\n",
    "    abcccd contains three c, but no letter appears exactly two times.\n",
    "    aabcdd contains two a and two d, but it only counts once.\n",
    "    abcdee contains two e.\n",
    "    ababab contains three a and three b, but it only counts once.\n",
    "Of these box IDs, four of them contain a letter which appears exactly twice, and three of them contain a letter which appears exactly three times. Multiplying these together produces a checksum of 4 * 3 = 12.\n",
    "\n",
    "What is the checksum for your list of box IDs?\n",
    "\n",
    "Your puzzle answer was 6225."
   ]
  },
  {
   "cell_type": "code",
   "execution_count": 9,
   "metadata": {},
   "outputs": [],
   "source": [
    "box_ids = read_input('day_02.txt').split('\\n')"
   ]
  },
  {
   "cell_type": "code",
   "execution_count": 10,
   "metadata": {},
   "outputs": [
    {
     "data": {
      "text/plain": [
       "250"
      ]
     },
     "execution_count": 10,
     "metadata": {},
     "output_type": "execute_result"
    }
   ],
   "source": [
    "len(box_ids)"
   ]
  },
  {
   "cell_type": "code",
   "execution_count": 11,
   "metadata": {},
   "outputs": [],
   "source": [
    "def count_letters(box_id):\n",
    "    res = defaultdict(int)\n",
    "    for letter in box_id:\n",
    "        res[letter] += 1\n",
    "    count_2 = 1 if 2 in res.values() else 0\n",
    "    count_3 = 1 if 3 in res.values() else 0\n",
    "    return count_2, count_3"
   ]
  },
  {
   "cell_type": "code",
   "execution_count": 12,
   "metadata": {},
   "outputs": [
    {
     "data": {
      "text/plain": [
       "6225"
      ]
     },
     "execution_count": 12,
     "metadata": {},
     "output_type": "execute_result"
    }
   ],
   "source": [
    "# checksum = \n",
    "np.prod(np.array([sum(lst) for lst in zip(*[count_letters(box_id) for box_id in box_ids])]))"
   ]
  },
  {
   "cell_type": "markdown",
   "metadata": {},
   "source": [
    "# Part Two\n",
    "Confident that your list of box IDs is complete, you're ready to find the boxes full of prototype fabric.\n",
    "\n",
    "The boxes will have IDs which differ by exactly one character at the same position in both strings. For example, given the following box IDs:\n",
    "\n",
    "    abcde\n",
    "    fghij\n",
    "    klmno\n",
    "    pqrst\n",
    "    fguij\n",
    "    axcye\n",
    "    wvxyz\n",
    "The IDs abcde and axcye are close, but they differ by two characters (the second and fourth). However, the IDs fghij and fguij differ by exactly one character, the third (h and u). Those must be the correct boxes.\n",
    "\n",
    "What letters are common between the two correct box IDs? (In the example above, this is found by removing the differing character from either ID, producing fgij.)\n",
    "\n",
    "Your puzzle answer was revtaubfniyhsgxdoajwkqilp."
   ]
  },
  {
   "cell_type": "code",
   "execution_count": 13,
   "metadata": {},
   "outputs": [],
   "source": [
    "box_ids_ints = np.array([[ord(c) for c in box_id] for box_id in box_ids])"
   ]
  },
  {
   "cell_type": "code",
   "execution_count": 14,
   "metadata": {},
   "outputs": [],
   "source": [
    "def find_diff_1_boxes(box_ids):\n",
    "    X = np.array([[ord(c) for c in box_id] for box_id in box_ids])\n",
    "    res = []\n",
    "    n_boxes = len(box_ids)\n",
    "    for i in range(n_boxes):\n",
    "        for j in range(i, n_boxes):\n",
    "            char_diff = np.not_equal(X[i, :] - X[j, :], 0)\n",
    "            n_char_diff = char_diff.sum()\n",
    "            if n_char_diff == 1:\n",
    "                res.append((i, j, int(np.nonzero(char_diff)[0])))\n",
    "    return res"
   ]
  },
  {
   "cell_type": "code",
   "execution_count": 15,
   "metadata": {},
   "outputs": [
    {
     "data": {
      "text/plain": [
       "[('revtaubfniyhusgxdoajwkqilp',\n",
       "  'revtaubfniyhpsgxdoajwkqilp',\n",
       "  'revtaubfniyhsgxdoajwkqilp')]"
      ]
     },
     "execution_count": 15,
     "metadata": {},
     "output_type": "execute_result"
    }
   ],
   "source": [
    "[(box_ids[i], box_ids[j], box_ids[i][:ind] + box_ids[i][ind+1:]) for (i, j, ind) in find_diff_1_boxes(box_ids)]"
   ]
  },
  {
   "cell_type": "markdown",
   "metadata": {},
   "source": [
    "# Day 3: No Matter How You Slice It \n",
    "The Elves managed to locate the chimney-squeeze prototype fabric for Santa's suit (thanks to someone who helpfully wrote its box IDs on the wall of the warehouse in the middle of the night). Unfortunately, anomalies are still affecting them - nobody can even agree on how to cut the fabric.\n",
    "\n",
    "The whole piece of fabric they're working on is a very large square - at least 1000 inches on each side.\n",
    "\n",
    "Each Elf has made a claim about which area of fabric would be ideal for Santa's suit. All claims have an ID and consist of a single rectangle with edges parallel to the edges of the fabric. Each claim's rectangle is defined as follows:\n",
    "\n",
    "* The number of inches between the left edge of the fabric and the left edge of the rectangle.\n",
    "* The number of inches between the top edge of the fabric and the top edge of the rectangle.\n",
    "* The width of the rectangle in inches.\n",
    "* The height of the rectangle in inches.\n",
    "\n",
    "A claim like `#123 @ 3,2: 5x4` means that claim ID 123 specifies a rectangle 3 inches from the left edge, 2 inches from the top edge, 5 inches wide, and 4 inches tall. Visually, it claims the square inches of fabric represented by # (and ignores the square inches of fabric represented by .) in the diagram below:\n",
    "\n",
    "    ...........\n",
    "    ...........\n",
    "    ...#####...\n",
    "    ...#####...\n",
    "    ...#####...\n",
    "    ...#####...\n",
    "    ...........\n",
    "    ...........\n",
    "    ...........\n",
    "The problem is that many of the claims overlap, causing two or more claims to cover part of the same areas. For example, consider the following claims:\n",
    "\n",
    "    #1 @ 1,3: 4x4\n",
    "    #2 @ 3,1: 4x4\n",
    "    #3 @ 5,5: 2x2\n",
    "Visually, these claim the following areas:\n",
    "\n",
    "    ........\n",
    "    ...2222.\n",
    "    ...2222.\n",
    "    .11XX22.\n",
    "    .11XX22.\n",
    "    .111133.\n",
    "    .111133.\n",
    "    ........\n",
    "The four square inches marked with X are claimed by both 1 and 2. (Claim 3, while adjacent to the others, does not overlap either of them.)\n",
    "\n",
    "If the Elves all proceed with their own plans, none of them will have enough fabric. How many square inches of fabric are within two or more claims?\n",
    "\n",
    "Your puzzle answer was 116920."
   ]
  },
  {
   "cell_type": "code",
   "execution_count": 16,
   "metadata": {},
   "outputs": [],
   "source": [
    "def parse_day_03():\n",
    "    lines = [line.split() for line in read_input('day_03.txt').split('\\n')]\n",
    "    def parse_rec(rec):\n",
    "        id = int(rec[0].lstrip('#'))\n",
    "        x0, y0 = map(int, rec[2].rstrip(':').split(','))\n",
    "        w, h = map(int, rec[3].split('x'))\n",
    "        return {'id': id, 'x0': x0, 'y0': y0, 'w': w, 'h': h}\n",
    "    recs = map(parse_rec, lines)\n",
    "    return recs"
   ]
  },
  {
   "cell_type": "code",
   "execution_count": 17,
   "metadata": {},
   "outputs": [],
   "source": [
    "claims = parse_day_03()"
   ]
  },
  {
   "cell_type": "code",
   "execution_count": 18,
   "metadata": {},
   "outputs": [],
   "source": [
    "def find_overlap(claims):\n",
    "    X = np.zeros((1000, 1000))\n",
    "    claim_ok = []\n",
    "    # Part 1: label all the squares claimed\n",
    "    for claim in claims:\n",
    "        X[claim['y0']:claim['y0']+claim['h'], claim['x0']:claim['x0']+claim['w']] += 1\n",
    "    n_overlap = (X > 1).sum()\n",
    "    \n",
    "    # Part 2: check whether a claim is the only one for a given region\n",
    "    for claim in claims:\n",
    "        all_ok = (X[claim['y0']:claim['y0']+claim['h'], claim['x0']:claim['x0']+claim['w']] == 1).all()\n",
    "        if all_ok:\n",
    "            claim_ok.append(claim['id'])\n",
    "            \n",
    "    return n_overlap, claim_ok"
   ]
  },
  {
   "cell_type": "code",
   "execution_count": 19,
   "metadata": {},
   "outputs": [
    {
     "data": {
      "text/plain": [
       "(116920, [382])"
      ]
     },
     "execution_count": 19,
     "metadata": {},
     "output_type": "execute_result"
    }
   ],
   "source": [
    "find_overlap(claims)"
   ]
  },
  {
   "cell_type": "markdown",
   "metadata": {},
   "source": [
    "# Part Two \n",
    "Amidst the chaos, you notice that exactly one claim doesn't overlap by even a single square inch of fabric with any other claim. If you can somehow draw attention to it, maybe the Elves will be able to make Santa's suit after all!\n",
    "\n",
    "For example, in the claims above, only claim 3 is intact after all claims are made.\n",
    "\n",
    "What is the ID of the only claim that doesn't overlap?\n",
    "\n",
    "Your puzzle answer was 382."
   ]
  },
  {
   "cell_type": "markdown",
   "metadata": {},
   "source": [
    "# Day 4: Repose Record \n",
    "You've sneaked into another supply closet - this time, it's across from the prototype suit manufacturing lab. You need to sneak inside and fix the issues with the suit, but there's a guard stationed outside the lab, so this is as close as you can safely get.\n",
    "\n",
    "As you search the closet for anything that might help, you discover that you're not the first person to want to sneak in. Covering the walls, someone has spent an hour starting every midnight for the past few months secretly observing this guard post! They've been writing down the ID of the one guard on duty that night - the Elves seem to have decided that one guard was enough for the overnight shift - as well as when they fall asleep or wake up while at their post (your puzzle input).\n",
    "\n",
    "For example, consider the following records, which have already been organized into chronological order:\n",
    "\n",
    "    [1518-11-01 00:00] Guard #10 begins shift\n",
    "    [1518-11-01 00:05] falls asleep\n",
    "    [1518-11-01 00:25] wakes up\n",
    "    [1518-11-01 00:30] falls asleep\n",
    "    [1518-11-01 00:55] wakes up\n",
    "    [1518-11-01 23:58] Guard #99 begins shift\n",
    "    [1518-11-02 00:40] falls asleep\n",
    "    [1518-11-02 00:50] wakes up\n",
    "    [1518-11-03 00:05] Guard #10 begins shift\n",
    "    [1518-11-03 00:24] falls asleep\n",
    "    [1518-11-03 00:29] wakes up\n",
    "    [1518-11-04 00:02] Guard #99 begins shift\n",
    "    [1518-11-04 00:36] falls asleep\n",
    "    [1518-11-04 00:46] wakes up\n",
    "    [1518-11-05 00:03] Guard #99 begins shift\n",
    "    [1518-11-05 00:45] falls asleep\n",
    "    [1518-11-05 00:55] wakes up\n",
    "Timestamps are written using year-month-day hour:minute format. The guard falling asleep or waking up is always the one whose shift most recently started. Because all asleep/awake times are during the midnight hour (00:00 - 00:59), only the minute portion (00 - 59) is relevant for those events.\n",
    "\n",
    "Visually, these records show that the guards are asleep at these times:\n",
    "\n",
    "    Date   ID   Minute\n",
    "                000000000011111111112222222222333333333344444444445555555555\n",
    "                012345678901234567890123456789012345678901234567890123456789\n",
    "    11-01  #10  .....####################.....#########################.....\n",
    "    11-02  #99  ........................................##########..........\n",
    "    11-03  #10  ........................#####...............................\n",
    "    11-04  #99  ....................................##########..............\n",
    "    11-05  #99  .............................................##########.....\n",
    "The columns are Date, which shows the month-day portion of the relevant day; ID, which shows the guard on duty that day; and Minute, which shows the minutes during which the guard was asleep within the midnight hour. (The Minute column's header shows the minute's ten's digit in the first row and the one's digit in the second row.) Awake is shown as ., and asleep is shown as #.\n",
    "\n",
    "Note that guards count as asleep on the minute they fall asleep, and they count as awake on the minute they wake up. For example, because Guard #10 wakes up at 00:25 on 1518-11-01, minute 25 is marked as awake.\n",
    "\n",
    "If you can figure out the guard most likely to be asleep at a specific time, you might be able to trick that guard into working tonight so you can have the best chance of sneaking in. You have two strategies for choosing the best guard/minute combination.\n",
    "\n",
    "__Strategy 1__: Find the guard that has the most minutes asleep. What minute does that guard spend asleep the most?\n",
    "\n",
    "In the example above, Guard #10 spent the most minutes asleep, a total of 50 minutes (20+25+5), while Guard #99 only slept for a total of 30 minutes (10+10+10). Guard #10 was asleep most during minute 24 (on two days, whereas any other minute the guard was asleep was only seen on one day).\n",
    "\n",
    "While this example listed the entries in chronological order, your entries are in the order you found them. You'll need to organize them before they can be analyzed.\n",
    "\n",
    "What is the ID of the guard you chose multiplied by the minute you chose? (In the above example, the answer would be 10 * 24 = 240.)\n",
    "\n",
    "Your puzzle answer was 146622."
   ]
  },
  {
   "cell_type": "code",
   "execution_count": 20,
   "metadata": {},
   "outputs": [],
   "source": [
    "events = sorted(read_input('day_04.txt').split('\\n'))"
   ]
  },
  {
   "cell_type": "code",
   "execution_count": 21,
   "metadata": {},
   "outputs": [],
   "source": [
    "def parse_sleep_events(events):\n",
    "    res = []\n",
    "    rec = None\n",
    "    for event in events:\n",
    "        if 'Guard' in event:\n",
    "            # Start new record\n",
    "            if rec is not None:\n",
    "                res.append(rec)\n",
    "            rec = {\n",
    "                'guard_id': int(re.findall('#(\\d+)', event)[0]),\n",
    "                'sleep': [],\n",
    "                'wake': []\n",
    "            }\n",
    "        if 'asleep' in event:\n",
    "            rec['sleep'].append(int(re.findall(' 00:(\\d{2})', event)[0]))\n",
    "        if 'wakes' in event:\n",
    "            rec['wake'].append(int(re.findall(' 00:(\\d{2})', event)[0]))\n",
    "    guard_sleeps = defaultdict(list)\n",
    "    for rec in res:\n",
    "        shift = np.zeros(60, dtype=np.int32)\n",
    "        for sleep in rec['sleep']:\n",
    "            shift[sleep] = 1\n",
    "        for wake in rec['wake']:\n",
    "            shift[wake] = -1\n",
    "        shift = np.cumsum(shift)\n",
    "        guard_sleeps[rec['guard_id']].append(shift)\n",
    "    for guard_id in guard_sleeps.keys():\n",
    "        guard_sleeps[guard_id] = np.array(guard_sleeps[guard_id])\n",
    "    return guard_sleeps"
   ]
  },
  {
   "cell_type": "code",
   "execution_count": 22,
   "metadata": {},
   "outputs": [],
   "source": [
    "guard_sleeps = parse_sleep_events(events)"
   ]
  },
  {
   "cell_type": "code",
   "execution_count": 23,
   "metadata": {},
   "outputs": [],
   "source": [
    "def find_sleepiest(guard_sleeps):\n",
    "    total_sleep = {k: v.sum() for k, v in guard_sleeps.iteritems()}\n",
    "    sleepiest = None\n",
    "    max_sleep = 0\n",
    "    for guard, sleep in total_sleep.iteritems():\n",
    "        if sleep > max_sleep:\n",
    "            sleepiest = guard\n",
    "            max_sleep = sleep\n",
    "    most_often_asleep = np.argmax(np.sum(guard_sleeps[sleepiest], axis=0))\n",
    "    return sleepiest, max_sleep, most_often_asleep, sleepiest*most_often_asleep"
   ]
  },
  {
   "cell_type": "code",
   "execution_count": 24,
   "metadata": {},
   "outputs": [
    {
     "data": {
      "text/plain": [
       "(3491, 529, 42, 146622)"
      ]
     },
     "execution_count": 24,
     "metadata": {},
     "output_type": "execute_result"
    }
   ],
   "source": [
    "find_sleepiest(guard_sleeps)"
   ]
  },
  {
   "cell_type": "markdown",
   "metadata": {},
   "source": [
    "# Part Two \n",
    "Strategy 2: Of all guards, which guard is most frequently asleep on the same minute?\n",
    "\n",
    "In the example above, Guard #99 spent minute 45 asleep more than any other guard or minute - three times in total. (In all other cases, any guard spent any minute asleep at most twice.)\n",
    "\n",
    "What is the ID of the guard you chose multiplied by the minute you chose? (In the above example, the answer would be 99 * 45 = 4455.)\n",
    "\n",
    "Your puzzle answer was 31848."
   ]
  },
  {
   "cell_type": "code",
   "execution_count": 25,
   "metadata": {},
   "outputs": [],
   "source": [
    "def find_most_often_asleep(guard_sleeps):\n",
    "    often_asleep = {k: np.sum(v, axis=0) for k, v in guard_sleeps.iteritems()}\n",
    "    most_sleeps = 0\n",
    "    sleep_time = None\n",
    "    sleep_guard = None\n",
    "    for guard, sleep in often_asleep.iteritems():\n",
    "        if np.max(sleep) > most_sleeps:\n",
    "            most_sleeps = np.max(sleep)\n",
    "            sleep_time = np.argmax(sleep)\n",
    "            sleep_guard = guard\n",
    "    return sleep_guard, most_sleeps, sleep_time, sleep_guard * sleep_time"
   ]
  },
  {
   "cell_type": "code",
   "execution_count": 26,
   "metadata": {},
   "outputs": [
    {
     "data": {
      "text/plain": [
       "(1327, 17, 24, 31848)"
      ]
     },
     "execution_count": 26,
     "metadata": {},
     "output_type": "execute_result"
    }
   ],
   "source": [
    "find_most_often_asleep(guard_sleeps)"
   ]
  },
  {
   "cell_type": "markdown",
   "metadata": {},
   "source": [
    "# Day 5: Alchemical Reduction \n",
    "You've managed to sneak in to the prototype suit manufacturing lab. The Elves are making decent progress, but are still struggling with the suit's size reduction capabilities.\n",
    "\n",
    "While the very latest in 1518 alchemical technology might have solved their problem eventually, you can do better. You scan the chemical composition of the suit's material and discover that it is formed by extremely long polymers (one of which is available as your puzzle input).\n",
    "\n",
    "The polymer is formed by smaller units which, when triggered, react with each other such that two adjacent units of the same type and opposite polarity are destroyed. Units' types are represented by letters; units' polarity is represented by capitalization. For instance, r and R are units with the same type but opposite polarity, whereas r and s are entirely different types and do not react.\n",
    "\n",
    "For example:\n",
    "\n",
    "- In aA, a and A react, leaving nothing behind.\n",
    "- In abBA, bB destroys itself, leaving aA. As above, this then destroys itself, leaving nothing.\n",
    "- In abAB, no two adjacent units are of the same type, and so nothing happens.\n",
    "- In aabAAB, even though aa and AA are of the same type, their polarities match, and so nothing happens.\n",
    "\n",
    "Now, consider a larger example, dabAcCaCBAcCcaDA:\n",
    "\n",
    "    dabAcCaCBAcCcaDA  The first 'cC' is removed.\n",
    "    dabAaCBAcCcaDA    This creates 'Aa', which is removed.\n",
    "    dabCBAcCcaDA      Either 'cC' or 'Cc' are removed (the result is the same).\n",
    "    dabCBAcaDA        No further actions can be taken.\n",
    "After all possible reactions, the resulting polymer contains 10 units.\n",
    "\n",
    "How many units remain after fully reacting the polymer you scanned? \n",
    "\n",
    "Your puzzle answer was 11814."
   ]
  },
  {
   "cell_type": "code",
   "execution_count": 27,
   "metadata": {},
   "outputs": [],
   "source": [
    "polymer = read_input('day_05.txt')"
   ]
  },
  {
   "cell_type": "code",
   "execution_count": 28,
   "metadata": {},
   "outputs": [],
   "source": [
    "def reduce_polymer(polymer, remove_unit=None):\n",
    "    lower_letters = [chr(x) for x in range(ord('a'), ord('z') + 1)]\n",
    "    upper_letters = [chr(x) for x in range(ord('A'), ord('Z') + 1)]\n",
    "    lower_upper = [low + upp for low, upp in zip(lower_letters, upper_letters)]\n",
    "    upper_lower = [upp + low for low, upp in zip(lower_letters, upper_letters)]\n",
    "    if remove_unit is not None:\n",
    "        polymer = polymer.replace(remove_unit.lower(), '').replace(remove_unit.upper(), '')\n",
    "    n_poly = len(polymer)\n",
    "    n_poly_new = n_poly\n",
    "    done = False\n",
    "    while not done:\n",
    "        for lu in lower_upper:\n",
    "            polymer = polymer.replace(lu, '')\n",
    "        for ul in upper_lower:\n",
    "            polymer = polymer.replace(ul, '')\n",
    "        n_poly_new = len(polymer)\n",
    "        done = n_poly_new == n_poly\n",
    "        n_poly = n_poly_new\n",
    "        \n",
    "    return polymer"
   ]
  },
  {
   "cell_type": "code",
   "execution_count": 29,
   "metadata": {},
   "outputs": [
    {
     "data": {
      "text/plain": [
       "11814"
      ]
     },
     "execution_count": 29,
     "metadata": {},
     "output_type": "execute_result"
    }
   ],
   "source": [
    "len(reduce_polymer(polymer))"
   ]
  },
  {
   "cell_type": "markdown",
   "metadata": {},
   "source": [
    "# Part Two \n",
    "Time to improve the polymer.\n",
    "\n",
    "One of the unit types is causing problems; it's preventing the polymer from collapsing as much as it should. Your goal is to figure out which unit type is causing the most problems, remove all instances of it (regardless of polarity), fully react the remaining polymer, and measure its length.\n",
    "\n",
    "For example, again using the polymer dabAcCaCBAcCcaDA from above:\n",
    "\n",
    "- Removing all A/a units produces dbcCCBcCcD. Fully reacting this polymer produces dbCBcD, which has length 6.\n",
    "- Removing all B/b units produces daAcCaCAcCcaDA. Fully reacting this polymer produces daCAcaDA, which has length 8.\n",
    "- Removing all C/c units produces dabAaBAaDA. Fully reacting this polymer produces daDA, which has length 4.\n",
    "- Removing all D/d units produces abAcCaCBAcCcaA. Fully reacting this polymer produces abCBAc, which has length 6.\n",
    "In this example, removing all C/c units was best, producing the answer 4.\n",
    "\n",
    "What is the length of the shortest polymer you can produce by removing all units of exactly one type and fully reacting the result?\n",
    "\n",
    "Your puzzle answer was 4282."
   ]
  },
  {
   "cell_type": "code",
   "execution_count": 30,
   "metadata": {},
   "outputs": [
    {
     "data": {
      "text/plain": [
       "4282"
      ]
     },
     "execution_count": 30,
     "metadata": {},
     "output_type": "execute_result"
    }
   ],
   "source": [
    "min([len(reduce_polymer(polymer, chr(x))) for x in range(ord('a'), ord('z')+1)])"
   ]
  },
  {
   "cell_type": "markdown",
   "metadata": {},
   "source": [
    "# Day 6: Chronal Coordinates \n",
    "The device on your wrist beeps several times, and once again you feel like you're falling.\n",
    "\n",
    "\"Situation critical,\" the device announces. \"Destination indeterminate. Chronal interference detected. Please specify new target coordinates.\"\n",
    "\n",
    "The device then produces a list of coordinates (your puzzle input). Are they places it thinks are safe or dangerous? It recommends you check manual page 729. The Elves did not give you a manual.\n",
    "\n",
    "If they're dangerous, maybe you can minimize the danger by finding the coordinate that gives the largest distance from the other points.\n",
    "\n",
    "Using only the Manhattan distance, determine the area around each coordinate by counting the number of integer X,Y locations that are closest to that coordinate (and aren't tied in distance to any other coordinate).\n",
    "\n",
    "Your goal is to find the size of the largest area that isn't infinite. For example, consider the following list of coordinates:\n",
    "\n",
    "    1, 1\n",
    "    1, 6\n",
    "    8, 3\n",
    "    3, 4\n",
    "    5, 5\n",
    "    8, 9\n",
    "If we name these coordinates A through F, we can draw them on a grid, putting 0,0 at the top left:\n",
    "\n",
    "    ..........\n",
    "    .A........\n",
    "    ..........\n",
    "    ........C.\n",
    "    ...D......\n",
    "    .....E....\n",
    "    .B........\n",
    "    ..........\n",
    "    ..........\n",
    "    ........F.\n",
    "This view is partial - the actual grid extends infinitely in all directions. Using the Manhattan distance, each location's closest coordinate can be determined, shown here in lowercase:\n",
    "\n",
    "    aaaaa.cccc\n",
    "    aAaaa.cccc\n",
    "    aaaddecccc\n",
    "    aadddeccCc\n",
    "    ..dDdeeccc\n",
    "    bb.deEeecc\n",
    "    bBb.eeee..\n",
    "    bbb.eeefff\n",
    "    bbb.eeffff\n",
    "    bbb.ffffFf\n",
    "Locations shown as . are equally far from two or more coordinates, and so they don't count as being closest to any.\n",
    "\n",
    "In this example, the areas of coordinates A, B, C, and F are infinite - while not shown here, their areas extend forever outside the visible grid. However, the areas of coordinates D and E are finite: D is closest to 9 locations, and E is closest to 17 (both including the coordinate's location itself). Therefore, in this example, the size of the largest area is 17.\n",
    "\n",
    "What is the size of the largest area that isn't infinite?\n",
    "\n",
    "Your puzzle answer was 4342."
   ]
  },
  {
   "cell_type": "code",
   "execution_count": 31,
   "metadata": {},
   "outputs": [],
   "source": [
    "coords = np.array([[int(x), int(y)] for x, y in  [c.split(',') for c in read_input('day_06.txt').split('\\n') ]])"
   ]
  },
  {
   "cell_type": "code",
   "execution_count": 32,
   "metadata": {},
   "outputs": [
    {
     "data": {
      "text/plain": [
       "array([[156, 193],\n",
       "       [ 81, 315],\n",
       "       [ 50, 197],\n",
       "       [ 84, 234],\n",
       "       [124, 162],\n",
       "       [339, 345],\n",
       "       [259, 146],\n",
       "       [240, 350],\n",
       "       [ 97, 310],\n",
       "       [202, 119]])"
      ]
     },
     "execution_count": 32,
     "metadata": {},
     "output_type": "execute_result"
    }
   ],
   "source": [
    " coords[:10]"
   ]
  },
  {
   "cell_type": "code",
   "execution_count": 33,
   "metadata": {},
   "outputs": [],
   "source": [
    "def label_closest(coords):\n",
    "    x_max, y_max = coords.max(axis=0) + 1\n",
    "    region = np.nan*np.zeros((x_max, y_max))\n",
    "    for x in range(x_max):\n",
    "        for y in range(y_max):\n",
    "            dist = np.sum(np.abs(coords - np.array([x, y])), axis=1)\n",
    "            if len(dist[dist == dist.min()]) == 1:\n",
    "                region[x, y] = np.argmin(dist)\n",
    "    return region"
   ]
  },
  {
   "cell_type": "code",
   "execution_count": 34,
   "metadata": {},
   "outputs": [],
   "source": [
    "closest = label_closest(coords)"
   ]
  },
  {
   "cell_type": "code",
   "execution_count": 35,
   "metadata": {},
   "outputs": [],
   "source": [
    "def find_largest_finite_area(closest):\n",
    "    # Ignore points that go to infinity ie ones on boundary\n",
    "    on_boundary = [int(x) for x in list(\n",
    "        set(closest[0, :].tolist()) | set(closest[-1, :].tolist()) \n",
    "        | set(closest[:, 0].tolist()) | set(closest[:, -1].tolist())) if not np.isnan(x)]\n",
    "    all_indexes = [int(x) for x in np.unique(closest) if not np.isnan(x)]\n",
    "    finite_region_indexes = list(set(all_indexes) - set(on_boundary))\n",
    "    max_area = 0\n",
    "    max_area_index = None\n",
    "    for ind in finite_region_indexes:\n",
    "        area = np.sum(closest == ind)\n",
    "        if area > max_area:\n",
    "            max_area = area\n",
    "            max_area_index = ind\n",
    "    return max_area_index, max_area"
   ]
  },
  {
   "cell_type": "code",
   "execution_count": 36,
   "metadata": {},
   "outputs": [
    {
     "data": {
      "text/plain": [
       "(16, 4342)"
      ]
     },
     "execution_count": 36,
     "metadata": {},
     "output_type": "execute_result"
    }
   ],
   "source": [
    "find_largest_finite_area(closest)"
   ]
  },
  {
   "cell_type": "markdown",
   "metadata": {},
   "source": [
    "# Part Two \n",
    "On the other hand, if the coordinates are safe, maybe the best you can do is try to find a region near as many coordinates as possible.\n",
    "\n",
    "For example, suppose you want the sum of the Manhattan distance to all of the coordinates to be less than 32. For each location, add up the distances to all of the given coordinates; if the total of those distances is less than 32, that location is within the desired region. Using the same coordinates as above, the resulting region looks like this:\n",
    "\n",
    "    ..........\n",
    "    .A........\n",
    "    ..........\n",
    "    ...###..C.\n",
    "    ..#D###...\n",
    "    ..###E#...\n",
    "    .B.###....\n",
    "    ..........\n",
    "    ..........\n",
    "    ........F.\n",
    "In particular, consider the highlighted location 4,3 located at the top middle of the region. Its calculation is as follows, where abs() is the absolute value function:\n",
    "\n",
    "- Distance to coordinate A: `abs(4-1) + abs(3-1) =  5`\n",
    "- Distance to coordinate B: `abs(4-1) + abs(3-6) =  6`\n",
    "- Distance to coordinate C: `abs(4-8) + abs(3-3) =  4`\n",
    "- Distance to coordinate D: `abs(4-3) + abs(3-4) =  2`\n",
    "- Distance to coordinate E: `abs(4-5) + abs(3-5) =  3`\n",
    "- Distance to coordinate F: `abs(4-8) + abs(3-9) = 10`\n",
    "- Total distance: `5 + 6 + 4 + 2 + 3 + 10 = 30`\n",
    "\n",
    "Because the total distance to all coordinates (30) is less than 32, the location is __within__ the region.\n",
    "\n",
    "This region, which also includes coordinates D and E, has a total size of __16__.\n",
    "\n",
    "Your actual region will need to be much larger than this example, though, instead including all locations with a total distance of less than 10000.\n",
    "\n",
    "What is the size of the region containing all locations which have a total distance to all given coordinates of less than 10000?\n",
    "\n",
    "Your puzzle answer was 42966."
   ]
  },
  {
   "cell_type": "code",
   "execution_count": 37,
   "metadata": {},
   "outputs": [],
   "source": [
    "def label_total_dist(coords):\n",
    "    x_max, y_max = coords.max(axis=0) + 1\n",
    "    region = np.nan*np.zeros((x_max, y_max))\n",
    "    for x in range(x_max):\n",
    "        for y in range(y_max):\n",
    "            region[x, y] = np.sum(np.abs(coords - np.array([x, y])))\n",
    "    return region"
   ]
  },
  {
   "cell_type": "code",
   "execution_count": 38,
   "metadata": {},
   "outputs": [],
   "source": [
    "total_dist = label_total_dist(coords)"
   ]
  },
  {
   "cell_type": "code",
   "execution_count": 39,
   "metadata": {},
   "outputs": [
    {
     "data": {
      "text/plain": [
       "42966"
      ]
     },
     "execution_count": 39,
     "metadata": {},
     "output_type": "execute_result"
    }
   ],
   "source": [
    "np.sum(total_dist < 10000)"
   ]
  },
  {
   "cell_type": "markdown",
   "metadata": {},
   "source": [
    "# Day 7: The Sum of Its Parts \n",
    "You find yourself standing on a snow-covered coastline; apparently, you landed a little off course. The region is too hilly to see the North Pole from here, but you do spot some Elves that seem to be trying to unpack something that washed ashore. It's quite cold out, so you decide to risk creating a paradox by asking them for directions.\n",
    "\n",
    "\"Oh, are you the search party?\" Somehow, you can understand whatever Elves from the year 1018 speak; you assume it's Ancient Nordic Elvish. Could the device on your wrist also be a translator? \"Those clothes don't look very warm; take this.\" They hand you a heavy coat.\n",
    "\n",
    "\"We do need to find our way back to the North Pole, but we have higher priorities at the moment. You see, believe it or not, this box contains something that will solve all of Santa's transportation problems - at least, that's what it looks like from the pictures in the instructions.\" It doesn't seem like they can read whatever language it's in, but you can: \"Sleigh kit. Some assembly required.\"\n",
    "\n",
    "\"'Sleigh'? What a wonderful name! You must help us assemble this 'sleigh' at once!\" They start excitedly pulling more parts out of the box.\n",
    "\n",
    "The instructions specify a series of steps and requirements about which steps must be finished before others can begin (your puzzle input). Each step is designated by a single letter. For example, suppose you have the following instructions:\n",
    "\n",
    "    Step C must be finished before step A can begin.\n",
    "    Step C must be finished before step F can begin.\n",
    "    Step A must be finished before step B can begin.\n",
    "    Step A must be finished before step D can begin.\n",
    "    Step B must be finished before step E can begin.\n",
    "    Step D must be finished before step E can begin.\n",
    "    Step F must be finished before step E can begin.\n",
    "\n",
    "Visually, these requirements look like this:\n",
    "\n",
    "\n",
    "      -->A--->B--\n",
    "     /    \\      \\\n",
    "    C      -->D----->E\n",
    "     \\           /\n",
    "      ---->F-----\n",
    "Your first goal is to determine the order in which the steps should be completed. If more than one step is ready, choose the step which is first alphabetically. In this example, the steps would be completed as follows:\n",
    "\n",
    "- Only C is available, and so it is done first.\n",
    "- Next, both A and F are available. A is first alphabetically, so it is done next.\n",
    "- Then, even though F was available earlier, steps B and D are now also available, and B is the first alphabetically of the three.\n",
    "- After that, only D and F are available. E is not available because only some of its prerequisites are complete. Therefore, D is completed next.\n",
    "- F is the only choice, so it is done next.\n",
    "- Finally, E is completed.\n",
    "\n",
    "So, in this example, the correct order is CABDFE.\n",
    "\n",
    "In what order should the steps in your instructions be completed?\n",
    "\n",
    "Your puzzle answer was `SCLPAMQVUWNHODRTGYKBJEFXZI`."
   ]
  },
  {
   "cell_type": "code",
   "execution_count": 7,
   "metadata": {},
   "outputs": [],
   "source": [
    "step_dep = [[c[5], c[-12]] for c in read_input('day_07.txt').split('\\n')]"
   ]
  },
  {
   "cell_type": "code",
   "execution_count": 22,
   "metadata": {},
   "outputs": [],
   "source": [
    "def parse_dep(step_dep):\n",
    "    pre_cond, step = zip(*step_dep)\n",
    "    all_steps = list(set(pre_cond) | set(step))\n",
    "    deps = defaultdict(list)\n",
    "    for d in step_dep:\n",
    "        deps[d[1]].append(d[0])\n",
    "    for d in list(set(all_steps) - set(deps.keys())):\n",
    "        deps[d] = []\n",
    "    return deps"
   ]
  },
  {
   "cell_type": "code",
   "execution_count": 24,
   "metadata": {},
   "outputs": [],
   "source": [
    "deps = parse_dep(step_dep)"
   ]
  },
  {
   "cell_type": "code",
   "execution_count": 77,
   "metadata": {},
   "outputs": [],
   "source": [
    "def complete_steps(deps, n_helpers=0, step_base_time=60, display=False):\n",
    "    steps_taken = ''\n",
    "    steps_left = deps.keys()\n",
    "    workers = {n: [] for n in range(n_helpers+1)}\n",
    "    steps_in_progress = ''\n",
    "    time_taken = 0\n",
    "    while steps_left != []:\n",
    "        # List of all steps with no dependencies\n",
    "        next_steps = sorted([k for k, v in deps.iteritems() if v == [] and k not in steps_taken])\n",
    "        \n",
    "        # Allocate all available workers to the next available steps\n",
    "        for step in next_steps:\n",
    "            for w, v in workers.iteritems():\n",
    "                if step in steps_in_progress:\n",
    "                    break\n",
    "                if v == []:\n",
    "                    workers[w] = (step, step_base_time + ord(step) - ord('A') + 1)\n",
    "                    steps_in_progress += step\n",
    "        \n",
    "        if display:\n",
    "            # Show what workers are doing and time remaining\n",
    "            print(workers)\n",
    "        \n",
    "        # Increment time to next task completion\n",
    "        time_to_next_completed_step = min([v[1] for v in workers.values() if v != []])\n",
    "        time_taken += time_to_next_completed_step\n",
    "        \n",
    "        # Update time remaining\n",
    "        for w, v in workers.iteritems():\n",
    "            if v != []:\n",
    "                workers[w] = (workers[w][0], workers[w][1] - time_to_next_completed_step)\n",
    "        \n",
    "        # Record completed steps\n",
    "        for w, v in workers.iteritems():\n",
    "            if v != [] and v[1] == 0:\n",
    "                steps_taken += v[0]\n",
    "                steps_in_progress = ''.join(list(set(steps_in_progress) - set(v[0])))\n",
    "                workers[w] = []\n",
    "        \n",
    "        # Update dependencies to remove completed steps\n",
    "        deps = {k: list(set(v) - set(steps_taken)) for k, v in deps.iteritems()}\n",
    "        \n",
    "        # Update list of steps still to do\n",
    "        steps_left = list(set(steps_left) - set(steps_taken))\n",
    "    return steps_taken, time_taken"
   ]
  },
  {
   "cell_type": "code",
   "execution_count": 87,
   "metadata": {},
   "outputs": [
    {
     "name": "stdout",
     "output_type": "stream",
     "text": [
      "{0: ('S', 79), 1: [], 2: [], 3: [], 4: []}\n",
      "{0: ('C', 63), 1: [], 2: [], 3: [], 4: []}\n",
      "{0: ('L', 72), 1: ('P', 76), 2: [], 3: [], 4: []}\n",
      "{0: ('V', 82), 1: ('P', 4), 2: ('W', 83), 3: [], 4: []}\n",
      "{0: ('V', 78), 1: ('A', 61), 2: ('W', 79), 3: ('M', 73), 4: ('Q', 77)}\n",
      "{0: ('V', 17), 1: ('Y', 85), 2: ('W', 18), 3: ('M', 12), 4: ('Q', 16)}\n",
      "{0: ('V', 5), 1: ('Y', 73), 2: ('W', 6), 3: [], 4: ('Q', 4)}\n",
      "{0: ('V', 1), 1: ('Y', 69), 2: ('W', 2), 3: [], 4: []}\n",
      "{0: ('U', 81), 1: ('Y', 68), 2: ('W', 1), 3: [], 4: []}\n",
      "{0: ('U', 80), 1: ('Y', 67), 2: ('N', 74), 3: [], 4: []}\n",
      "{0: ('U', 13), 1: [], 2: ('N', 7), 3: [], 4: []}\n",
      "{0: ('U', 6), 1: ('H', 68), 2: [], 3: [], 4: []}\n",
      "{0: [], 1: ('H', 62), 2: [], 3: [], 4: []}\n",
      "{0: ('O', 75), 1: [], 2: [], 3: [], 4: []}\n",
      "{0: ('D', 64), 1: ('T', 80), 2: [], 3: [], 4: []}\n",
      "{0: ('R', 78), 1: ('T', 16), 2: [], 3: [], 4: []}\n",
      "{0: ('R', 62), 1: ('G', 67), 2: [], 3: [], 4: []}\n",
      "{0: [], 1: ('G', 5), 2: [], 3: [], 4: []}\n",
      "{0: ('K', 71), 1: [], 2: [], 3: [], 4: []}\n",
      "{0: ('B', 62), 1: [], 2: [], 3: [], 4: []}\n",
      "{0: ('J', 70), 1: [], 2: [], 3: [], 4: []}\n",
      "{0: ('E', 65), 1: [], 2: [], 3: [], 4: []}\n",
      "{0: ('F', 66), 1: [], 2: [], 3: [], 4: []}\n",
      "{0: ('X', 84), 1: [], 2: [], 3: [], 4: []}\n",
      "{0: ('Z', 86), 1: [], 2: [], 3: [], 4: []}\n",
      "{0: ('I', 69), 1: [], 2: [], 3: [], 4: []}\n"
     ]
    },
    {
     "data": {
      "text/plain": [
       "('SCLPAMQVWYNUHODTRGKBJEFXZI', 1234)"
      ]
     },
     "execution_count": 87,
     "metadata": {},
     "output_type": "execute_result"
    }
   ],
   "source": [
    "complete_steps(parse_dep(step_dep), n_helpers=4, display=True)"
   ]
  },
  {
   "cell_type": "markdown",
   "metadata": {},
   "source": [
    "# Part Two \n",
    "As you're about to begin construction, four of the Elves offer to help. \"The sun will set soon; it'll go faster if we work together.\" Now, you need to account for multiple people working on steps simultaneously. If multiple steps are available, workers should still begin them in alphabetical order.\n",
    "\n",
    "Each step takes 60 seconds plus an amount corresponding to its letter: A=1, B=2, C=3, and so on. So, step A takes 60+1=61 seconds, while step Z takes 60+26=86 seconds. No time is required between steps.\n",
    "\n",
    "To simplify things for the example, however, suppose you only have help from one Elf (a total of two workers) and that each step takes 60 fewer seconds (so that step A takes 1 second and step Z takes 26 seconds). Then, using the same instructions as above, this is how each second would be spent:\n",
    "\n",
    "    Second   Worker 1   Worker 2   Done\n",
    "       0        C          .        \n",
    "       1        C          .        \n",
    "       2        C          .        \n",
    "       3        A          F       C\n",
    "       4        B          F       CA\n",
    "       5        B          F       CA\n",
    "       6        D          F       CAB\n",
    "       7        D          F       CAB\n",
    "       8        D          F       CAB\n",
    "       9        D          .       CABF\n",
    "      10        E          .       CABFD\n",
    "      11        E          .       CABFD\n",
    "      12        E          .       CABFD\n",
    "      13        E          .       CABFD\n",
    "      14        E          .       CABFD\n",
    "      15        .          .       CABFDE\n",
    "      \n",
    "Each row represents one second of time. The Second column identifies how many seconds have passed as of the beginning of that second. Each worker column shows the step that worker is currently doing (or . if they are idle). The Done column shows completed steps.\n",
    "\n",
    "Note that the order of the steps has changed; this is because steps now take time to finish and multiple workers can begin multiple steps simultaneously.\n",
    "\n",
    "In this example, it would take 15 seconds for two workers to complete these steps.\n",
    "\n",
    "With 5 workers and the 60+ second step durations described above, how long will it take to complete all of the steps?\n",
    "\n",
    "Your puzzle answer was `1234`."
   ]
  },
  {
   "cell_type": "code",
   "execution_count": null,
   "metadata": {},
   "outputs": [],
   "source": []
  }
 ],
 "metadata": {
  "kernelspec": {
   "display_name": "conda_tensorflow_p27",
   "language": "python",
   "name": "conda_tensorflow_p27"
  },
  "language_info": {
   "codemirror_mode": {
    "name": "ipython",
    "version": 2
   },
   "file_extension": ".py",
   "mimetype": "text/x-python",
   "name": "python",
   "nbconvert_exporter": "python",
   "pygments_lexer": "ipython2",
   "version": "2.7.15"
  }
 },
 "nbformat": 4,
 "nbformat_minor": 2
}
